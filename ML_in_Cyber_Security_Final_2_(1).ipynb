{
  "nbformat": 4,
  "nbformat_minor": 0,
  "metadata": {
    "accelerator": "GPU",
    "colab": {
      "name": "ML_in_Cyber_Security_Final_2 (1).ipynb",
      "provenance": [],
      "collapsed_sections": []
    },
    "kernelspec": {
      "display_name": "Python 3",
      "language": "python",
      "name": "python3"
    },
    "language_info": {
      "codemirror_mode": {
        "name": "ipython",
        "version": 3
      },
      "file_extension": ".py",
      "mimetype": "text/x-python",
      "name": "python",
      "nbconvert_exporter": "python",
      "pygments_lexer": "ipython3",
      "version": "3.8.8"
    }
  },
  "cells": [
    {
      "cell_type": "code",
      "metadata": {
        "id": "3ewNwfFvbFaR"
      },
      "source": [
        "import time \n",
        " \n",
        "import numpy as np \n",
        "import matplotlib.pyplot as plt \n",
        "\n",
        "import json \n",
        "import time \n",
        "import pickle \n",
        "import sys \n",
        "import csv \n",
        "import os \n",
        "import os.path as osp \n",
        "import shutil \n",
        "\n",
        "import pandas as pd\n",
        "\n",
        "from IPython.display import display, HTML\n",
        " \n",
        "%matplotlib inline \n",
        "plt.rcParams['figure.figsize'] = (10.0, 8.0) # set default size of plots \n",
        "plt.rcParams['image.interpolation'] = 'nearest' \n",
        "plt.rcParams['image.cmap'] = 'gray' \n",
        " \n",
        "# for auto-reloading external modules \n",
        "# see http://stackoverflow.com/questions/1907993/autoreload-of-modules-in-ipython \n",
        "%load_ext autoreload\n",
        "%autoreload 2"
      ],
      "execution_count": null,
      "outputs": []
    },
    {
      "cell_type": "code",
      "metadata": {
        "id": "640GrzbOevr0"
      },
      "source": [
        "# Load other libraries here.\n",
        "# Keep it minimal! We should be easily able to reproduce your code.\n",
        "import sys\n",
        "'''import torch\n",
        "import torch.nn as nn\n",
        "import torch.nn.functional as F\n",
        "import torch.optim as optim\n",
        "from torchvision import datasets, transforms\n",
        "from torch.autograd import Variable\n",
        "from torch.utils.data.sampler import SubsetRandomSampler'''\n",
        "from __future__ import print_function\n",
        "from sklearn.datasets import  fetch_openml\n",
        "from joblib import dump, load\n",
        "from sklearn.model_selection import GridSearchCV\n",
        "# We only support sklearn and pytorch.\n",
        "\n",
        "# Please set random seed to have reproduceable results, e.g. torch.manual_seed(123)\n",
        "#torch.manual_seed(1)"
      ],
      "execution_count": null,
      "outputs": []
    },
    {
      "cell_type": "markdown",
      "metadata": {
        "id": "nxi-lLD0mKHD"
      },
      "source": [
        "Helpers\n",
        "\n",
        "In case you choose to have some methods you plan to reuse during the notebook, define them here. This will avoid clutter and keep rest of the notebook succinct."
      ]
    },
    {
      "cell_type": "code",
      "metadata": {
        "id": "VBbigqdEmKd8"
      },
      "source": [
        "\n",
        "# You can use this function to flatten 2D inputs\n",
        "def flatten_input_pixels(x_input):\n",
        "    result = []\n",
        "    for i in range(len(x_input)):\n",
        "        result.append(x_input[i].flatten())\n",
        "    return np.array(result, np.uint8)  # [n_samples, n_features]\n",
        "\n",
        "\n",
        "# You can use this function to plot the accuracy of the models with different parametes\n",
        "def plot_scores(x, y, title = \"Title\", x_label = \"X\", y_label = \"Y\"):\n",
        "    fig, ax = plt.subplots(nrows=1,ncols=1)\n",
        "\n",
        "    ax.plot(x, y)\n",
        "    ax.set_xticks(x)\n",
        "    ax.set_title(title)\n",
        "    ax.set_xlabel(x_label)\n",
        "    ax.set_ylabel(y_label)\n",
        "    ax.set_ylim(0.8, 1.0)\n",
        "    plt.xticks(rotation=90)\n",
        "\n",
        "# You can use this function to visualize input images and the predictions of your models\n",
        "# \"y_pred\" is output of your model \n",
        "# \"n_val\" is number of instances in test or validation sets\n",
        "def vis_predictions(x_eval, y_pred, n_val):\n",
        "    rows, cols = 4, 3\n",
        "\n",
        "    fig,ax = plt.subplots(nrows = rows, ncols = cols)\n",
        "\n",
        "    ids = np.random.randint(0,n_val,rows*cols)\n",
        "    for i in range(cols):   \n",
        "        for j in range(rows):\n",
        "          #print('y predict : ',(y_pred[torch.max[j]]))\n",
        "          ax[j][i].set_title('predicted label: {0}'. format(y_pred[ids[(i*rows)+j]]))\n",
        "          two_d = (np.reshape(x_eval[ids[(i*rows)+j]], (28, 28)))\n",
        "          ax[j][i].imshow(two_d)\n",
        "          ax[j][i].axes.get_xaxis().set_visible(False)\n",
        "          ax[j][i].axes.get_yaxis().set_visible(False)\n",
        "\n",
        "\n",
        "    plt.tight_layout()  "
      ],
      "execution_count": null,
      "outputs": []
    },
    {
      "cell_type": "markdown",
      "metadata": {
        "id": "n1pcmKkyjT7y"
      },
      "source": [
        "# 1. Loading and Visualizing data \n",
        "\n",
        "In this section, you'll need to prepare the MNIST data for the experiments you'll be conducting for the remainder of the notebook."
      ]
    },
    {
      "cell_type": "markdown",
      "metadata": {
        "id": "AIU9Q762fmoT"
      },
      "source": [
        "## 1.1. Load Data\n",
        "\n",
        "Here you'll load the MNIST data into memory. The end-goal is to two have the following variables:\n",
        "  * `x_trainval`, `x_test`: of shape $N \\times d_1 \\times d_2 \\dots$ (e.g., $N \\times 784$. 784 since you could flatten each 28x28 pixel image into a single vector)\n",
        "  * `y_trainval`, `y_test`: of shape $N \\times K$ (K = 1 or 10 depending on how you plan to represent the ground-truth digit annotation)\n",
        "\n",
        "You can either do this by:\n",
        "  1. Downloading the MNIST dataset, unpacking and preparing it yourself to have fine-grained control\n",
        "  1. Using high-level existing functions, such as the one provided by  [`torchvision.datasets`](https://pytorch.org/docs/stable/torchvision/datasets.html#mnist).\n",
        "  \n",
        "  \n",
        "  In either case, it is important that you have disjoint train, val, and test splits!"
      ]
    },
    {
      "cell_type": "code",
      "metadata": {
        "colab": {
          "base_uri": "https://localhost:8080/"
        },
        "id": "7kYacpo_jvao",
        "outputId": "a26f19b2-3ead-41eb-be44-2609c5e27b98"
      },
      "source": [
        "mnist = fetch_openml(\"mnist_784\")\n",
        "mnist.keys()\n",
        "mnist\n",
        "images = mnist['data']\n",
        "targets = mnist['target']\n",
        "print(type(images),type(targets))\n",
        "print(images.shape,targets.shape)\n",
        "print(np.unique(targets))\n",
        "from sklearn.model_selection import train_test_split\n",
        "#Normalization\n",
        "#images = images/255.0\n",
        "x_train, x_test, y_train, y_test = train_test_split(images, targets, test_size=0.20, random_state=100)\n",
        "\n",
        "print('x_train.shape = {},  y_train.shape = {}'.format(x_train.shape, y_train.shape))\n",
        "print('x_test.shape = {},  y_test.shape = {}'.format(x_test.shape, y_test.shape))\n",
        "\n",
        "#\n",
        "# Feel free to have multiple variables in case your models are designed for different formats\n",
        "# For instance, in case your model requires Nx28x28 inputs, declare x_trainval_3d, etc.\n",
        "\n",
        "# Tip: Set this to a tiny number (such 0.05) to aid debugging\n",
        "# After all, you do not want to train/evaluate on the entire dataset to find bugs\n",
        "DEBUG_FRAC = 1.0\n",
        "x_trainval = x_train[:int(len(x_train)*DEBUG_FRAC)]\n",
        "y_trainval = y_train[:int(len(y_train)*DEBUG_FRAC)]\n"
      ],
      "execution_count": null,
      "outputs": [
        {
          "name": "stdout",
          "output_type": "stream",
          "text": [
            "<class 'pandas.core.frame.DataFrame'> <class 'pandas.core.series.Series'>\n",
            "(70000, 784) (70000,)\n",
            "['0' '1' '2' '3' '4' '5' '6' '7' '8' '9']\n",
            "x_train.shape = (56000, 784),  y_train.shape = (56000,)\n",
            "x_test.shape = (14000, 784),  y_test.shape = (14000,)\n"
          ]
        }
      ]
    },
    {
      "cell_type": "markdown",
      "metadata": {
        "id": "eA6_cejNjzYw"
      },
      "source": [
        "#### 1.2. Visualize Data\n",
        "\n",
        "To get the hang of your data we'll be training a digit classifier on, visualize it.\n",
        "\n",
        "Examples of ways to visualize it:\n",
        "  * Given a digit, display few randomly sampled images for this digit (the bare minimum)\n",
        "  * Visualize as a grid using a combination of `plt.imshow` and `plt.subplots`\n",
        "  \n",
        "It's up to you to decide how you want to do this. The end-goal is for you to potentially give a trailer of the dataset to someone who hasn't seen it before."
      ]
    },
    {
      "cell_type": "code",
      "metadata": {
        "id": "dISIbt4plyoD",
        "outputId": "dc475759-16e8-4d9e-a406-17ca96c00dbf"
      },
      "source": [
        "# Visualize 10 examples of 10 classes. You can extend the following code:\n",
        "rows, cols = 10, 10\n",
        "fig,ax = plt.subplots(nrows = rows, ncols = cols, figsize=(17,17))\n",
        "axis= ax.ravel() #flatten the 10 x 100 matrix into 100 array\n",
        "n_training= len(x_train)\n",
        "images= np.array(images)\n",
        "for i in np.arange(0, rows*cols): #create evenly space variable\n",
        "    \n",
        "    #select a random number\n",
        "    index=np.random.randint(0, n_training)\n",
        "    #Read and display an image with the selected index\n",
        "    axis[i].imshow(images[index, 0:].reshape(28,28))\n",
        "    axis[i].set_title(targets[index], fontsize=12)\n",
        "    axis[i].axis('off')\n",
        "\n",
        "plt.subplots_adjust(hspace=0.4)\n",
        "\n",
        "plt.savefig('fig1.pdf')   # Save the figures\n",
        "plt.show()   # These should be some visualization of data at the end of this section\n",
        "\n",
        "# You can see an output example in the follow:"
      ],
      "execution_count": null,
      "outputs": [
        {
          "data": {
            "image/png": "[encoded data removed]",
            "text/plain": [
              "<Figure size 1224x1224 with 100 Axes>"
            ]
          },
          "metadata": {
            "needs_background": "light"
          },
          "output_type": "display_data"
        }
      ]
    },
    {
      "cell_type": "markdown",
      "metadata": {
        "id": "b8sAT53jmJ8_"
      },
      "source": [
        "# 2. Digit classifiers\n",
        "\n",
        "In this section, we'll begin developing models to perform digit classification.\n",
        "\n",
        "\n",
        "  1. A brief reason which model we are going to train and why we choose it\n",
        "  1. Define hyper-parameters for model and optimization procedure\n",
        "  1. Define our model\n",
        "  1. Define optimization method and fit model to data\n",
        "  1. Summarize our findings\n",
        "\n",
        "\n",
        "\n",
        "\n",
        "\n"
      ]
    },
    {
      "cell_type": "markdown",
      "metadata": {
        "id": "xkF-7eFnpWoe"
      },
      "source": [
        "## 2.1: Model [M1]: K-Nearest Neighbors (25 points)\n",
        "\n",
        "* K-Nearest Neighbors is one of the simplest Machine Learning algorithms based on Supervised Learning technique that captures the idea of similarity, meaning similar things exist in close proximity. K-NN is a non-parametric algorithm, which means it does not make any assumption on underlying data. KNN algorithms decide a number k which is the nearest Neighbor to that data point that is to be classified. If the value of k is 5 it will look for 5 nearest Neighbors to that data point. \n",
        "* We choose KNN because its simple and easy to implement, more effective for larger training data and there is a flexibility to choose different distance metrics (Euclidean, Minkowski, Manhattan distance etc.) that is best suited. It is also called a lazy learner algorithm because it does not learn from the training set immediately instead it stores the dataset and at the time of classification, it performs an action on the dataset. This property of KNN makes the computation faster and eventually it takes less time for training."
      ]
    },
    {
      "cell_type": "markdown",
      "metadata": {
        "id": "lVyT9Oddp3GB"
      },
      "source": [
        "### 2.1.1: Hyper-parameters\n",
        "\n",
        "Defining hyper-parameters for our model here"
      ]
    },
    {
      "cell_type": "code",
      "metadata": {
        "id": "yuHt4T7Vp5NC"
      },
      "source": [
        "# hyperparameters for KNN\n",
        "n_neighbors = [1,3,5,7,10]\n",
        "leaf_size= [10,20,30,40]\n",
        "\n",
        "test_set = 'test'  #  or 'test'\n",
        "# Decide all your hyperparameters based on validation performance\n",
        "# Then, switch to 'test' for final evaluation\n",
        "index_trainval= list(x_trainval.index.values) \n",
        "if test_set == 'val':\n",
        "    train_idxs, val_idxs = 10000, 15000 # Fill in\n",
        "    x_train, y_train = x_trainval[0: train_idxs], y_trainval[0: train_idxs]\n",
        "    x_eval, y_eval = x_trainval[train_idxs: val_idxs], y_trainval[train_idxs: val_idxs]\n",
        "else:\n",
        "    x_train, y_train = x_trainval, y_trainval\n",
        "    x_eval, y_eval = x_test, y_test\n",
        "\n"
      ],
      "execution_count": null,
      "outputs": []
    },
    {
      "cell_type": "markdown",
      "metadata": {
        "id": "-ZhVgrFM01FF"
      },
      "source": [
        "### 2.1.2: Data Preprocessing\n"
      ]
    },
    {
      "cell_type": "code",
      "metadata": {
        "id": "vzJ1X7ek01FF"
      },
      "source": [
        "# Normalize the data\n",
        "from sklearn.preprocessing import StandardScaler\n",
        "scaler = StandardScaler()\n",
        "x_train = scaler.fit_transform(x_train)\n",
        "x_eval = scaler.transform(x_eval)\n",
        "\n"
      ],
      "execution_count": null,
      "outputs": []
    },
    {
      "cell_type": "markdown",
      "metadata": {
        "id": "pkuCgPatp59X"
      },
      "source": [
        "### 2.1.3: Model\n",
        "\n",
        "Defining our model here"
      ]
    },
    {
      "cell_type": "code",
      "metadata": {
        "id": "3qV3SuPAp6XF"
      },
      "source": [
        "# KNN Model\n",
        "from sklearn.neighbors import KNeighborsClassifier\n",
        "neigh = KNeighborsClassifier()"
      ],
      "execution_count": null,
      "outputs": []
    },
    {
      "cell_type": "markdown",
      "metadata": {
        "id": "SxE6d6OXp6sU"
      },
      "source": [
        "### 2.1.4: Fit Model\n",
        "\n",
        "Defining optimization procedure and fit our model to the data"
      ]
    },
    {
      "cell_type": "code",
      "metadata": {
        "id": "08tLwuchp68-",
        "outputId": "b67b487c-e870-4935-fd65-5ee4e6c60222"
      },
      "source": [
        "neigh.fit(x_train, y_train)"
      ],
      "execution_count": null,
      "outputs": [
        {
          "data": {
            "text/plain": [
              "KNeighborsClassifier()"
            ]
          },
          "execution_count": 7,
          "metadata": {},
          "output_type": "execute_result"
        }
      ]
    },
    {
      "cell_type": "markdown",
      "metadata": {
        "id": "QaJv_d_Dp7OM"
      },
      "source": [
        "### 2.1.5: Evaluation\n",
        "\n",
        "Evaluate our model.\n",
        "  * Evaluate models with different parameters \n",
        "  * Plot the score (accuracy) for each model using \"plot_scores\" function\n",
        "  * Report score for the best model\n",
        "  * Use \"vis_predictions\" function to visualize few examples of test/validation set with the corresponding predictions\n"
      ]
    },
    {
      "cell_type": "code",
      "metadata": {
        "id": "kZtLgPZrp7h5",
        "outputId": "5bcb914e-fb4a-49dd-de4c-e4ac836ce3bc"
      },
      "source": [
        "#Accuracy of base model\n",
        "neigh.score(x_eval, y_eval)"
      ],
      "execution_count": null,
      "outputs": [
        {
          "data": {
            "text/plain": [
              "0.9154"
            ]
          },
          "execution_count": 8,
          "metadata": {},
          "output_type": "execute_result"
        }
      ]
    },
    {
      "cell_type": "code",
      "metadata": {
        "id": "MMXPfaSSCtsD",
        "outputId": "95a5b2d7-c19d-4469-a862-9e1c98cc9c1f"
      },
      "source": [
        "#Tuning the hyperparameters using Grid Search\n",
        "param_grid = dict(n_neighbors=n_neighbors, leaf_size=leaf_size)\n",
        "grid= GridSearchCV(neigh, param_grid, refit= True, verbose=4, cv=3, n_jobs=1)\n",
        "grid.fit(x_train, y_train)\n"
      ],
      "execution_count": null,
      "outputs": [
        {
          "name": "stdout",
          "output_type": "stream",
          "text": [
            "Fitting 3 folds for each of 20 candidates, totalling 60 fits\n",
            "[CV 1/3] END ....................leaf_size=10, n_neighbors=1; total time=   0.6s\n",
            "[CV 2/3] END ....................leaf_size=10, n_neighbors=1; total time=   0.5s\n",
            "[CV 3/3] END ....................leaf_size=10, n_neighbors=1; total time=   0.5s\n",
            "[CV 1/3] END ....................leaf_size=10, n_neighbors=3; total time=   0.5s\n",
            "[CV 2/3] END ....................leaf_size=10, n_neighbors=3; total time=   0.5s\n",
            "[CV 3/3] END ....................leaf_size=10, n_neighbors=3; total time=   0.5s\n",
            "[CV 1/3] END ....................leaf_size=10, n_neighbors=5; total time=   0.7s\n",
            "[CV 2/3] END ....................leaf_size=10, n_neighbors=5; total time=   0.7s\n",
            "[CV 3/3] END ....................leaf_size=10, n_neighbors=5; total time=   0.6s\n",
            "[CV 1/3] END ....................leaf_size=10, n_neighbors=7; total time=   0.7s\n",
            "[CV 2/3] END ....................leaf_size=10, n_neighbors=7; total time=   0.7s\n",
            "[CV 3/3] END ....................leaf_size=10, n_neighbors=7; total time=   0.7s\n",
            "[CV 1/3] END ...................leaf_size=10, n_neighbors=10; total time=   0.7s\n",
            "[CV 2/3] END ...................leaf_size=10, n_neighbors=10; total time=   0.7s\n",
            "[CV 3/3] END ...................leaf_size=10, n_neighbors=10; total time=   0.6s\n",
            "[CV 1/3] END ....................leaf_size=20, n_neighbors=1; total time=   0.6s\n",
            "[CV 2/3] END ....................leaf_size=20, n_neighbors=1; total time=   0.5s\n",
            "[CV 3/3] END ....................leaf_size=20, n_neighbors=1; total time=   0.5s\n",
            "[CV 1/3] END ....................leaf_size=20, n_neighbors=3; total time=   0.6s\n",
            "[CV 2/3] END ....................leaf_size=20, n_neighbors=3; total time=   0.6s\n",
            "[CV 3/3] END ....................leaf_size=20, n_neighbors=3; total time=   0.6s\n",
            "[CV 1/3] END ....................leaf_size=20, n_neighbors=5; total time=   0.7s\n",
            "[CV 2/3] END ....................leaf_size=20, n_neighbors=5; total time=   0.6s\n",
            "[CV 3/3] END ....................leaf_size=20, n_neighbors=5; total time=   0.6s\n",
            "[CV 1/3] END ....................leaf_size=20, n_neighbors=7; total time=   0.7s\n",
            "[CV 2/3] END ....................leaf_size=20, n_neighbors=7; total time=   0.7s\n",
            "[CV 3/3] END ....................leaf_size=20, n_neighbors=7; total time=   0.6s\n",
            "[CV 1/3] END ...................leaf_size=20, n_neighbors=10; total time=   0.7s\n",
            "[CV 2/3] END ...................leaf_size=20, n_neighbors=10; total time=   0.7s\n",
            "[CV 3/3] END ...................leaf_size=20, n_neighbors=10; total time=   0.6s\n",
            "[CV 1/3] END ....................leaf_size=30, n_neighbors=1; total time=   0.5s\n",
            "[CV 2/3] END ....................leaf_size=30, n_neighbors=1; total time=   0.5s\n",
            "[CV 3/3] END ....................leaf_size=30, n_neighbors=1; total time=   0.5s\n",
            "[CV 1/3] END ....................leaf_size=30, n_neighbors=3; total time=   0.5s\n",
            "[CV 2/3] END ....................leaf_size=30, n_neighbors=3; total time=   0.6s\n",
            "[CV 3/3] END ....................leaf_size=30, n_neighbors=3; total time=   0.6s\n",
            "[CV 1/3] END ....................leaf_size=30, n_neighbors=5; total time=   0.7s\n",
            "[CV 2/3] END ....................leaf_size=30, n_neighbors=5; total time=   0.6s\n",
            "[CV 3/3] END ....................leaf_size=30, n_neighbors=5; total time=   0.6s\n",
            "[CV 1/3] END ....................leaf_size=30, n_neighbors=7; total time=   0.7s\n",
            "[CV 2/3] END ....................leaf_size=30, n_neighbors=7; total time=   0.7s\n",
            "[CV 3/3] END ....................leaf_size=30, n_neighbors=7; total time=   0.6s\n",
            "[CV 1/3] END ...................leaf_size=30, n_neighbors=10; total time=   0.7s\n",
            "[CV 2/3] END ...................leaf_size=30, n_neighbors=10; total time=   0.7s\n",
            "[CV 3/3] END ...................leaf_size=30, n_neighbors=10; total time=   0.7s\n",
            "[CV 1/3] END ....................leaf_size=40, n_neighbors=1; total time=   0.5s\n",
            "[CV 2/3] END ....................leaf_size=40, n_neighbors=1; total time=   0.5s\n",
            "[CV 3/3] END ....................leaf_size=40, n_neighbors=1; total time=   0.5s\n",
            "[CV 1/3] END ....................leaf_size=40, n_neighbors=3; total time=   0.6s\n",
            "[CV 2/3] END ....................leaf_size=40, n_neighbors=3; total time=   0.5s\n",
            "[CV 3/3] END ....................leaf_size=40, n_neighbors=3; total time=   0.5s\n",
            "[CV 1/3] END ....................leaf_size=40, n_neighbors=5; total time=   0.7s\n",
            "[CV 2/3] END ....................leaf_size=40, n_neighbors=5; total time=   0.6s\n",
            "[CV 3/3] END ....................leaf_size=40, n_neighbors=5; total time=   0.7s\n",
            "[CV 1/3] END ....................leaf_size=40, n_neighbors=7; total time=   0.7s\n",
            "[CV 2/3] END ....................leaf_size=40, n_neighbors=7; total time=   0.8s\n",
            "[CV 3/3] END ....................leaf_size=40, n_neighbors=7; total time=   0.8s\n",
            "[CV 1/3] END ...................leaf_size=40, n_neighbors=10; total time=   1.2s\n",
            "[CV 2/3] END ...................leaf_size=40, n_neighbors=10; total time=   1.2s\n",
            "[CV 3/3] END ...................leaf_size=40, n_neighbors=10; total time=   1.0s\n"
          ]
        },
        {
          "data": {
            "text/plain": [
              "GridSearchCV(cv=3, estimator=KNeighborsClassifier(), n_jobs=1,\n",
              "             param_grid={'leaf_size': [10, 20, 30, 40],\n",
              "                         'n_neighbors': [1, 3, 5, 7, 10]},\n",
              "             verbose=4)"
            ]
          },
          "execution_count": 10,
          "metadata": {},
          "output_type": "execute_result"
        }
      ]
    },
    {
      "cell_type": "code",
      "metadata": {
        "id": "nlvnZf9wCtsD",
        "outputId": "9ec1a3f4-4b41-4ed8-9b8e-5e775b1f76a1"
      },
      "source": [
        "#Best hyperparameters\n",
        "print(grid.best_params_)"
      ],
      "execution_count": null,
      "outputs": [
        {
          "name": "stdout",
          "output_type": "stream",
          "text": [
            "{'leaf_size': 10, 'n_neighbors': 5}\n"
          ]
        }
      ]
    },
    {
      "cell_type": "code",
      "metadata": {
        "id": "mYUCIHijCtsD",
        "outputId": "64393172-93a6-4c4a-cf17-55e3c6dda051"
      },
      "source": [
        "y_pred= grid.predict(x_eval)\n",
        "\n",
        "#Save the final model\n",
        "dump(grid, 'KNN.joblib')"
      ],
      "execution_count": null,
      "outputs": [
        {
          "data": {
            "text/plain": [
              "['KNN.joblib']"
            ]
          },
          "execution_count": 13,
          "metadata": {},
          "output_type": "execute_result"
        }
      ]
    },
    {
      "cell_type": "code",
      "metadata": {
        "id": "RodqG5q-CtsE"
      },
      "source": [
        "parameters= grid.cv_results_['params']\n",
        "accuracy=grid.cv_results_['mean_test_score']\n",
        "par=[]\n",
        "for i in parameters:\n",
        "    s= str(i)\n",
        "    par.append(s)"
      ],
      "execution_count": null,
      "outputs": []
    },
    {
      "cell_type": "code",
      "metadata": {
        "id": "QFnNiFCI01FH",
        "outputId": "610a279e-baa3-4dec-80b4-85b3f715ae48"
      },
      "source": [
        "# Here plot score (accuracy) for each model. You can use \"plot_scores\" function.\n",
        "plot_scores(par, accuracy, title = \"Accuracy vs Parameters in KNN model\", x_label = \"No. of different hyperparameters\", y_label = \"Accuracy\")\n"
      ],
      "execution_count": null,
      "outputs": [
        {
          "data": {
            "image/png": "[encoded data removed]",
            "text/plain": [
              "<Figure size 720x576 with 1 Axes>"
            ]
          },
          "metadata": {
            "needs_background": "light"
          },
          "output_type": "display_data"
        }
      ]
    },
    {
      "cell_type": "code",
      "metadata": {
        "id": "xZ_OYghL01FH",
        "outputId": "a81e62db-356f-4bd9-bb7e-0a279fa08167"
      },
      "source": [
        "# Here report the score for the best model\n",
        "print(\"The best model score having hyperparameter {} is:\".format(grid.best_params_),max(accuracy))"
      ],
      "execution_count": null,
      "outputs": [
        {
          "name": "stdout",
          "output_type": "stream",
          "text": [
            "The best model score having hyperparameter {'leaf_size': 10, 'n_neighbors': 5} is: 0.9035999280791908\n"
          ]
        }
      ]
    },
    {
      "cell_type": "code",
      "metadata": {
        "id": "UXygRW8D01FH",
        "outputId": "92091f4c-ebd2-48c8-d421-289df9077a99"
      },
      "source": [
        "# Visualize the predictions\n",
        "# Example: vis_predictions(x_eval, y_pred, size_of_data)\n",
        "vis_predictions(x_eval, y_pred, len(x_eval))\n"
      ],
      "execution_count": null,
      "outputs": [
        {
          "data": {
            "image/png": "[encoded data removed]",
            "text/plain": [
              "<Figure size 720x576 with 12 Axes>"
            ]
          },
          "metadata": {
            "needs_background": "light"
          },
          "output_type": "display_data"
        }
      ]
    },
    {
      "cell_type": "markdown",
      "metadata": {
        "id": "DEQrdyLHsUIu"
      },
      "source": [
        "### 2.1.6: Summary\n",
        "\n",
        "Summarize our findings:\n",
        " * Which hyper-parameters were important and how did they influence our results?\n",
        " * What were other design choices we faced?\n",
        " * other interesting insights..."
      ]
    },
    {
      "cell_type": "markdown",
      "metadata": {
        "id": "WkbcZUxYCtsF"
      },
      "source": [
        "### Findings\n",
        "\n",
        "* The number of leaf nodes and the number of neighbors are the two most important hyper-parameters for the KNN model. We got the best accuracy for the following parameter values: Leaf_size = 10 and Number of neighbors = 5. From the above graph, we can observe that the accuracy is maximum for the number of neighbors = 5 for any number of leaf nodes ie, 10, 20, 30, 40. Also, accuracy is decreasing as the number of leaf nodes are increasing.\n",
        "\n",
        "* At low K values, there is chance of overfitting of data/high variance. Therefore test accuracy is low and train accuracy is high. At K=1 in train data, the error is always zero, because the nearest neighbor to that point is that point itself. Therefore though training error is low test error is high at lower K values. Therefore, as k value increases the test error will decrease and accuracy will increase. But, again higher value of K can lead to underfitting problem. So, to choose a optimal value of K we have used Grid Search algorithim."
      ]
    },
    {
      "cell_type": "markdown",
      "metadata": {
        "id": "Fcq52WUUs2Mm"
      },
      "source": [
        "# 2.2: Model [M2]: Support Vector Machine\n",
        "\n",
        "* Support Vector Machines are supervised machine learning algorithms that is used to find a hyperplane in an N-dimensional space that distinctly classifies the data points. SVM works with the help of support vectors that are sample data points closest to the hyperplane. These data points will define the separating line or hyperplane better by calculating margins. In SVMs, we try to maximize the separation gap so that we get maximum margin. A margin is a separation gap between the two lines on the closest data points that is calculated as the perpendicular distance from the line to support vectors or closest data points.\n",
        "\n",
        "* We chose SVM as it works really well with a clear margin of separation, effective in high dimensional spaces. And last but not the least SVM can work well with image data as well."
      ]
    },
    {
      "cell_type": "markdown",
      "metadata": {
        "id": "7XPGNsr701FI"
      },
      "source": [
        "### 2.2.1: Hyper-parameters\n",
        "\n",
        "Define hyper-parameters for your method here"
      ]
    },
    {
      "cell_type": "code",
      "metadata": {
        "id": "1V-aANfA01FI"
      },
      "source": [
        "C= [0.1, 1, 10, 100]\n",
        "gamma= [1, 0.1, 0.01, 0.001]\n",
        "kernel=['linear','rbf']"
      ],
      "execution_count": null,
      "outputs": []
    },
    {
      "cell_type": "markdown",
      "metadata": {
        "id": "nure4xC_01FK"
      },
      "source": [
        "### 2.2.2: Data Preprocessing\n"
      ]
    },
    {
      "cell_type": "code",
      "metadata": {
        "id": "ak3VMb8S01FK"
      },
      "source": [
        "# Using from 2.1.2\n"
      ],
      "execution_count": null,
      "outputs": []
    },
    {
      "cell_type": "markdown",
      "metadata": {
        "id": "6oHcWedF01FK"
      },
      "source": [
        "### 2.2.3: Model\n",
        "\n",
        "Define your model here (all hyper-parameters in 2.1.1)"
      ]
    },
    {
      "cell_type": "code",
      "metadata": {
        "id": "RalMhJvZ01FK"
      },
      "source": [
        "# Using SVM Classifier\n",
        "from sklearn.svm import SVC\n",
        "clf = SVC()\n"
      ],
      "execution_count": null,
      "outputs": []
    },
    {
      "cell_type": "markdown",
      "metadata": {
        "id": "C5k8P8PP01FL"
      },
      "source": [
        "### 2.2.4: Fit Model\n"
      ]
    },
    {
      "cell_type": "code",
      "metadata": {
        "id": "DS0sDmha01FL",
        "scrolled": true,
        "outputId": "2adf7382-0f12-45b2-ef4a-4ff7a6cb998d"
      },
      "source": [
        "clf.fit(x_train, y_train)"
      ],
      "execution_count": null,
      "outputs": [
        {
          "data": {
            "text/plain": [
              "SVC()"
            ]
          },
          "execution_count": 12,
          "metadata": {},
          "output_type": "execute_result"
        }
      ]
    },
    {
      "cell_type": "markdown",
      "metadata": {
        "id": "gNQKy7a901FL"
      },
      "source": [
        "### 2.2.5: Evaluation\n",
        "\n",
        "Evaluate our model.\n",
        "  * Evaluate models with different parameters \n",
        "  * Plot score (accuracy) for each model using \"plot_scores\" function\n",
        "  * Report the score for the best model\n",
        "  * Use \"vis_predictions\" function to visualize few examples of test/validation set with the corresponding predictions\n"
      ]
    },
    {
      "cell_type": "code",
      "metadata": {
        "id": "mEAqtlnMCtsH",
        "outputId": "38bde218-df2a-4fa8-fe2f-4aa406707bf7"
      },
      "source": [
        "#Accuracy of base model\n",
        "from sklearn import metrics\n",
        "y_predict_svm= clf.predict(x_eval)\n",
        "print(metrics.accuracy_score(y_eval,y_predict_svm))"
      ],
      "execution_count": null,
      "outputs": [
        {
          "name": "stdout",
          "output_type": "stream",
          "text": [
            "0.9392\n"
          ]
        }
      ]
    },
    {
      "cell_type": "code",
      "metadata": {
        "id": "QPb7W6iuCtsH",
        "outputId": "ac5917b4-78a9-4aff-8603-c2e2346e33ae"
      },
      "source": [
        "#Tuning the hyperparameters using Grid Search\n",
        "from sklearn.model_selection import GridSearchCV\n",
        "param_grid_svm = dict(C=C, gamma=gamma, kernel=kernel)\n",
        "grid_svm= GridSearchCV(clf, param_grid_svm, refit= True, verbose=4, cv=3)\n",
        "grid_svm.fit(x_train, y_train)"
      ],
      "execution_count": null,
      "outputs": [
        {
          "name": "stdout",
          "output_type": "stream",
          "text": [
            "Fitting 3 folds for each of 32 candidates, totalling 96 fits\n",
            "[CV 1/3] END ..................C=0.1, gamma=1, kernel=linear; total time=   3.7s\n",
            "[CV 2/3] END ..................C=0.1, gamma=1, kernel=linear; total time=   3.7s\n",
            "[CV 3/3] END ..................C=0.1, gamma=1, kernel=linear; total time=   3.7s\n",
            "[CV 1/3] END .....................C=0.1, gamma=1, kernel=rbf; total time=  33.3s\n",
            "[CV 2/3] END .....................C=0.1, gamma=1, kernel=rbf; total time=  33.8s\n",
            "[CV 3/3] END .....................C=0.1, gamma=1, kernel=rbf; total time=  34.2s\n",
            "[CV 1/3] END ................C=0.1, gamma=0.1, kernel=linear; total time=   3.6s\n",
            "[CV 2/3] END ................C=0.1, gamma=0.1, kernel=linear; total time=   3.7s\n",
            "[CV 3/3] END ................C=0.1, gamma=0.1, kernel=linear; total time=   3.7s\n",
            "[CV 1/3] END ...................C=0.1, gamma=0.1, kernel=rbf; total time=  31.2s\n",
            "[CV 2/3] END ...................C=0.1, gamma=0.1, kernel=rbf; total time=  31.4s\n",
            "[CV 3/3] END ...................C=0.1, gamma=0.1, kernel=rbf; total time=  31.2s\n",
            "[CV 1/3] END ...............C=0.1, gamma=0.01, kernel=linear; total time=   3.8s\n",
            "[CV 2/3] END ...............C=0.1, gamma=0.01, kernel=linear; total time=   3.8s\n",
            "[CV 3/3] END ...............C=0.1, gamma=0.01, kernel=linear; total time=   3.7s\n",
            "[CV 1/3] END ..................C=0.1, gamma=0.01, kernel=rbf; total time=  33.9s\n",
            "[CV 2/3] END ..................C=0.1, gamma=0.01, kernel=rbf; total time=  46.3s\n",
            "[CV 3/3] END ..................C=0.1, gamma=0.01, kernel=rbf; total time=  56.1s\n",
            "[CV 1/3] END ..............C=0.1, gamma=0.001, kernel=linear; total time=   5.4s\n",
            "[CV 2/3] END ..............C=0.1, gamma=0.001, kernel=linear; total time=   6.2s\n",
            "[CV 3/3] END ..............C=0.1, gamma=0.001, kernel=linear; total time=   6.1s\n",
            "[CV 1/3] END .................C=0.1, gamma=0.001, kernel=rbf; total time=  23.5s\n",
            "[CV 2/3] END .................C=0.1, gamma=0.001, kernel=rbf; total time=  22.1s\n",
            "[CV 3/3] END .................C=0.1, gamma=0.001, kernel=rbf; total time=  21.6s\n",
            "[CV 1/3] END ....................C=1, gamma=1, kernel=linear; total time=   4.9s\n",
            "[CV 2/3] END ....................C=1, gamma=1, kernel=linear; total time=   5.0s\n",
            "[CV 3/3] END ....................C=1, gamma=1, kernel=linear; total time=   4.9s\n",
            "[CV 1/3] END .......................C=1, gamma=1, kernel=rbf; total time=  44.2s\n",
            "[CV 2/3] END .......................C=1, gamma=1, kernel=rbf; total time=  44.3s\n",
            "[CV 3/3] END .......................C=1, gamma=1, kernel=rbf; total time=  42.5s\n",
            "[CV 1/3] END ..................C=1, gamma=0.1, kernel=linear; total time=   4.3s\n",
            "[CV 2/3] END ..................C=1, gamma=0.1, kernel=linear; total time=   4.3s\n",
            "[CV 3/3] END ..................C=1, gamma=0.1, kernel=linear; total time=   4.2s\n",
            "[CV 1/3] END .....................C=1, gamma=0.1, kernel=rbf; total time=  38.0s\n",
            "[CV 2/3] END .....................C=1, gamma=0.1, kernel=rbf; total time=  36.3s\n",
            "[CV 3/3] END .....................C=1, gamma=0.1, kernel=rbf; total time=  52.5s\n",
            "[CV 1/3] END .................C=1, gamma=0.01, kernel=linear; total time=   4.7s\n",
            "[CV 2/3] END .................C=1, gamma=0.01, kernel=linear; total time=   4.6s\n",
            "[CV 3/3] END .................C=1, gamma=0.01, kernel=linear; total time=   4.6s\n",
            "[CV 1/3] END ....................C=1, gamma=0.01, kernel=rbf; total time=  31.8s\n",
            "[CV 2/3] END ....................C=1, gamma=0.01, kernel=rbf; total time=  32.6s\n",
            "[CV 3/3] END ....................C=1, gamma=0.01, kernel=rbf; total time=  32.1s\n",
            "[CV 1/3] END ................C=1, gamma=0.001, kernel=linear; total time=   4.5s\n",
            "[CV 2/3] END ................C=1, gamma=0.001, kernel=linear; total time=   4.3s\n",
            "[CV 3/3] END ................C=1, gamma=0.001, kernel=linear; total time=   5.0s\n",
            "[CV 1/3] END ...................C=1, gamma=0.001, kernel=rbf; total time=  14.5s\n",
            "[CV 2/3] END ...................C=1, gamma=0.001, kernel=rbf; total time=  14.2s\n",
            "[CV 3/3] END ...................C=1, gamma=0.001, kernel=rbf; total time=  14.5s\n",
            "[CV 1/3] END ...................C=10, gamma=1, kernel=linear; total time=   4.7s\n",
            "[CV 2/3] END ...................C=10, gamma=1, kernel=linear; total time=   5.4s\n",
            "[CV 3/3] END ...................C=10, gamma=1, kernel=linear; total time=   5.7s\n",
            "[CV 1/3] END ......................C=10, gamma=1, kernel=rbf; total time=  45.6s\n",
            "[CV 2/3] END ......................C=10, gamma=1, kernel=rbf; total time=  44.8s\n",
            "[CV 3/3] END ......................C=10, gamma=1, kernel=rbf; total time=  45.1s\n",
            "[CV 1/3] END .................C=10, gamma=0.1, kernel=linear; total time=   4.7s\n",
            "[CV 2/3] END .................C=10, gamma=0.1, kernel=linear; total time=   4.6s\n",
            "[CV 3/3] END .................C=10, gamma=0.1, kernel=linear; total time=   4.6s\n",
            "[CV 1/3] END ....................C=10, gamma=0.1, kernel=rbf; total time=  44.1s\n",
            "[CV 2/3] END ....................C=10, gamma=0.1, kernel=rbf; total time=  40.0s\n",
            "[CV 3/3] END ....................C=10, gamma=0.1, kernel=rbf; total time=  42.3s\n",
            "[CV 1/3] END ................C=10, gamma=0.01, kernel=linear; total time=   4.8s\n",
            "[CV 2/3] END ................C=10, gamma=0.01, kernel=linear; total time=   4.4s\n",
            "[CV 3/3] END ................C=10, gamma=0.01, kernel=linear; total time=   4.6s\n",
            "[CV 1/3] END ...................C=10, gamma=0.01, kernel=rbf; total time=  34.2s\n",
            "[CV 2/3] END ...................C=10, gamma=0.01, kernel=rbf; total time=  36.4s\n",
            "[CV 3/3] END ...................C=10, gamma=0.01, kernel=rbf; total time=  38.6s\n",
            "[CV 1/3] END ...............C=10, gamma=0.001, kernel=linear; total time=   5.5s\n",
            "[CV 2/3] END ...............C=10, gamma=0.001, kernel=linear; total time=   5.2s\n",
            "[CV 3/3] END ...............C=10, gamma=0.001, kernel=linear; total time=   4.7s\n",
            "[CV 1/3] END ..................C=10, gamma=0.001, kernel=rbf; total time=  10.9s\n",
            "[CV 2/3] END ..................C=10, gamma=0.001, kernel=rbf; total time=  11.1s\n",
            "[CV 3/3] END ..................C=10, gamma=0.001, kernel=rbf; total time=  11.1s\n",
            "[CV 1/3] END ..................C=100, gamma=1, kernel=linear; total time=   6.5s\n",
            "[CV 2/3] END ..................C=100, gamma=1, kernel=linear; total time=   4.7s\n",
            "[CV 3/3] END ..................C=100, gamma=1, kernel=linear; total time=   4.7s\n",
            "[CV 1/3] END .....................C=100, gamma=1, kernel=rbf; total time=  47.7s\n",
            "[CV 2/3] END .....................C=100, gamma=1, kernel=rbf; total time=  45.0s\n",
            "[CV 3/3] END .....................C=100, gamma=1, kernel=rbf; total time=  43.8s\n",
            "[CV 1/3] END ................C=100, gamma=0.1, kernel=linear; total time=   4.6s\n",
            "[CV 2/3] END ................C=100, gamma=0.1, kernel=linear; total time=   5.8s\n",
            "[CV 3/3] END ................C=100, gamma=0.1, kernel=linear; total time=   5.7s\n",
            "[CV 1/3] END ...................C=100, gamma=0.1, kernel=rbf; total time=  44.3s\n",
            "[CV 2/3] END ...................C=100, gamma=0.1, kernel=rbf; total time=  43.5s\n",
            "[CV 3/3] END ...................C=100, gamma=0.1, kernel=rbf; total time=  43.7s\n",
            "[CV 1/3] END ...............C=100, gamma=0.01, kernel=linear; total time=   4.4s\n",
            "[CV 2/3] END ...............C=100, gamma=0.01, kernel=linear; total time=   4.6s\n",
            "[CV 3/3] END ...............C=100, gamma=0.01, kernel=linear; total time=   4.7s\n",
            "[CV 1/3] END ..................C=100, gamma=0.01, kernel=rbf; total time=  34.9s\n",
            "[CV 2/3] END ..................C=100, gamma=0.01, kernel=rbf; total time=  35.2s\n",
            "[CV 3/3] END ..................C=100, gamma=0.01, kernel=rbf; total time=  40.0s\n",
            "[CV 1/3] END ..............C=100, gamma=0.001, kernel=linear; total time=   8.4s\n",
            "[CV 2/3] END ..............C=100, gamma=0.001, kernel=linear; total time=  10.9s\n",
            "[CV 3/3] END ..............C=100, gamma=0.001, kernel=linear; total time=   5.3s\n",
            "[CV 1/3] END .................C=100, gamma=0.001, kernel=rbf; total time=  12.0s\n",
            "[CV 2/3] END .................C=100, gamma=0.001, kernel=rbf; total time=  11.5s\n",
            "[CV 3/3] END .................C=100, gamma=0.001, kernel=rbf; total time=  11.6s\n"
          ]
        },
        {
          "data": {
            "text/plain": [
              "GridSearchCV(cv=3, estimator=SVC(),\n",
              "             param_grid={'C': [0.1, 1, 10, 100], 'gamma': [1, 0.1, 0.01, 0.001],\n",
              "                         'kernel': ['linear', 'rbf']},\n",
              "             verbose=4)"
            ]
          },
          "execution_count": 15,
          "metadata": {},
          "output_type": "execute_result"
        }
      ]
    },
    {
      "cell_type": "code",
      "metadata": {
        "id": "cgqRDoGnCtsH",
        "outputId": "c877bcbd-d852-4bd2-ec5d-0a061539d0bf"
      },
      "source": [
        "#Best hyperparameters\n",
        "print(grid_svm.best_params_)"
      ],
      "execution_count": null,
      "outputs": [
        {
          "name": "stdout",
          "output_type": "stream",
          "text": [
            "{'C': 10, 'gamma': 0.001, 'kernel': 'rbf'}\n"
          ]
        }
      ]
    },
    {
      "cell_type": "code",
      "metadata": {
        "id": "LWFiyFtsCtsI",
        "outputId": "c3d59998-7974-4a40-cbcb-44f15cae4792"
      },
      "source": [
        "y_pred_svm= grid_svm.predict(x_eval)\n",
        "\n",
        "#Save the final model\n",
        "dump(grid_svm, 'SVC.joblib')"
      ],
      "execution_count": null,
      "outputs": [
        {
          "data": {
            "text/plain": [
              "['SVC.joblib']"
            ]
          },
          "execution_count": 27,
          "metadata": {},
          "output_type": "execute_result"
        }
      ]
    },
    {
      "cell_type": "code",
      "metadata": {
        "id": "tPnQV0vBCtsI"
      },
      "source": [
        "parameters= grid_svm.cv_results_['params']\n",
        "accuracy=grid_svm.cv_results_['mean_test_score']\n",
        "par=[]\n",
        "for i in parameters:\n",
        "    s= str(i)\n",
        "    par.append(s)"
      ],
      "execution_count": null,
      "outputs": []
    },
    {
      "cell_type": "code",
      "metadata": {
        "id": "cac5u-Lk01FL",
        "outputId": "948c3f76-e986-478f-82d0-b54f4339fb3f"
      },
      "source": [
        "# Here plot score (accuracy) for each model. You can use \"plot_scores\" function.\n",
        "plot_scores(par, accuracy, title = \"Accuracy vs Parameters in SVM model\", x_label = \"No. of different hyperparameters\", y_label = \"Accuracy\")\n"
      ],
      "execution_count": null,
      "outputs": [
        {
          "data": {
            "image/png": "[encoded data removed]",
            "text/plain": [
              "<Figure size 720x576 with 1 Axes>"
            ]
          },
          "metadata": {
            "needs_background": "light"
          },
          "output_type": "display_data"
        }
      ]
    },
    {
      "cell_type": "code",
      "metadata": {
        "id": "D68bsuVB01FL",
        "outputId": "779b10de-4853-46a3-e9e0-1fb66fe8d2e3"
      },
      "source": [
        "# Here report the score for the best model\n",
        "print(\"The best model score having hyperparameter {} is:\".format(grid_svm.best_params_),max(accuracy))"
      ],
      "execution_count": null,
      "outputs": [
        {
          "name": "stdout",
          "output_type": "stream",
          "text": [
            "The best model score having hyperparameter {'C': 10, 'gamma': 0.001, 'kernel': 'rbf'} is: 0.9398999887991198\n"
          ]
        }
      ]
    },
    {
      "cell_type": "code",
      "metadata": {
        "id": "9zgw4JUH01FL",
        "outputId": "df471dde-95f4-46ef-eab9-2cb166a4e4a9"
      },
      "source": [
        "# Visualize the predictions\n",
        "vis_predictions(x_eval, y_pred_svm, len(x_eval))"
      ],
      "execution_count": null,
      "outputs": [
        {
          "data": {
            "image/png": "[encoded data removed]",
            "text/plain": [
              "<Figure size 720x576 with 12 Axes>"
            ]
          },
          "metadata": {
            "needs_background": "light"
          },
          "output_type": "display_data"
        }
      ]
    },
    {
      "cell_type": "markdown",
      "metadata": {
        "id": "WOT67VC801FL"
      },
      "source": [
        "### 2.2.6: Summary\n",
        "\n",
        "Summarize our findings:\n",
        " * Which hyper-parameters were important and how did they influence our results?\n",
        " * What were other design choices we faced?\n",
        " * other interesting insights..."
      ]
    },
    {
      "cell_type": "markdown",
      "metadata": {
        "id": "G_J1XCAjafJI"
      },
      "source": [
        "### Findings\n",
        "\n",
        "* The important hyper-parameters for the SVM classifier are considered to be kernel, regularization parameter(C) and gamma. The kernel maps the observations into some feature space that are more easily separable after the transformation. There are multiple standard kernels for this transformations, e.g. the linear kernel, the polynomial kernel and the radial basis function kernel. The choice of the kernel and their hyperparameters affect greatly the separability of the classes (in classification) and the performance of the algorithm. \n",
        "\n",
        "* The regularization parameter C in SVM is used to control the error.The value of C determines the penalty for the classifier. If C is small, the penalty for misclassified points is low so a decision boundary thus less accuracy. If C is large, SVM tries to minimize the number of misclassified examples due to the high penalty thus high accuracy.\n",
        "\n",
        "* Gamma decides that how much curvature we want in a decision boundary. Low values of Gamma indicate a large similarity radius which results in more points being grouped together. For High values of Gamma, the points need to be very close to each other in order for it to be considered in the same group. And Gamma only works with rbf kernal.\n",
        "\n",
        "* Again we used Grid Search to find the optimal parameters and we got the best accuracy of 93.98 % with {C: 10, gamma:0.001, and kernal: rbf}. \n",
        "\n",
        "* An intresting insight we can observe from the above graph is that the accuracy is high for lower C with linear kernal while its opposite with rbf kernal. "
      ]
    },
    {
      "cell_type": "markdown",
      "metadata": {
        "id": "cgZ547yT01FM"
      },
      "source": [
        "# 2.3: Model [M3] (Neural Networks): \n",
        "\n",
        "* Here, we use CNN's as they are the latest standards used for classification tasks w.r.t images. A Convolutional neural network (CNN) is a neural network that has one or more convolutional layers and are used mainly for image processing, classification, segmentation and also for other auto correlated data. CNNs are used for image classification and recognition because of its high accuracy. It was proposed by computer scientist Yann LeCun in the late 90s and also has high experimental results on MNIST dataset using LeNet5.\n",
        "\n"
      ]
    },
    {
      "cell_type": "markdown",
      "metadata": {
        "id": "EFslEvfu01FM"
      },
      "source": [
        "### 2.3.1: Hyper-parameters\n",
        "\n",
        "Define hyper-parameters for our method here"
      ]
    },
    {
      "cell_type": "code",
      "metadata": {
        "id": "pWEzmxlTMdxG"
      },
      "source": [
        "# other parameters ...\n",
        "batch_size=64\n",
        "test_batch_size=1000\n",
        "epochs=20\n",
        "lr=0.1\n",
        "momentum=0.5\n",
        "log_interval=10\n",
        "seed=torch.manual_seed(0)"
      ],
      "execution_count": null,
      "outputs": []
    },
    {
      "cell_type": "code",
      "metadata": {
        "colab": {
          "base_uri": "https://localhost:8080/"
        },
        "id": "iHjY2B7zMq9x",
        "outputId": "767a80e7-118a-48d6-d77c-d69b72962977"
      },
      "source": [
        "from google.colab import drive\n",
        "drive.mount('/content/drive')"
      ],
      "execution_count": null,
      "outputs": [
        {
          "name": "stdout",
          "output_type": "stream",
          "text": [
            "Mounted at /content/drive\n"
          ]
        }
      ]
    },
    {
      "cell_type": "code",
      "metadata": {
        "colab": {
          "base_uri": "https://localhost:8080/",
          "height": 53
        },
        "id": "4O1la-thM-XB",
        "outputId": "d7c1b4f9-21ab-4c5b-b0ac-a29c395d4a36"
      },
      "source": [
        "%cd '/content/drive/MyDrive/MLCS'\n",
        "%pwd"
      ],
      "execution_count": null,
      "outputs": [
        {
          "name": "stdout",
          "output_type": "stream",
          "text": [
            "/content/drive/MyDrive/MLCS\n"
          ]
        },
        {
          "data": {
            "application/vnd.google.colaboratory.intrinsic+json": {
              "type": "string"
            },
            "text/plain": [
              "'/content/drive/MyDrive/MLCS'"
            ]
          },
          "execution_count": 27,
          "metadata": {},
          "output_type": "execute_result"
        }
      ]
    },
    {
      "cell_type": "markdown",
      "metadata": {
        "id": "UIkrTWQ001FM"
      },
      "source": [
        "### 2.3.2: Data Preprocessing\n"
      ]
    },
    {
      "cell_type": "code",
      "metadata": {
        "id": "p13RLv7u01FM"
      },
      "source": [
        "def get_train_valid_loader(random_seed, valid_size=0.1, shuffle=True):\n",
        "    \n",
        "    # convert data to torch.FloatTensor\n",
        "    transform = transforms.Compose([ transforms.ToTensor(), transforms.Normalize((0.1307,), (0.3081,)) ])\n",
        "    train_dataset = datasets.MNIST( root='../data', train=True, download=True, transform=transform)\n",
        "    valid_dataset = datasets.MNIST( root='../data', train=True, download=True, transform=transform)\n",
        "\n",
        "    num_train = len(train_dataset)\n",
        "    indices = list(range(num_train))\n",
        "    split = int(np.floor(valid_size * num_train))\n",
        "\n",
        "    train_idx, valid_idx = indices[split:], indices[:split]\n",
        "    train_sampler = SubsetRandomSampler(train_idx)\n",
        "    valid_sampler = SubsetRandomSampler(valid_idx)\n",
        "\n",
        "    train_loader = torch.utils.data.DataLoader(train_dataset, batch_size=batch_size, sampler=train_sampler)\n",
        "    valid_loader = torch.utils.data.DataLoader(valid_dataset, batch_size=test_batch_size, sampler=valid_sampler)\n",
        "\n",
        "    return train_loader, valid_loader\n",
        "\n",
        "def get_test_loader(shuffle=True):\n",
        "    transform = transforms.Compose([ transforms.ToTensor(), transforms.Normalize((0.1307,), (0.3081,)) ])\n",
        "    test_dataset = datasets.MNIST(root='../data', train=False, download=True, transform=transform)\n",
        "    test_loader = torch.utils.data.DataLoader(test_dataset, batch_size=test_batch_size, shuffle=shuffle)\n",
        "    return test_loader"
      ],
      "execution_count": null,
      "outputs": []
    },
    {
      "cell_type": "markdown",
      "metadata": {
        "id": "Cp0nyS8C01FM"
      },
      "source": [
        "### 2.3.3: Model\n",
        "\n",
        "Define our model here"
      ]
    },
    {
      "cell_type": "code",
      "metadata": {
        "id": "T6kHJuH401FM"
      },
      "source": [
        "class Net(nn.Module):\n",
        "    def __init__(self):\n",
        "        super(Net, self).__init__()\n",
        "        # Define two convolutional layers, and three fully connected layers\n",
        "        self.conv1 = nn.Conv2d(1, 6, kernel_size=(5,5), padding=2)\n",
        "        self.conv2 = nn.Conv2d(6, 16, kernel_size=(5,5))\n",
        "        self.fc1 = nn.Linear(400, 120)\n",
        "        self.fc2 = nn.Linear(120, 84)\n",
        "        self.fc3 = nn.Linear(84, 10)\n",
        "\n",
        "    def forward(self, x):\n",
        "        # Max pool with kernel size 2 on the convolutional layers\n",
        "        x = F.max_pool2d(F.relu(self.conv1(x)), kernel_size=(2,2))\n",
        "        x = F.max_pool2d(F.relu(self.conv2(x)), kernel_size=(2,2))\n",
        "\n",
        "        # Use cross-entropy instead of MSE for classification loss\n",
        "        x = x.view(-1, 400)\n",
        "        x = F.relu(self.fc1(x))\n",
        "        x = F.relu(self.fc2(x))\n",
        "        x = self.fc3(x)\n",
        "        return F.log_softmax(x, dim=1)"
      ],
      "execution_count": null,
      "outputs": []
    },
    {
      "cell_type": "markdown",
      "metadata": {
        "id": "jhzlip-t01FM"
      },
      "source": [
        "### 2.2.4: Fit Model\n"
      ]
    },
    {
      "cell_type": "code",
      "metadata": {
        "colab": {
          "base_uri": "https://localhost:8080/"
        },
        "id": "RUWeF4mQ01FM",
        "outputId": "af86209a-a002-4564-bf51-23949a87c0f8"
      },
      "source": [
        "# Example: net = Net(), ....\n",
        "model = Net()\n",
        "print(model)"
      ],
      "execution_count": null,
      "outputs": [
        {
          "name": "stdout",
          "output_type": "stream",
          "text": [
            "Net(\n",
            "  (conv1): Conv2d(1, 6, kernel_size=(5, 5), stride=(1, 1), padding=(2, 2))\n",
            "  (conv2): Conv2d(6, 16, kernel_size=(5, 5), stride=(1, 1))\n",
            "  (fc1): Linear(in_features=400, out_features=120, bias=True)\n",
            "  (fc2): Linear(in_features=120, out_features=84, bias=True)\n",
            "  (fc3): Linear(in_features=84, out_features=10, bias=True)\n",
            ")\n"
          ]
        }
      ]
    },
    {
      "cell_type": "code",
      "metadata": {
        "id": "ARJe7dZM01FM"
      },
      "source": [
        "def train(model, optimizer, epoch, loader):\n",
        "    for batch_idx, (data, target) in enumerate(loader):\n",
        "        data, target = Variable(data), Variable(target)\n",
        "        optimizer.zero_grad() # Removes all past gradient run info (clean up)\n",
        "        output = model(data) # Runs the model\n",
        "        loss = F.nll_loss(output, target) # Computes the loss function (negative log-loss of the softmax output)\n",
        "        loss.backward() # Run backprop to update weights\n",
        "        optimizer.step() # Take a step in the right direction of the SGD\n",
        "\n",
        "        # Logging\n",
        "        length = len(loader.dataset)\n",
        "        if batch_idx % log_interval == 0:\n",
        "            print('Train Epoch: {} [{}/{} ({:.0f}%)]\\tLoss: {:.6f}'.format(epoch, batch_idx * len(data), len(loader.dataset),100. * batch_idx / len(loader), loss.data))\n",
        "     \n"
      ],
      "execution_count": null,
      "outputs": []
    },
    {
      "cell_type": "code",
      "metadata": {
        "id": "qn0MgIyX01FN"
      },
      "source": [
        "Accuracy=[]\n",
        "def test(model, loader, name):\n",
        "    test_loss = 0\n",
        "    correct = 0\n",
        "    for data, target in loader:\n",
        "        data, target = Variable(data, volatile=True), Variable(target)\n",
        "        output = model(data) # Runs the model\n",
        "        test_loss += F.nll_loss(output, target, size_average=False).item() # Sum up batch loss\n",
        "        pred = output.data.max(1, keepdim=True)[1] # Get the index (label) of the max log-probability\n",
        "        correct += pred.eq(target.data.view_as(pred)).long().cpu().sum()\n",
        "\n",
        "    # Logging\n",
        "    length = len(list(loader)) * test_batch_size\n",
        "    test_loss /= length\n",
        "    print('\\n', name, 'set: Average loss: {:.4f}, Accuracy: {}/{} ({:.0f}%)\\n'.format(test_loss, correct, length,100. * correct / length))\n",
        "    accu=float(correct/length)\n",
        "    Accuracy.append(accu)\n",
        "    print(name,' set Accuracy over the epochs',Accuracy)\n",
        "    return test_loss"
      ],
      "execution_count": null,
      "outputs": []
    },
    {
      "cell_type": "code",
      "metadata": {
        "colab": {
          "base_uri": "https://localhost:8080/"
        },
        "id": "tU3DfcqiDa4c",
        "outputId": "809ecd44-da28-4f72-ef50-4a33bd1a1bc7"
      },
      "source": [
        "# Save your model using torch.save()\n",
        "\n",
        "# Load training, validation, and testing data\n",
        "train_loader, valid_loader = get_train_valid_loader(seed)\n",
        "test_loader = get_test_loader()\n",
        "min_loss = sys.float_info.max\n",
        "optimizer = optim.SGD(model.parameters(), lr=lr, momentum=momentum)\n",
        "# Run epochs and save model with best performance on the validation set\n",
        "Epoch=[]\n",
        "Loss=[]\n",
        "\n",
        "for epoch in range(1, epochs + 1):\n",
        "    train(model, optimizer, epoch, train_loader) #we first train the model\n",
        "    loss = test(model, valid_loader, 'Validation') # the defined test funtion, returns the loss and hence we first test on validation set and save the best model\n",
        "    if loss < min_loss: #checks if the loss is less enough to save the model with least loss\n",
        "        min_loss = loss\n",
        "        torch.save(model, 'best_model.pt') # Save your model using torch.save()\n",
        "    Epoch.append(epoch) \n",
        "    Loss.append(loss)"
      ],
      "execution_count": null,
      "outputs": [
        {
          "name": "stdout",
          "output_type": "stream",
          "text": [
            "Train Epoch: 1 [0/60000 (0%)]\tLoss: 2.291416\n",
            "Train Epoch: 1 [640/60000 (1%)]\tLoss: 2.267006\n",
            "Train Epoch: 1 [1280/60000 (2%)]\tLoss: 2.152856\n",
            "Train Epoch: 1 [1920/60000 (4%)]\tLoss: 1.171788\n",
            "Train Epoch: 1 [2560/60000 (5%)]\tLoss: 2.065329\n",
            "Train Epoch: 1 [3200/60000 (6%)]\tLoss: 1.236744\n",
            "Train Epoch: 1 [3840/60000 (7%)]\tLoss: 0.894744\n",
            "Train Epoch: 1 [4480/60000 (8%)]\tLoss: 2.099591\n",
            "Train Epoch: 1 [5120/60000 (9%)]\tLoss: 1.043369\n",
            "Train Epoch: 1 [5760/60000 (11%)]\tLoss: 0.449467\n",
            "Train Epoch: 1 [6400/60000 (12%)]\tLoss: 0.585849\n",
            "Train Epoch: 1 [7040/60000 (13%)]\tLoss: 0.324028\n",
            "Train Epoch: 1 [7680/60000 (14%)]\tLoss: 0.243423\n",
            "Train Epoch: 1 [8320/60000 (15%)]\tLoss: 0.359127\n",
            "Train Epoch: 1 [8960/60000 (17%)]\tLoss: 0.277794\n",
            "Train Epoch: 1 [9600/60000 (18%)]\tLoss: 0.232480\n",
            "Train Epoch: 1 [10240/60000 (19%)]\tLoss: 0.192863\n",
            "Train Epoch: 1 [10880/60000 (20%)]\tLoss: 0.318375\n",
            "Train Epoch: 1 [11520/60000 (21%)]\tLoss: 0.383452\n",
            "Train Epoch: 1 [12160/60000 (23%)]\tLoss: 0.170776\n",
            "Train Epoch: 1 [12800/60000 (24%)]\tLoss: 0.125587\n",
            "Train Epoch: 1 [13440/60000 (25%)]\tLoss: 0.156001\n",
            "Train Epoch: 1 [14080/60000 (26%)]\tLoss: 0.123217\n",
            "Train Epoch: 1 [14720/60000 (27%)]\tLoss: 0.076503\n",
            "Train Epoch: 1 [15360/60000 (28%)]\tLoss: 0.141864\n",
            "Train Epoch: 1 [16000/60000 (30%)]\tLoss: 0.215508\n",
            "Train Epoch: 1 [16640/60000 (31%)]\tLoss: 0.217784\n",
            "Train Epoch: 1 [17280/60000 (32%)]\tLoss: 0.109057\n",
            "Train Epoch: 1 [17920/60000 (33%)]\tLoss: 0.150057\n",
            "Train Epoch: 1 [18560/60000 (34%)]\tLoss: 0.216943\n",
            "Train Epoch: 1 [19200/60000 (36%)]\tLoss: 0.024173\n",
            "Train Epoch: 1 [19840/60000 (37%)]\tLoss: 0.210723\n",
            "Train Epoch: 1 [20480/60000 (38%)]\tLoss: 0.111471\n",
            "Train Epoch: 1 [21120/60000 (39%)]\tLoss: 0.062213\n",
            "Train Epoch: 1 [21760/60000 (40%)]\tLoss: 0.046780\n",
            "Train Epoch: 1 [22400/60000 (41%)]\tLoss: 0.126682\n",
            "Train Epoch: 1 [23040/60000 (43%)]\tLoss: 0.024359\n",
            "Train Epoch: 1 [23680/60000 (44%)]\tLoss: 0.151098\n",
            "Train Epoch: 1 [24320/60000 (45%)]\tLoss: 0.206447\n",
            "Train Epoch: 1 [24960/60000 (46%)]\tLoss: 0.186930\n",
            "Train Epoch: 1 [25600/60000 (47%)]\tLoss: 0.110510\n",
            "Train Epoch: 1 [26240/60000 (49%)]\tLoss: 0.100232\n",
            "Train Epoch: 1 [26880/60000 (50%)]\tLoss: 0.089929\n",
            "Train Epoch: 1 [27520/60000 (51%)]\tLoss: 0.129296\n",
            "Train Epoch: 1 [28160/60000 (52%)]\tLoss: 0.047151\n",
            "Train Epoch: 1 [28800/60000 (53%)]\tLoss: 0.050437\n",
            "Train Epoch: 1 [29440/60000 (55%)]\tLoss: 0.220717\n",
            "Train Epoch: 1 [30080/60000 (56%)]\tLoss: 0.034573\n",
            "Train Epoch: 1 [30720/60000 (57%)]\tLoss: 0.255441\n",
            "Train Epoch: 1 [31360/60000 (58%)]\tLoss: 0.170742\n",
            "Train Epoch: 1 [32000/60000 (59%)]\tLoss: 0.055950\n",
            "Train Epoch: 1 [32640/60000 (60%)]\tLoss: 0.224384\n",
            "Train Epoch: 1 [33280/60000 (62%)]\tLoss: 0.203714\n",
            "Train Epoch: 1 [33920/60000 (63%)]\tLoss: 0.073451\n",
            "Train Epoch: 1 [34560/60000 (64%)]\tLoss: 0.169275\n",
            "Train Epoch: 1 [35200/60000 (65%)]\tLoss: 0.169296\n",
            "Train Epoch: 1 [35840/60000 (66%)]\tLoss: 0.101075\n",
            "Train Epoch: 1 [36480/60000 (68%)]\tLoss: 0.142502\n",
            "Train Epoch: 1 [37120/60000 (69%)]\tLoss: 0.081218\n",
            "Train Epoch: 1 [37760/60000 (70%)]\tLoss: 0.062113\n",
            "Train Epoch: 1 [38400/60000 (71%)]\tLoss: 0.038145\n",
            "Train Epoch: 1 [39040/60000 (72%)]\tLoss: 0.041793\n",
            "Train Epoch: 1 [39680/60000 (73%)]\tLoss: 0.075280\n",
            "Train Epoch: 1 [40320/60000 (75%)]\tLoss: 0.041280\n",
            "Train Epoch: 1 [40960/60000 (76%)]\tLoss: 0.179231\n",
            "Train Epoch: 1 [41600/60000 (77%)]\tLoss: 0.082883\n",
            "Train Epoch: 1 [42240/60000 (78%)]\tLoss: 0.045500\n",
            "Train Epoch: 1 [42880/60000 (79%)]\tLoss: 0.017573\n",
            "Train Epoch: 1 [43520/60000 (81%)]\tLoss: 0.031905\n",
            "Train Epoch: 1 [44160/60000 (82%)]\tLoss: 0.100946\n",
            "Train Epoch: 1 [44800/60000 (83%)]\tLoss: 0.115317\n",
            "Train Epoch: 1 [45440/60000 (84%)]\tLoss: 0.064816\n",
            "Train Epoch: 1 [46080/60000 (85%)]\tLoss: 0.038155\n",
            "Train Epoch: 1 [46720/60000 (86%)]\tLoss: 0.115775\n",
            "Train Epoch: 1 [47360/60000 (88%)]\tLoss: 0.063312\n",
            "Train Epoch: 1 [48000/60000 (89%)]\tLoss: 0.123356\n",
            "Train Epoch: 1 [48640/60000 (90%)]\tLoss: 0.257799\n",
            "Train Epoch: 1 [49280/60000 (91%)]\tLoss: 0.056741\n",
            "Train Epoch: 1 [49920/60000 (92%)]\tLoss: 0.097327\n",
            "Train Epoch: 1 [50560/60000 (94%)]\tLoss: 0.100241\n",
            "Train Epoch: 1 [51200/60000 (95%)]\tLoss: 0.010152\n",
            "Train Epoch: 1 [51840/60000 (96%)]\tLoss: 0.048057\n",
            "Train Epoch: 1 [52480/60000 (97%)]\tLoss: 0.139320\n",
            "Train Epoch: 1 [53120/60000 (98%)]\tLoss: 0.274240\n",
            "Train Epoch: 1 [53760/60000 (100%)]\tLoss: 0.025901\n"
          ]
        },
        {
          "name": "stderr",
          "output_type": "stream",
          "text": [
            "/usr/local/lib/python3.7/dist-packages/ipykernel_launcher.py:6: UserWarning: volatile was removed and now has no effect. Use `with torch.no_grad():` instead.\n",
            "  \n",
            "/usr/local/lib/python3.7/dist-packages/torch/nn/_reduction.py:42: UserWarning: size_average and reduce args will be deprecated, please use reduction='sum' instead.\n",
            "  warnings.warn(warning.format(ret))\n"
          ]
        },
        {
          "name": "stdout",
          "output_type": "stream",
          "text": [
            "\n",
            " Validation set: Average loss: 0.0962, Accuracy: 5819/6000 (97%)\n",
            "\n",
            "Validation  set Accuracy over the epochs [0.9698333144187927]\n",
            "Train Epoch: 2 [0/60000 (0%)]\tLoss: 0.046737\n",
            "Train Epoch: 2 [640/60000 (1%)]\tLoss: 0.077057\n",
            "Train Epoch: 2 [1280/60000 (2%)]\tLoss: 0.043311\n",
            "Train Epoch: 2 [1920/60000 (4%)]\tLoss: 0.179212\n",
            "Train Epoch: 2 [2560/60000 (5%)]\tLoss: 0.120741\n",
            "Train Epoch: 2 [3200/60000 (6%)]\tLoss: 0.009614\n",
            "Train Epoch: 2 [3840/60000 (7%)]\tLoss: 0.015333\n",
            "Train Epoch: 2 [4480/60000 (8%)]\tLoss: 0.018969\n",
            "Train Epoch: 2 [5120/60000 (9%)]\tLoss: 0.006844\n",
            "Train Epoch: 2 [5760/60000 (11%)]\tLoss: 0.013339\n",
            "Train Epoch: 2 [6400/60000 (12%)]\tLoss: 0.073069\n",
            "Train Epoch: 2 [7040/60000 (13%)]\tLoss: 0.033040\n",
            "Train Epoch: 2 [7680/60000 (14%)]\tLoss: 0.024197\n",
            "Train Epoch: 2 [8320/60000 (15%)]\tLoss: 0.022415\n",
            "Train Epoch: 2 [8960/60000 (17%)]\tLoss: 0.098481\n",
            "Train Epoch: 2 [9600/60000 (18%)]\tLoss: 0.007449\n",
            "Train Epoch: 2 [10240/60000 (19%)]\tLoss: 0.112747\n",
            "Train Epoch: 2 [10880/60000 (20%)]\tLoss: 0.216470\n",
            "Train Epoch: 2 [11520/60000 (21%)]\tLoss: 0.155988\n",
            "Train Epoch: 2 [12160/60000 (23%)]\tLoss: 0.066933\n",
            "Train Epoch: 2 [12800/60000 (24%)]\tLoss: 0.362790\n",
            "Train Epoch: 2 [13440/60000 (25%)]\tLoss: 0.053203\n",
            "Train Epoch: 2 [14080/60000 (26%)]\tLoss: 0.166079\n",
            "Train Epoch: 2 [14720/60000 (27%)]\tLoss: 0.102100\n",
            "Train Epoch: 2 [15360/60000 (28%)]\tLoss: 0.054970\n",
            "Train Epoch: 2 [16000/60000 (30%)]\tLoss: 0.100661\n",
            "Train Epoch: 2 [16640/60000 (31%)]\tLoss: 0.055160\n",
            "Train Epoch: 2 [17280/60000 (32%)]\tLoss: 0.074295\n",
            "Train Epoch: 2 [17920/60000 (33%)]\tLoss: 0.022947\n",
            "Train Epoch: 2 [18560/60000 (34%)]\tLoss: 0.033733\n",
            "Train Epoch: 2 [19200/60000 (36%)]\tLoss: 0.109383\n",
            "Train Epoch: 2 [19840/60000 (37%)]\tLoss: 0.030705\n",
            "Train Epoch: 2 [20480/60000 (38%)]\tLoss: 0.145307\n",
            "Train Epoch: 2 [21120/60000 (39%)]\tLoss: 0.036336\n",
            "Train Epoch: 2 [21760/60000 (40%)]\tLoss: 0.095520\n",
            "Train Epoch: 2 [22400/60000 (41%)]\tLoss: 0.004744\n",
            "Train Epoch: 2 [23040/60000 (43%)]\tLoss: 0.103218\n",
            "Train Epoch: 2 [23680/60000 (44%)]\tLoss: 0.139854\n",
            "Train Epoch: 2 [24320/60000 (45%)]\tLoss: 0.022807\n",
            "Train Epoch: 2 [24960/60000 (46%)]\tLoss: 0.080391\n",
            "Train Epoch: 2 [25600/60000 (47%)]\tLoss: 0.060406\n",
            "Train Epoch: 2 [26240/60000 (49%)]\tLoss: 0.017108\n",
            "Train Epoch: 2 [26880/60000 (50%)]\tLoss: 0.044502\n",
            "Train Epoch: 2 [27520/60000 (51%)]\tLoss: 0.028466\n",
            "Train Epoch: 2 [28160/60000 (52%)]\tLoss: 0.019670\n",
            "Train Epoch: 2 [28800/60000 (53%)]\tLoss: 0.020309\n",
            "Train Epoch: 2 [29440/60000 (55%)]\tLoss: 0.194046\n",
            "Train Epoch: 2 [30080/60000 (56%)]\tLoss: 0.013382\n",
            "Train Epoch: 2 [30720/60000 (57%)]\tLoss: 0.029683\n",
            "Train Epoch: 2 [31360/60000 (58%)]\tLoss: 0.009406\n",
            "Train Epoch: 2 [32000/60000 (59%)]\tLoss: 0.227750\n",
            "Train Epoch: 2 [32640/60000 (60%)]\tLoss: 0.035511\n",
            "Train Epoch: 2 [33280/60000 (62%)]\tLoss: 0.120694\n",
            "Train Epoch: 2 [33920/60000 (63%)]\tLoss: 0.066815\n",
            "Train Epoch: 2 [34560/60000 (64%)]\tLoss: 0.049013\n",
            "Train Epoch: 2 [35200/60000 (65%)]\tLoss: 0.012885\n",
            "Train Epoch: 2 [35840/60000 (66%)]\tLoss: 0.018396\n",
            "Train Epoch: 2 [36480/60000 (68%)]\tLoss: 0.091349\n",
            "Train Epoch: 2 [37120/60000 (69%)]\tLoss: 0.030244\n",
            "Train Epoch: 2 [37760/60000 (70%)]\tLoss: 0.095960\n",
            "Train Epoch: 2 [38400/60000 (71%)]\tLoss: 0.030823\n",
            "Train Epoch: 2 [39040/60000 (72%)]\tLoss: 0.004080\n",
            "Train Epoch: 2 [39680/60000 (73%)]\tLoss: 0.010815\n",
            "Train Epoch: 2 [40320/60000 (75%)]\tLoss: 0.049995\n",
            "Train Epoch: 2 [40960/60000 (76%)]\tLoss: 0.067549\n",
            "Train Epoch: 2 [41600/60000 (77%)]\tLoss: 0.007416\n",
            "Train Epoch: 2 [42240/60000 (78%)]\tLoss: 0.021304\n",
            "Train Epoch: 2 [42880/60000 (79%)]\tLoss: 0.014949\n",
            "Train Epoch: 2 [43520/60000 (81%)]\tLoss: 0.071591\n",
            "Train Epoch: 2 [44160/60000 (82%)]\tLoss: 0.112405\n",
            "Train Epoch: 2 [44800/60000 (83%)]\tLoss: 0.121977\n",
            "Train Epoch: 2 [45440/60000 (84%)]\tLoss: 0.080492\n",
            "Train Epoch: 2 [46080/60000 (85%)]\tLoss: 0.022862\n",
            "Train Epoch: 2 [46720/60000 (86%)]\tLoss: 0.146571\n",
            "Train Epoch: 2 [47360/60000 (88%)]\tLoss: 0.003152\n",
            "Train Epoch: 2 [48000/60000 (89%)]\tLoss: 0.059848\n",
            "Train Epoch: 2 [48640/60000 (90%)]\tLoss: 0.006335\n",
            "Train Epoch: 2 [49280/60000 (91%)]\tLoss: 0.307566\n",
            "Train Epoch: 2 [49920/60000 (92%)]\tLoss: 0.065465\n",
            "Train Epoch: 2 [50560/60000 (94%)]\tLoss: 0.094286\n",
            "Train Epoch: 2 [51200/60000 (95%)]\tLoss: 0.009274\n",
            "Train Epoch: 2 [51840/60000 (96%)]\tLoss: 0.012190\n",
            "Train Epoch: 2 [52480/60000 (97%)]\tLoss: 0.033489\n",
            "Train Epoch: 2 [53120/60000 (98%)]\tLoss: 0.015763\n",
            "Train Epoch: 2 [53760/60000 (100%)]\tLoss: 0.045250\n",
            "\n",
            " Validation set: Average loss: 0.0584, Accuracy: 5900/6000 (98%)\n",
            "\n",
            "Validation  set Accuracy over the epochs [0.9698333144187927, 0.9833333492279053]\n",
            "Train Epoch: 3 [0/60000 (0%)]\tLoss: 0.013329\n",
            "Train Epoch: 3 [640/60000 (1%)]\tLoss: 0.073205\n",
            "Train Epoch: 3 [1280/60000 (2%)]\tLoss: 0.008073\n",
            "Train Epoch: 3 [1920/60000 (4%)]\tLoss: 0.039057\n",
            "Train Epoch: 3 [2560/60000 (5%)]\tLoss: 0.074796\n",
            "Train Epoch: 3 [3200/60000 (6%)]\tLoss: 0.016930\n",
            "Train Epoch: 3 [3840/60000 (7%)]\tLoss: 0.080251\n",
            "Train Epoch: 3 [4480/60000 (8%)]\tLoss: 0.017369\n",
            "Train Epoch: 3 [5120/60000 (9%)]\tLoss: 0.032355\n",
            "Train Epoch: 3 [5760/60000 (11%)]\tLoss: 0.121599\n",
            "Train Epoch: 3 [6400/60000 (12%)]\tLoss: 0.004070\n",
            "Train Epoch: 3 [7040/60000 (13%)]\tLoss: 0.004884\n",
            "Train Epoch: 3 [7680/60000 (14%)]\tLoss: 0.019156\n",
            "Train Epoch: 3 [8320/60000 (15%)]\tLoss: 0.004590\n",
            "Train Epoch: 3 [8960/60000 (17%)]\tLoss: 0.034139\n",
            "Train Epoch: 3 [9600/60000 (18%)]\tLoss: 0.021112\n",
            "Train Epoch: 3 [10240/60000 (19%)]\tLoss: 0.018806\n",
            "Train Epoch: 3 [10880/60000 (20%)]\tLoss: 0.021477\n",
            "Train Epoch: 3 [11520/60000 (21%)]\tLoss: 0.061596\n",
            "Train Epoch: 3 [12160/60000 (23%)]\tLoss: 0.023271\n",
            "Train Epoch: 3 [12800/60000 (24%)]\tLoss: 0.003637\n",
            "Train Epoch: 3 [13440/60000 (25%)]\tLoss: 0.017718\n",
            "Train Epoch: 3 [14080/60000 (26%)]\tLoss: 0.001317\n",
            "Train Epoch: 3 [14720/60000 (27%)]\tLoss: 0.081326\n",
            "Train Epoch: 3 [15360/60000 (28%)]\tLoss: 0.018359\n",
            "Train Epoch: 3 [16000/60000 (30%)]\tLoss: 0.018356\n",
            "Train Epoch: 3 [16640/60000 (31%)]\tLoss: 0.102095\n",
            "Train Epoch: 3 [17280/60000 (32%)]\tLoss: 0.064723\n",
            "Train Epoch: 3 [17920/60000 (33%)]\tLoss: 0.035983\n",
            "Train Epoch: 3 [18560/60000 (34%)]\tLoss: 0.082774\n",
            "Train Epoch: 3 [19200/60000 (36%)]\tLoss: 0.023478\n",
            "Train Epoch: 3 [19840/60000 (37%)]\tLoss: 0.180816\n",
            "Train Epoch: 3 [20480/60000 (38%)]\tLoss: 0.088882\n",
            "Train Epoch: 3 [21120/60000 (39%)]\tLoss: 0.076322\n",
            "Train Epoch: 3 [21760/60000 (40%)]\tLoss: 0.065908\n",
            "Train Epoch: 3 [22400/60000 (41%)]\tLoss: 0.055459\n",
            "Train Epoch: 3 [23040/60000 (43%)]\tLoss: 0.049162\n",
            "Train Epoch: 3 [23680/60000 (44%)]\tLoss: 0.058401\n",
            "Train Epoch: 3 [24320/60000 (45%)]\tLoss: 0.003452\n",
            "Train Epoch: 3 [24960/60000 (46%)]\tLoss: 0.044230\n",
            "Train Epoch: 3 [25600/60000 (47%)]\tLoss: 0.014143\n",
            "Train Epoch: 3 [26240/60000 (49%)]\tLoss: 0.103816\n",
            "Train Epoch: 3 [26880/60000 (50%)]\tLoss: 0.007948\n",
            "Train Epoch: 3 [27520/60000 (51%)]\tLoss: 0.018286\n",
            "Train Epoch: 3 [28160/60000 (52%)]\tLoss: 0.113127\n",
            "Train Epoch: 3 [28800/60000 (53%)]\tLoss: 0.020613\n",
            "Train Epoch: 3 [29440/60000 (55%)]\tLoss: 0.086191\n",
            "Train Epoch: 3 [30080/60000 (56%)]\tLoss: 0.007725\n",
            "Train Epoch: 3 [30720/60000 (57%)]\tLoss: 0.196646\n",
            "Train Epoch: 3 [31360/60000 (58%)]\tLoss: 0.019295\n",
            "Train Epoch: 3 [32000/60000 (59%)]\tLoss: 0.042949\n",
            "Train Epoch: 3 [32640/60000 (60%)]\tLoss: 0.000767\n",
            "Train Epoch: 3 [33280/60000 (62%)]\tLoss: 0.006275\n",
            "Train Epoch: 3 [33920/60000 (63%)]\tLoss: 0.091856\n",
            "Train Epoch: 3 [34560/60000 (64%)]\tLoss: 0.004328\n",
            "Train Epoch: 3 [35200/60000 (65%)]\tLoss: 0.013947\n",
            "Train Epoch: 3 [35840/60000 (66%)]\tLoss: 0.001876\n",
            "Train Epoch: 3 [36480/60000 (68%)]\tLoss: 0.105248\n",
            "Train Epoch: 3 [37120/60000 (69%)]\tLoss: 0.003214\n",
            "Train Epoch: 3 [37760/60000 (70%)]\tLoss: 0.004636\n",
            "Train Epoch: 3 [38400/60000 (71%)]\tLoss: 0.007737\n",
            "Train Epoch: 3 [39040/60000 (72%)]\tLoss: 0.013773\n",
            "Train Epoch: 3 [39680/60000 (73%)]\tLoss: 0.063151\n",
            "Train Epoch: 3 [40320/60000 (75%)]\tLoss: 0.080234\n",
            "Train Epoch: 3 [40960/60000 (76%)]\tLoss: 0.009355\n",
            "Train Epoch: 3 [41600/60000 (77%)]\tLoss: 0.140994\n",
            "Train Epoch: 3 [42240/60000 (78%)]\tLoss: 0.026820\n",
            "Train Epoch: 3 [42880/60000 (79%)]\tLoss: 0.004008\n",
            "Train Epoch: 3 [43520/60000 (81%)]\tLoss: 0.007341\n",
            "Train Epoch: 3 [44160/60000 (82%)]\tLoss: 0.081582\n",
            "Train Epoch: 3 [44800/60000 (83%)]\tLoss: 0.059958\n",
            "Train Epoch: 3 [45440/60000 (84%)]\tLoss: 0.021001\n",
            "Train Epoch: 3 [46080/60000 (85%)]\tLoss: 0.039104\n",
            "Train Epoch: 3 [46720/60000 (86%)]\tLoss: 0.119233\n",
            "Train Epoch: 3 [47360/60000 (88%)]\tLoss: 0.137738\n",
            "Train Epoch: 3 [48000/60000 (89%)]\tLoss: 0.026239\n",
            "Train Epoch: 3 [48640/60000 (90%)]\tLoss: 0.058680\n",
            "Train Epoch: 3 [49280/60000 (91%)]\tLoss: 0.028389\n",
            "Train Epoch: 3 [49920/60000 (92%)]\tLoss: 0.056612\n",
            "Train Epoch: 3 [50560/60000 (94%)]\tLoss: 0.012424\n",
            "Train Epoch: 3 [51200/60000 (95%)]\tLoss: 0.128241\n",
            "Train Epoch: 3 [51840/60000 (96%)]\tLoss: 0.039147\n",
            "Train Epoch: 3 [52480/60000 (97%)]\tLoss: 0.040735\n",
            "Train Epoch: 3 [53120/60000 (98%)]\tLoss: 0.020231\n",
            "Train Epoch: 3 [53760/60000 (100%)]\tLoss: 0.044733\n",
            "\n",
            " Validation set: Average loss: 0.0570, Accuracy: 5905/6000 (98%)\n",
            "\n",
            "Validation  set Accuracy over the epochs [0.9698333144187927, 0.9833333492279053, 0.98416668176651]\n",
            "Train Epoch: 4 [0/60000 (0%)]\tLoss: 0.020709\n",
            "Train Epoch: 4 [640/60000 (1%)]\tLoss: 0.120585\n",
            "Train Epoch: 4 [1280/60000 (2%)]\tLoss: 0.007726\n",
            "Train Epoch: 4 [1920/60000 (4%)]\tLoss: 0.032544\n",
            "Train Epoch: 4 [2560/60000 (5%)]\tLoss: 0.001339\n",
            "Train Epoch: 4 [3200/60000 (6%)]\tLoss: 0.067630\n",
            "Train Epoch: 4 [3840/60000 (7%)]\tLoss: 0.015509\n",
            "Train Epoch: 4 [4480/60000 (8%)]\tLoss: 0.027523\n",
            "Train Epoch: 4 [5120/60000 (9%)]\tLoss: 0.057662\n",
            "Train Epoch: 4 [5760/60000 (11%)]\tLoss: 0.038086\n",
            "Train Epoch: 4 [6400/60000 (12%)]\tLoss: 0.007403\n",
            "Train Epoch: 4 [7040/60000 (13%)]\tLoss: 0.025504\n",
            "Train Epoch: 4 [7680/60000 (14%)]\tLoss: 0.114722\n",
            "Train Epoch: 4 [8320/60000 (15%)]\tLoss: 0.026496\n",
            "Train Epoch: 4 [8960/60000 (17%)]\tLoss: 0.017794\n",
            "Train Epoch: 4 [9600/60000 (18%)]\tLoss: 0.004882\n",
            "Train Epoch: 4 [10240/60000 (19%)]\tLoss: 0.014653\n",
            "Train Epoch: 4 [10880/60000 (20%)]\tLoss: 0.021741\n",
            "Train Epoch: 4 [11520/60000 (21%)]\tLoss: 0.022089\n",
            "Train Epoch: 4 [12160/60000 (23%)]\tLoss: 0.004348\n",
            "Train Epoch: 4 [12800/60000 (24%)]\tLoss: 0.019909\n",
            "Train Epoch: 4 [13440/60000 (25%)]\tLoss: 0.004678\n",
            "Train Epoch: 4 [14080/60000 (26%)]\tLoss: 0.028530\n",
            "Train Epoch: 4 [14720/60000 (27%)]\tLoss: 0.046671\n",
            "Train Epoch: 4 [15360/60000 (28%)]\tLoss: 0.027780\n",
            "Train Epoch: 4 [16000/60000 (30%)]\tLoss: 0.008260\n",
            "Train Epoch: 4 [16640/60000 (31%)]\tLoss: 0.017914\n",
            "Train Epoch: 4 [17280/60000 (32%)]\tLoss: 0.002349\n",
            "Train Epoch: 4 [17920/60000 (33%)]\tLoss: 0.024777\n",
            "Train Epoch: 4 [18560/60000 (34%)]\tLoss: 0.008381\n",
            "Train Epoch: 4 [19200/60000 (36%)]\tLoss: 0.040127\n",
            "Train Epoch: 4 [19840/60000 (37%)]\tLoss: 0.029334\n",
            "Train Epoch: 4 [20480/60000 (38%)]\tLoss: 0.028486\n",
            "Train Epoch: 4 [21120/60000 (39%)]\tLoss: 0.059539\n",
            "Train Epoch: 4 [21760/60000 (40%)]\tLoss: 0.001020\n",
            "Train Epoch: 4 [22400/60000 (41%)]\tLoss: 0.010175\n",
            "Train Epoch: 4 [23040/60000 (43%)]\tLoss: 0.063177\n",
            "Train Epoch: 4 [23680/60000 (44%)]\tLoss: 0.002803\n",
            "Train Epoch: 4 [24320/60000 (45%)]\tLoss: 0.054651\n",
            "Train Epoch: 4 [24960/60000 (46%)]\tLoss: 0.065996\n",
            "Train Epoch: 4 [25600/60000 (47%)]\tLoss: 0.038509\n",
            "Train Epoch: 4 [26240/60000 (49%)]\tLoss: 0.046036\n",
            "Train Epoch: 4 [26880/60000 (50%)]\tLoss: 0.009434\n",
            "Train Epoch: 4 [27520/60000 (51%)]\tLoss: 0.072140\n",
            "Train Epoch: 4 [28160/60000 (52%)]\tLoss: 0.074994\n",
            "Train Epoch: 4 [28800/60000 (53%)]\tLoss: 0.081553\n",
            "Train Epoch: 4 [29440/60000 (55%)]\tLoss: 0.034977\n",
            "Train Epoch: 4 [30080/60000 (56%)]\tLoss: 0.033493\n",
            "Train Epoch: 4 [30720/60000 (57%)]\tLoss: 0.002655\n",
            "Train Epoch: 4 [31360/60000 (58%)]\tLoss: 0.023550\n",
            "Train Epoch: 4 [32000/60000 (59%)]\tLoss: 0.005555\n",
            "Train Epoch: 4 [32640/60000 (60%)]\tLoss: 0.016325\n",
            "Train Epoch: 4 [33280/60000 (62%)]\tLoss: 0.005709\n",
            "Train Epoch: 4 [33920/60000 (63%)]\tLoss: 0.022563\n",
            "Train Epoch: 4 [34560/60000 (64%)]\tLoss: 0.021816\n",
            "Train Epoch: 4 [35200/60000 (65%)]\tLoss: 0.081938\n",
            "Train Epoch: 4 [35840/60000 (66%)]\tLoss: 0.004609\n",
            "Train Epoch: 4 [36480/60000 (68%)]\tLoss: 0.001011\n",
            "Train Epoch: 4 [37120/60000 (69%)]\tLoss: 0.048964\n",
            "Train Epoch: 4 [37760/60000 (70%)]\tLoss: 0.117682\n",
            "Train Epoch: 4 [38400/60000 (71%)]\tLoss: 0.015557\n",
            "Train Epoch: 4 [39040/60000 (72%)]\tLoss: 0.076284\n",
            "Train Epoch: 4 [39680/60000 (73%)]\tLoss: 0.004542\n",
            "Train Epoch: 4 [40320/60000 (75%)]\tLoss: 0.002520\n",
            "Train Epoch: 4 [40960/60000 (76%)]\tLoss: 0.010607\n",
            "Train Epoch: 4 [41600/60000 (77%)]\tLoss: 0.159565\n",
            "Train Epoch: 4 [42240/60000 (78%)]\tLoss: 0.070114\n",
            "Train Epoch: 4 [42880/60000 (79%)]\tLoss: 0.088374\n",
            "Train Epoch: 4 [43520/60000 (81%)]\tLoss: 0.086152\n",
            "Train Epoch: 4 [44160/60000 (82%)]\tLoss: 0.027233\n",
            "Train Epoch: 4 [44800/60000 (83%)]\tLoss: 0.010633\n",
            "Train Epoch: 4 [45440/60000 (84%)]\tLoss: 0.061156\n",
            "Train Epoch: 4 [46080/60000 (85%)]\tLoss: 0.025089\n",
            "Train Epoch: 4 [46720/60000 (86%)]\tLoss: 0.019671\n",
            "Train Epoch: 4 [47360/60000 (88%)]\tLoss: 0.031058\n",
            "Train Epoch: 4 [48000/60000 (89%)]\tLoss: 0.019031\n",
            "Train Epoch: 4 [48640/60000 (90%)]\tLoss: 0.048421\n",
            "Train Epoch: 4 [49280/60000 (91%)]\tLoss: 0.017139\n",
            "Train Epoch: 4 [49920/60000 (92%)]\tLoss: 0.020113\n",
            "Train Epoch: 4 [50560/60000 (94%)]\tLoss: 0.014450\n",
            "Train Epoch: 4 [51200/60000 (95%)]\tLoss: 0.013521\n",
            "Train Epoch: 4 [51840/60000 (96%)]\tLoss: 0.049705\n",
            "Train Epoch: 4 [52480/60000 (97%)]\tLoss: 0.060755\n",
            "Train Epoch: 4 [53120/60000 (98%)]\tLoss: 0.167288\n",
            "Train Epoch: 4 [53760/60000 (100%)]\tLoss: 0.030479\n",
            "\n",
            " Validation set: Average loss: 0.0464, Accuracy: 5930/6000 (99%)\n",
            "\n",
            "Validation  set Accuracy over the epochs [0.9698333144187927, 0.9833333492279053, 0.98416668176651, 0.9883333444595337]\n",
            "Train Epoch: 5 [0/60000 (0%)]\tLoss: 0.017578\n",
            "Train Epoch: 5 [640/60000 (1%)]\tLoss: 0.036056\n",
            "Train Epoch: 5 [1280/60000 (2%)]\tLoss: 0.057519\n",
            "Train Epoch: 5 [1920/60000 (4%)]\tLoss: 0.057755\n",
            "Train Epoch: 5 [2560/60000 (5%)]\tLoss: 0.021772\n",
            "Train Epoch: 5 [3200/60000 (6%)]\tLoss: 0.008021\n",
            "Train Epoch: 5 [3840/60000 (7%)]\tLoss: 0.007581\n",
            "Train Epoch: 5 [4480/60000 (8%)]\tLoss: 0.052230\n",
            "Train Epoch: 5 [5120/60000 (9%)]\tLoss: 0.045574\n",
            "Train Epoch: 5 [5760/60000 (11%)]\tLoss: 0.018392\n",
            "Train Epoch: 5 [6400/60000 (12%)]\tLoss: 0.032020\n",
            "Train Epoch: 5 [7040/60000 (13%)]\tLoss: 0.017262\n",
            "Train Epoch: 5 [7680/60000 (14%)]\tLoss: 0.009365\n",
            "Train Epoch: 5 [8320/60000 (15%)]\tLoss: 0.002441\n",
            "Train Epoch: 5 [8960/60000 (17%)]\tLoss: 0.006735\n",
            "Train Epoch: 5 [9600/60000 (18%)]\tLoss: 0.070398\n",
            "Train Epoch: 5 [10240/60000 (19%)]\tLoss: 0.021490\n",
            "Train Epoch: 5 [10880/60000 (20%)]\tLoss: 0.024599\n",
            "Train Epoch: 5 [11520/60000 (21%)]\tLoss: 0.007861\n",
            "Train Epoch: 5 [12160/60000 (23%)]\tLoss: 0.058709\n",
            "Train Epoch: 5 [12800/60000 (24%)]\tLoss: 0.034052\n",
            "Train Epoch: 5 [13440/60000 (25%)]\tLoss: 0.004012\n",
            "Train Epoch: 5 [14080/60000 (26%)]\tLoss: 0.014954\n",
            "Train Epoch: 5 [14720/60000 (27%)]\tLoss: 0.015254\n",
            "Train Epoch: 5 [15360/60000 (28%)]\tLoss: 0.021570\n",
            "Train Epoch: 5 [16000/60000 (30%)]\tLoss: 0.035859\n",
            "Train Epoch: 5 [16640/60000 (31%)]\tLoss: 0.002706\n",
            "Train Epoch: 5 [17280/60000 (32%)]\tLoss: 0.088145\n",
            "Train Epoch: 5 [17920/60000 (33%)]\tLoss: 0.071138\n",
            "Train Epoch: 5 [18560/60000 (34%)]\tLoss: 0.052235\n",
            "Train Epoch: 5 [19200/60000 (36%)]\tLoss: 0.034043\n",
            "Train Epoch: 5 [19840/60000 (37%)]\tLoss: 0.034077\n",
            "Train Epoch: 5 [20480/60000 (38%)]\tLoss: 0.073027\n",
            "Train Epoch: 5 [21120/60000 (39%)]\tLoss: 0.043540\n",
            "Train Epoch: 5 [21760/60000 (40%)]\tLoss: 0.013544\n",
            "Train Epoch: 5 [22400/60000 (41%)]\tLoss: 0.010139\n",
            "Train Epoch: 5 [23040/60000 (43%)]\tLoss: 0.023433\n",
            "Train Epoch: 5 [23680/60000 (44%)]\tLoss: 0.002498\n",
            "Train Epoch: 5 [24320/60000 (45%)]\tLoss: 0.026362\n",
            "Train Epoch: 5 [24960/60000 (46%)]\tLoss: 0.079508\n",
            "Train Epoch: 5 [25600/60000 (47%)]\tLoss: 0.033518\n",
            "Train Epoch: 5 [26240/60000 (49%)]\tLoss: 0.030011\n",
            "Train Epoch: 5 [26880/60000 (50%)]\tLoss: 0.081944\n",
            "Train Epoch: 5 [27520/60000 (51%)]\tLoss: 0.001152\n",
            "Train Epoch: 5 [28160/60000 (52%)]\tLoss: 0.005095\n",
            "Train Epoch: 5 [28800/60000 (53%)]\tLoss: 0.043570\n",
            "Train Epoch: 5 [29440/60000 (55%)]\tLoss: 0.003692\n",
            "Train Epoch: 5 [30080/60000 (56%)]\tLoss: 0.074671\n",
            "Train Epoch: 5 [30720/60000 (57%)]\tLoss: 0.042099\n",
            "Train Epoch: 5 [31360/60000 (58%)]\tLoss: 0.007324\n",
            "Train Epoch: 5 [32000/60000 (59%)]\tLoss: 0.276200\n",
            "Train Epoch: 5 [32640/60000 (60%)]\tLoss: 0.067260\n",
            "Train Epoch: 5 [33280/60000 (62%)]\tLoss: 0.025414\n",
            "Train Epoch: 5 [33920/60000 (63%)]\tLoss: 0.029182\n",
            "Train Epoch: 5 [34560/60000 (64%)]\tLoss: 0.015667\n",
            "Train Epoch: 5 [35200/60000 (65%)]\tLoss: 0.017929\n",
            "Train Epoch: 5 [35840/60000 (66%)]\tLoss: 0.003423\n",
            "Train Epoch: 5 [36480/60000 (68%)]\tLoss: 0.000858\n",
            "Train Epoch: 5 [37120/60000 (69%)]\tLoss: 0.051093\n",
            "Train Epoch: 5 [37760/60000 (70%)]\tLoss: 0.001575\n",
            "Train Epoch: 5 [38400/60000 (71%)]\tLoss: 0.006285\n",
            "Train Epoch: 5 [39040/60000 (72%)]\tLoss: 0.032734\n",
            "Train Epoch: 5 [39680/60000 (73%)]\tLoss: 0.000993\n",
            "Train Epoch: 5 [40320/60000 (75%)]\tLoss: 0.042012\n",
            "Train Epoch: 5 [40960/60000 (76%)]\tLoss: 0.047935\n",
            "Train Epoch: 5 [41600/60000 (77%)]\tLoss: 0.033310\n",
            "Train Epoch: 5 [42240/60000 (78%)]\tLoss: 0.001784\n",
            "Train Epoch: 5 [42880/60000 (79%)]\tLoss: 0.097002\n",
            "Train Epoch: 5 [43520/60000 (81%)]\tLoss: 0.009671\n",
            "Train Epoch: 5 [44160/60000 (82%)]\tLoss: 0.059434\n",
            "Train Epoch: 5 [44800/60000 (83%)]\tLoss: 0.023785\n",
            "Train Epoch: 5 [45440/60000 (84%)]\tLoss: 0.002571\n",
            "Train Epoch: 5 [46080/60000 (85%)]\tLoss: 0.005902\n",
            "Train Epoch: 5 [46720/60000 (86%)]\tLoss: 0.046988\n",
            "Train Epoch: 5 [47360/60000 (88%)]\tLoss: 0.018318\n",
            "Train Epoch: 5 [48000/60000 (89%)]\tLoss: 0.086301\n",
            "Train Epoch: 5 [48640/60000 (90%)]\tLoss: 0.040235\n",
            "Train Epoch: 5 [49280/60000 (91%)]\tLoss: 0.046300\n",
            "Train Epoch: 5 [49920/60000 (92%)]\tLoss: 0.017603\n",
            "Train Epoch: 5 [50560/60000 (94%)]\tLoss: 0.001709\n",
            "Train Epoch: 5 [51200/60000 (95%)]\tLoss: 0.000303\n",
            "Train Epoch: 5 [51840/60000 (96%)]\tLoss: 0.081508\n",
            "Train Epoch: 5 [52480/60000 (97%)]\tLoss: 0.001478\n",
            "Train Epoch: 5 [53120/60000 (98%)]\tLoss: 0.017864\n",
            "Train Epoch: 5 [53760/60000 (100%)]\tLoss: 0.051590\n",
            "\n",
            " Validation set: Average loss: 0.0543, Accuracy: 5916/6000 (99%)\n",
            "\n",
            "Validation  set Accuracy over the epochs [0.9698333144187927, 0.9833333492279053, 0.98416668176651, 0.9883333444595337, 0.9860000014305115]\n",
            "Train Epoch: 6 [0/60000 (0%)]\tLoss: 0.003176\n",
            "Train Epoch: 6 [640/60000 (1%)]\tLoss: 0.004438\n",
            "Train Epoch: 6 [1280/60000 (2%)]\tLoss: 0.013754\n",
            "Train Epoch: 6 [1920/60000 (4%)]\tLoss: 0.022791\n",
            "Train Epoch: 6 [2560/60000 (5%)]\tLoss: 0.001281\n",
            "Train Epoch: 6 [3200/60000 (6%)]\tLoss: 0.021563\n",
            "Train Epoch: 6 [3840/60000 (7%)]\tLoss: 0.040526\n",
            "Train Epoch: 6 [4480/60000 (8%)]\tLoss: 0.028559\n",
            "Train Epoch: 6 [5120/60000 (9%)]\tLoss: 0.003615\n",
            "Train Epoch: 6 [5760/60000 (11%)]\tLoss: 0.001959\n",
            "Train Epoch: 6 [6400/60000 (12%)]\tLoss: 0.024762\n",
            "Train Epoch: 6 [7040/60000 (13%)]\tLoss: 0.072707\n",
            "Train Epoch: 6 [7680/60000 (14%)]\tLoss: 0.124872\n",
            "Train Epoch: 6 [8320/60000 (15%)]\tLoss: 0.002035\n",
            "Train Epoch: 6 [8960/60000 (17%)]\tLoss: 0.057421\n",
            "Train Epoch: 6 [9600/60000 (18%)]\tLoss: 0.060603\n",
            "Train Epoch: 6 [10240/60000 (19%)]\tLoss: 0.002000\n",
            "Train Epoch: 6 [10880/60000 (20%)]\tLoss: 0.009220\n",
            "Train Epoch: 6 [11520/60000 (21%)]\tLoss: 0.026761\n",
            "Train Epoch: 6 [12160/60000 (23%)]\tLoss: 0.018266\n",
            "Train Epoch: 6 [12800/60000 (24%)]\tLoss: 0.024031\n",
            "Train Epoch: 6 [13440/60000 (25%)]\tLoss: 0.000155\n",
            "Train Epoch: 6 [14080/60000 (26%)]\tLoss: 0.010351\n",
            "Train Epoch: 6 [14720/60000 (27%)]\tLoss: 0.187343\n",
            "Train Epoch: 6 [15360/60000 (28%)]\tLoss: 0.030257\n",
            "Train Epoch: 6 [16000/60000 (30%)]\tLoss: 0.000458\n",
            "Train Epoch: 6 [16640/60000 (31%)]\tLoss: 0.042377\n",
            "Train Epoch: 6 [17280/60000 (32%)]\tLoss: 0.000138\n",
            "Train Epoch: 6 [17920/60000 (33%)]\tLoss: 0.017603\n",
            "Train Epoch: 6 [18560/60000 (34%)]\tLoss: 0.164573\n",
            "Train Epoch: 6 [19200/60000 (36%)]\tLoss: 0.002408\n",
            "Train Epoch: 6 [19840/60000 (37%)]\tLoss: 0.007140\n",
            "Train Epoch: 6 [20480/60000 (38%)]\tLoss: 0.027954\n",
            "Train Epoch: 6 [21120/60000 (39%)]\tLoss: 0.016790\n",
            "Train Epoch: 6 [21760/60000 (40%)]\tLoss: 0.045208\n",
            "Train Epoch: 6 [22400/60000 (41%)]\tLoss: 0.145083\n",
            "Train Epoch: 6 [23040/60000 (43%)]\tLoss: 0.021860\n",
            "Train Epoch: 6 [23680/60000 (44%)]\tLoss: 0.099657\n",
            "Train Epoch: 6 [24320/60000 (45%)]\tLoss: 0.002431\n",
            "Train Epoch: 6 [24960/60000 (46%)]\tLoss: 0.009131\n",
            "Train Epoch: 6 [25600/60000 (47%)]\tLoss: 0.013655\n",
            "Train Epoch: 6 [26240/60000 (49%)]\tLoss: 0.010710\n",
            "Train Epoch: 6 [26880/60000 (50%)]\tLoss: 0.026989\n",
            "Train Epoch: 6 [27520/60000 (51%)]\tLoss: 0.041452\n",
            "Train Epoch: 6 [28160/60000 (52%)]\tLoss: 0.036795\n",
            "Train Epoch: 6 [28800/60000 (53%)]\tLoss: 0.063784\n",
            "Train Epoch: 6 [29440/60000 (55%)]\tLoss: 0.058130\n",
            "Train Epoch: 6 [30080/60000 (56%)]\tLoss: 0.020599\n",
            "Train Epoch: 6 [30720/60000 (57%)]\tLoss: 0.002638\n",
            "Train Epoch: 6 [31360/60000 (58%)]\tLoss: 0.063670\n",
            "Train Epoch: 6 [32000/60000 (59%)]\tLoss: 0.003265\n",
            "Train Epoch: 6 [32640/60000 (60%)]\tLoss: 0.013841\n",
            "Train Epoch: 6 [33280/60000 (62%)]\tLoss: 0.001509\n",
            "Train Epoch: 6 [33920/60000 (63%)]\tLoss: 0.078538\n",
            "Train Epoch: 6 [34560/60000 (64%)]\tLoss: 0.009122\n",
            "Train Epoch: 6 [35200/60000 (65%)]\tLoss: 0.013961\n",
            "Train Epoch: 6 [35840/60000 (66%)]\tLoss: 0.015437\n",
            "Train Epoch: 6 [36480/60000 (68%)]\tLoss: 0.045115\n",
            "Train Epoch: 6 [37120/60000 (69%)]\tLoss: 0.034877\n",
            "Train Epoch: 6 [37760/60000 (70%)]\tLoss: 0.000348\n",
            "Train Epoch: 6 [38400/60000 (71%)]\tLoss: 0.006481\n",
            "Train Epoch: 6 [39040/60000 (72%)]\tLoss: 0.079837\n",
            "Train Epoch: 6 [39680/60000 (73%)]\tLoss: 0.060881\n",
            "Train Epoch: 6 [40320/60000 (75%)]\tLoss: 0.004320\n",
            "Train Epoch: 6 [40960/60000 (76%)]\tLoss: 0.031790\n",
            "Train Epoch: 6 [41600/60000 (77%)]\tLoss: 0.004336\n",
            "Train Epoch: 6 [42240/60000 (78%)]\tLoss: 0.005074\n",
            "Train Epoch: 6 [42880/60000 (79%)]\tLoss: 0.001910\n",
            "Train Epoch: 6 [43520/60000 (81%)]\tLoss: 0.008310\n",
            "Train Epoch: 6 [44160/60000 (82%)]\tLoss: 0.002161\n",
            "Train Epoch: 6 [44800/60000 (83%)]\tLoss: 0.023459\n",
            "Train Epoch: 6 [45440/60000 (84%)]\tLoss: 0.000611\n",
            "Train Epoch: 6 [46080/60000 (85%)]\tLoss: 0.021716\n",
            "Train Epoch: 6 [46720/60000 (86%)]\tLoss: 0.014790\n",
            "Train Epoch: 6 [47360/60000 (88%)]\tLoss: 0.000169\n",
            "Train Epoch: 6 [48000/60000 (89%)]\tLoss: 0.006108\n",
            "Train Epoch: 6 [48640/60000 (90%)]\tLoss: 0.007641\n",
            "Train Epoch: 6 [49280/60000 (91%)]\tLoss: 0.132895\n",
            "Train Epoch: 6 [49920/60000 (92%)]\tLoss: 0.002985\n",
            "Train Epoch: 6 [50560/60000 (94%)]\tLoss: 0.011056\n",
            "Train Epoch: 6 [51200/60000 (95%)]\tLoss: 0.003458\n",
            "Train Epoch: 6 [51840/60000 (96%)]\tLoss: 0.038493\n",
            "Train Epoch: 6 [52480/60000 (97%)]\tLoss: 0.023709\n",
            "Train Epoch: 6 [53120/60000 (98%)]\tLoss: 0.001700\n",
            "Train Epoch: 6 [53760/60000 (100%)]\tLoss: 0.107007\n",
            "\n",
            " Validation set: Average loss: 0.0561, Accuracy: 5899/6000 (98%)\n",
            "\n",
            "Validation  set Accuracy over the epochs [0.9698333144187927, 0.9833333492279053, 0.98416668176651, 0.9883333444595337, 0.9860000014305115, 0.9831666946411133]\n",
            "Train Epoch: 7 [0/60000 (0%)]\tLoss: 0.006265\n",
            "Train Epoch: 7 [640/60000 (1%)]\tLoss: 0.035527\n",
            "Train Epoch: 7 [1280/60000 (2%)]\tLoss: 0.019462\n",
            "Train Epoch: 7 [1920/60000 (4%)]\tLoss: 0.001239\n",
            "Train Epoch: 7 [2560/60000 (5%)]\tLoss: 0.020792\n",
            "Train Epoch: 7 [3200/60000 (6%)]\tLoss: 0.008142\n",
            "Train Epoch: 7 [3840/60000 (7%)]\tLoss: 0.021736\n",
            "Train Epoch: 7 [4480/60000 (8%)]\tLoss: 0.019939\n",
            "Train Epoch: 7 [5120/60000 (9%)]\tLoss: 0.025614\n",
            "Train Epoch: 7 [5760/60000 (11%)]\tLoss: 0.008370\n",
            "Train Epoch: 7 [6400/60000 (12%)]\tLoss: 0.066951\n",
            "Train Epoch: 7 [7040/60000 (13%)]\tLoss: 0.032554\n",
            "Train Epoch: 7 [7680/60000 (14%)]\tLoss: 0.025699\n",
            "Train Epoch: 7 [8320/60000 (15%)]\tLoss: 0.001145\n",
            "Train Epoch: 7 [8960/60000 (17%)]\tLoss: 0.011990\n",
            "Train Epoch: 7 [9600/60000 (18%)]\tLoss: 0.020737\n",
            "Train Epoch: 7 [10240/60000 (19%)]\tLoss: 0.002105\n",
            "Train Epoch: 7 [10880/60000 (20%)]\tLoss: 0.027103\n",
            "Train Epoch: 7 [11520/60000 (21%)]\tLoss: 0.001736\n",
            "Train Epoch: 7 [12160/60000 (23%)]\tLoss: 0.044157\n",
            "Train Epoch: 7 [12800/60000 (24%)]\tLoss: 0.005596\n",
            "Train Epoch: 7 [13440/60000 (25%)]\tLoss: 0.016851\n",
            "Train Epoch: 7 [14080/60000 (26%)]\tLoss: 0.002114\n",
            "Train Epoch: 7 [14720/60000 (27%)]\tLoss: 0.001332\n",
            "Train Epoch: 7 [15360/60000 (28%)]\tLoss: 0.034279\n",
            "Train Epoch: 7 [16000/60000 (30%)]\tLoss: 0.003479\n",
            "Train Epoch: 7 [16640/60000 (31%)]\tLoss: 0.024959\n",
            "Train Epoch: 7 [17280/60000 (32%)]\tLoss: 0.036839\n",
            "Train Epoch: 7 [17920/60000 (33%)]\tLoss: 0.201698\n",
            "Train Epoch: 7 [18560/60000 (34%)]\tLoss: 0.000797\n",
            "Train Epoch: 7 [19200/60000 (36%)]\tLoss: 0.025210\n",
            "Train Epoch: 7 [19840/60000 (37%)]\tLoss: 0.060417\n",
            "Train Epoch: 7 [20480/60000 (38%)]\tLoss: 0.060348\n",
            "Train Epoch: 7 [21120/60000 (39%)]\tLoss: 0.000643\n",
            "Train Epoch: 7 [21760/60000 (40%)]\tLoss: 0.005796\n",
            "Train Epoch: 7 [22400/60000 (41%)]\tLoss: 0.004209\n",
            "Train Epoch: 7 [23040/60000 (43%)]\tLoss: 0.021043\n",
            "Train Epoch: 7 [23680/60000 (44%)]\tLoss: 0.006001\n",
            "Train Epoch: 7 [24320/60000 (45%)]\tLoss: 0.005259\n",
            "Train Epoch: 7 [24960/60000 (46%)]\tLoss: 0.126007\n",
            "Train Epoch: 7 [25600/60000 (47%)]\tLoss: 0.001110\n",
            "Train Epoch: 7 [26240/60000 (49%)]\tLoss: 0.015517\n",
            "Train Epoch: 7 [26880/60000 (50%)]\tLoss: 0.002185\n",
            "Train Epoch: 7 [27520/60000 (51%)]\tLoss: 0.001354\n",
            "Train Epoch: 7 [28160/60000 (52%)]\tLoss: 0.012323\n",
            "Train Epoch: 7 [28800/60000 (53%)]\tLoss: 0.005043\n",
            "Train Epoch: 7 [29440/60000 (55%)]\tLoss: 0.000496\n",
            "Train Epoch: 7 [30080/60000 (56%)]\tLoss: 0.049961\n",
            "Train Epoch: 7 [30720/60000 (57%)]\tLoss: 0.004216\n",
            "Train Epoch: 7 [31360/60000 (58%)]\tLoss: 0.001768\n",
            "Train Epoch: 7 [32000/60000 (59%)]\tLoss: 0.003148\n",
            "Train Epoch: 7 [32640/60000 (60%)]\tLoss: 0.071639\n",
            "Train Epoch: 7 [33280/60000 (62%)]\tLoss: 0.006367\n",
            "Train Epoch: 7 [33920/60000 (63%)]\tLoss: 0.002743\n",
            "Train Epoch: 7 [34560/60000 (64%)]\tLoss: 0.185595\n",
            "Train Epoch: 7 [35200/60000 (65%)]\tLoss: 0.041230\n",
            "Train Epoch: 7 [35840/60000 (66%)]\tLoss: 0.008147\n",
            "Train Epoch: 7 [36480/60000 (68%)]\tLoss: 0.014389\n",
            "Train Epoch: 7 [37120/60000 (69%)]\tLoss: 0.001301\n",
            "Train Epoch: 7 [37760/60000 (70%)]\tLoss: 0.022723\n",
            "Train Epoch: 7 [38400/60000 (71%)]\tLoss: 0.011123\n",
            "Train Epoch: 7 [39040/60000 (72%)]\tLoss: 0.001450\n",
            "Train Epoch: 7 [39680/60000 (73%)]\tLoss: 0.111918\n",
            "Train Epoch: 7 [40320/60000 (75%)]\tLoss: 0.000625\n",
            "Train Epoch: 7 [40960/60000 (76%)]\tLoss: 0.004407\n",
            "Train Epoch: 7 [41600/60000 (77%)]\tLoss: 0.000283\n",
            "Train Epoch: 7 [42240/60000 (78%)]\tLoss: 0.000077\n",
            "Train Epoch: 7 [42880/60000 (79%)]\tLoss: 0.000137\n",
            "Train Epoch: 7 [43520/60000 (81%)]\tLoss: 0.034660\n",
            "Train Epoch: 7 [44160/60000 (82%)]\tLoss: 0.005059\n",
            "Train Epoch: 7 [44800/60000 (83%)]\tLoss: 0.070185\n",
            "Train Epoch: 7 [45440/60000 (84%)]\tLoss: 0.072035\n",
            "Train Epoch: 7 [46080/60000 (85%)]\tLoss: 0.011078\n",
            "Train Epoch: 7 [46720/60000 (86%)]\tLoss: 0.002789\n",
            "Train Epoch: 7 [47360/60000 (88%)]\tLoss: 0.007377\n",
            "Train Epoch: 7 [48000/60000 (89%)]\tLoss: 0.082919\n",
            "Train Epoch: 7 [48640/60000 (90%)]\tLoss: 0.070762\n",
            "Train Epoch: 7 [49280/60000 (91%)]\tLoss: 0.022764\n",
            "Train Epoch: 7 [49920/60000 (92%)]\tLoss: 0.088049\n",
            "Train Epoch: 7 [50560/60000 (94%)]\tLoss: 0.015644\n",
            "Train Epoch: 7 [51200/60000 (95%)]\tLoss: 0.001850\n",
            "Train Epoch: 7 [51840/60000 (96%)]\tLoss: 0.001725\n",
            "Train Epoch: 7 [52480/60000 (97%)]\tLoss: 0.002553\n",
            "Train Epoch: 7 [53120/60000 (98%)]\tLoss: 0.000301\n",
            "Train Epoch: 7 [53760/60000 (100%)]\tLoss: 0.030519\n",
            "\n",
            " Validation set: Average loss: 0.0607, Accuracy: 5919/6000 (99%)\n",
            "\n",
            "Validation  set Accuracy over the epochs [0.9698333144187927, 0.9833333492279053, 0.98416668176651, 0.9883333444595337, 0.9860000014305115, 0.9831666946411133, 0.9865000247955322]\n",
            "Train Epoch: 8 [0/60000 (0%)]\tLoss: 0.009055\n",
            "Train Epoch: 8 [640/60000 (1%)]\tLoss: 0.027671\n",
            "Train Epoch: 8 [1280/60000 (2%)]\tLoss: 0.001570\n",
            "Train Epoch: 8 [1920/60000 (4%)]\tLoss: 0.026800\n",
            "Train Epoch: 8 [2560/60000 (5%)]\tLoss: 0.001479\n",
            "Train Epoch: 8 [3200/60000 (6%)]\tLoss: 0.001764\n",
            "Train Epoch: 8 [3840/60000 (7%)]\tLoss: 0.033270\n",
            "Train Epoch: 8 [4480/60000 (8%)]\tLoss: 0.004373\n",
            "Train Epoch: 8 [5120/60000 (9%)]\tLoss: 0.117533\n",
            "Train Epoch: 8 [5760/60000 (11%)]\tLoss: 0.002365\n",
            "Train Epoch: 8 [6400/60000 (12%)]\tLoss: 0.004924\n",
            "Train Epoch: 8 [7040/60000 (13%)]\tLoss: 0.032245\n",
            "Train Epoch: 8 [7680/60000 (14%)]\tLoss: 0.001885\n",
            "Train Epoch: 8 [8320/60000 (15%)]\tLoss: 0.001643\n",
            "Train Epoch: 8 [8960/60000 (17%)]\tLoss: 0.015653\n",
            "Train Epoch: 8 [9600/60000 (18%)]\tLoss: 0.011204\n",
            "Train Epoch: 8 [10240/60000 (19%)]\tLoss: 0.000412\n",
            "Train Epoch: 8 [10880/60000 (20%)]\tLoss: 0.024434\n",
            "Train Epoch: 8 [11520/60000 (21%)]\tLoss: 0.009069\n",
            "Train Epoch: 8 [12160/60000 (23%)]\tLoss: 0.009635\n",
            "Train Epoch: 8 [12800/60000 (24%)]\tLoss: 0.012229\n",
            "Train Epoch: 8 [13440/60000 (25%)]\tLoss: 0.022948\n",
            "Train Epoch: 8 [14080/60000 (26%)]\tLoss: 0.000293\n",
            "Train Epoch: 8 [14720/60000 (27%)]\tLoss: 0.044467\n",
            "Train Epoch: 8 [15360/60000 (28%)]\tLoss: 0.009286\n",
            "Train Epoch: 8 [16000/60000 (30%)]\tLoss: 0.005485\n",
            "Train Epoch: 8 [16640/60000 (31%)]\tLoss: 0.007983\n",
            "Train Epoch: 8 [17280/60000 (32%)]\tLoss: 0.000718\n",
            "Train Epoch: 8 [17920/60000 (33%)]\tLoss: 0.011407\n",
            "Train Epoch: 8 [18560/60000 (34%)]\tLoss: 0.029525\n",
            "Train Epoch: 8 [19200/60000 (36%)]\tLoss: 0.043447\n",
            "Train Epoch: 8 [19840/60000 (37%)]\tLoss: 0.009113\n",
            "Train Epoch: 8 [20480/60000 (38%)]\tLoss: 0.038015\n",
            "Train Epoch: 8 [21120/60000 (39%)]\tLoss: 0.037325\n",
            "Train Epoch: 8 [21760/60000 (40%)]\tLoss: 0.000618\n",
            "Train Epoch: 8 [22400/60000 (41%)]\tLoss: 0.029962\n",
            "Train Epoch: 8 [23040/60000 (43%)]\tLoss: 0.009537\n",
            "Train Epoch: 8 [23680/60000 (44%)]\tLoss: 0.010715\n",
            "Train Epoch: 8 [24320/60000 (45%)]\tLoss: 0.005146\n",
            "Train Epoch: 8 [24960/60000 (46%)]\tLoss: 0.000321\n",
            "Train Epoch: 8 [25600/60000 (47%)]\tLoss: 0.022430\n",
            "Train Epoch: 8 [26240/60000 (49%)]\tLoss: 0.013210\n",
            "Train Epoch: 8 [26880/60000 (50%)]\tLoss: 0.028409\n",
            "Train Epoch: 8 [27520/60000 (51%)]\tLoss: 0.024325\n",
            "Train Epoch: 8 [28160/60000 (52%)]\tLoss: 0.012238\n",
            "Train Epoch: 8 [28800/60000 (53%)]\tLoss: 0.107485\n",
            "Train Epoch: 8 [29440/60000 (55%)]\tLoss: 0.020824\n",
            "Train Epoch: 8 [30080/60000 (56%)]\tLoss: 0.000367\n",
            "Train Epoch: 8 [30720/60000 (57%)]\tLoss: 0.018732\n",
            "Train Epoch: 8 [31360/60000 (58%)]\tLoss: 0.000375\n",
            "Train Epoch: 8 [32000/60000 (59%)]\tLoss: 0.026606\n",
            "Train Epoch: 8 [32640/60000 (60%)]\tLoss: 0.003611\n",
            "Train Epoch: 8 [33280/60000 (62%)]\tLoss: 0.010132\n",
            "Train Epoch: 8 [33920/60000 (63%)]\tLoss: 0.031929\n",
            "Train Epoch: 8 [34560/60000 (64%)]\tLoss: 0.032077\n",
            "Train Epoch: 8 [35200/60000 (65%)]\tLoss: 0.119664\n",
            "Train Epoch: 8 [35840/60000 (66%)]\tLoss: 0.069184\n",
            "Train Epoch: 8 [36480/60000 (68%)]\tLoss: 0.038250\n",
            "Train Epoch: 8 [37120/60000 (69%)]\tLoss: 0.104757\n",
            "Train Epoch: 8 [37760/60000 (70%)]\tLoss: 0.076628\n",
            "Train Epoch: 8 [38400/60000 (71%)]\tLoss: 0.001163\n",
            "Train Epoch: 8 [39040/60000 (72%)]\tLoss: 0.072881\n",
            "Train Epoch: 8 [39680/60000 (73%)]\tLoss: 0.003193\n",
            "Train Epoch: 8 [40320/60000 (75%)]\tLoss: 0.043031\n",
            "Train Epoch: 8 [40960/60000 (76%)]\tLoss: 0.002132\n",
            "Train Epoch: 8 [41600/60000 (77%)]\tLoss: 0.031481\n",
            "Train Epoch: 8 [42240/60000 (78%)]\tLoss: 0.152535\n",
            "Train Epoch: 8 [42880/60000 (79%)]\tLoss: 0.081556\n",
            "Train Epoch: 8 [43520/60000 (81%)]\tLoss: 0.012420\n",
            "Train Epoch: 8 [44160/60000 (82%)]\tLoss: 0.009945\n",
            "Train Epoch: 8 [44800/60000 (83%)]\tLoss: 0.025182\n",
            "Train Epoch: 8 [45440/60000 (84%)]\tLoss: 0.001239\n",
            "Train Epoch: 8 [46080/60000 (85%)]\tLoss: 0.013939\n",
            "Train Epoch: 8 [46720/60000 (86%)]\tLoss: 0.010531\n",
            "Train Epoch: 8 [47360/60000 (88%)]\tLoss: 0.064089\n",
            "Train Epoch: 8 [48000/60000 (89%)]\tLoss: 0.013990\n",
            "Train Epoch: 8 [48640/60000 (90%)]\tLoss: 0.061864\n",
            "Train Epoch: 8 [49280/60000 (91%)]\tLoss: 0.021647\n",
            "Train Epoch: 8 [49920/60000 (92%)]\tLoss: 0.022371\n",
            "Train Epoch: 8 [50560/60000 (94%)]\tLoss: 0.009483\n",
            "Train Epoch: 8 [51200/60000 (95%)]\tLoss: 0.021920\n",
            "Train Epoch: 8 [51840/60000 (96%)]\tLoss: 0.000176\n",
            "Train Epoch: 8 [52480/60000 (97%)]\tLoss: 0.015864\n",
            "Train Epoch: 8 [53120/60000 (98%)]\tLoss: 0.020162\n",
            "Train Epoch: 8 [53760/60000 (100%)]\tLoss: 0.071909\n",
            "\n",
            " Validation set: Average loss: 0.0454, Accuracy: 5924/6000 (99%)\n",
            "\n",
            "Validation  set Accuracy over the epochs [0.9698333144187927, 0.9833333492279053, 0.98416668176651, 0.9883333444595337, 0.9860000014305115, 0.9831666946411133, 0.9865000247955322, 0.987333357334137]\n",
            "Train Epoch: 9 [0/60000 (0%)]\tLoss: 0.007598\n",
            "Train Epoch: 9 [640/60000 (1%)]\tLoss: 0.006060\n",
            "Train Epoch: 9 [1280/60000 (2%)]\tLoss: 0.003334\n",
            "Train Epoch: 9 [1920/60000 (4%)]\tLoss: 0.015163\n",
            "Train Epoch: 9 [2560/60000 (5%)]\tLoss: 0.022967\n",
            "Train Epoch: 9 [3200/60000 (6%)]\tLoss: 0.010067\n",
            "Train Epoch: 9 [3840/60000 (7%)]\tLoss: 0.025362\n",
            "Train Epoch: 9 [4480/60000 (8%)]\tLoss: 0.042188\n",
            "Train Epoch: 9 [5120/60000 (9%)]\tLoss: 0.001019\n",
            "Train Epoch: 9 [5760/60000 (11%)]\tLoss: 0.001222\n",
            "Train Epoch: 9 [6400/60000 (12%)]\tLoss: 0.009149\n",
            "Train Epoch: 9 [7040/60000 (13%)]\tLoss: 0.001897\n",
            "Train Epoch: 9 [7680/60000 (14%)]\tLoss: 0.018734\n",
            "Train Epoch: 9 [8320/60000 (15%)]\tLoss: 0.002126\n",
            "Train Epoch: 9 [8960/60000 (17%)]\tLoss: 0.052241\n",
            "Train Epoch: 9 [9600/60000 (18%)]\tLoss: 0.025243\n",
            "Train Epoch: 9 [10240/60000 (19%)]\tLoss: 0.008403\n",
            "Train Epoch: 9 [10880/60000 (20%)]\tLoss: 0.001262\n",
            "Train Epoch: 9 [11520/60000 (21%)]\tLoss: 0.020371\n",
            "Train Epoch: 9 [12160/60000 (23%)]\tLoss: 0.001512\n",
            "Train Epoch: 9 [12800/60000 (24%)]\tLoss: 0.000386\n",
            "Train Epoch: 9 [13440/60000 (25%)]\tLoss: 0.012250\n",
            "Train Epoch: 9 [14080/60000 (26%)]\tLoss: 0.094291\n",
            "Train Epoch: 9 [14720/60000 (27%)]\tLoss: 0.063277\n",
            "Train Epoch: 9 [15360/60000 (28%)]\tLoss: 0.016310\n",
            "Train Epoch: 9 [16000/60000 (30%)]\tLoss: 0.001201\n",
            "Train Epoch: 9 [16640/60000 (31%)]\tLoss: 0.090758\n",
            "Train Epoch: 9 [17280/60000 (32%)]\tLoss: 0.023880\n",
            "Train Epoch: 9 [17920/60000 (33%)]\tLoss: 0.014870\n",
            "Train Epoch: 9 [18560/60000 (34%)]\tLoss: 0.000265\n",
            "Train Epoch: 9 [19200/60000 (36%)]\tLoss: 0.023447\n",
            "Train Epoch: 9 [19840/60000 (37%)]\tLoss: 0.005798\n",
            "Train Epoch: 9 [20480/60000 (38%)]\tLoss: 0.001083\n",
            "Train Epoch: 9 [21120/60000 (39%)]\tLoss: 0.002030\n",
            "Train Epoch: 9 [21760/60000 (40%)]\tLoss: 0.033437\n",
            "Train Epoch: 9 [22400/60000 (41%)]\tLoss: 0.012211\n",
            "Train Epoch: 9 [23040/60000 (43%)]\tLoss: 0.016534\n",
            "Train Epoch: 9 [23680/60000 (44%)]\tLoss: 0.001710\n",
            "Train Epoch: 9 [24320/60000 (45%)]\tLoss: 0.011203\n",
            "Train Epoch: 9 [24960/60000 (46%)]\tLoss: 0.006231\n",
            "Train Epoch: 9 [25600/60000 (47%)]\tLoss: 0.002896\n",
            "Train Epoch: 9 [26240/60000 (49%)]\tLoss: 0.001931\n",
            "Train Epoch: 9 [26880/60000 (50%)]\tLoss: 0.002432\n",
            "Train Epoch: 9 [27520/60000 (51%)]\tLoss: 0.016176\n",
            "Train Epoch: 9 [28160/60000 (52%)]\tLoss: 0.031771\n",
            "Train Epoch: 9 [28800/60000 (53%)]\tLoss: 0.025321\n",
            "Train Epoch: 9 [29440/60000 (55%)]\tLoss: 0.142639\n",
            "Train Epoch: 9 [30080/60000 (56%)]\tLoss: 0.033433\n",
            "Train Epoch: 9 [30720/60000 (57%)]\tLoss: 0.010838\n",
            "Train Epoch: 9 [31360/60000 (58%)]\tLoss: 0.029237\n",
            "Train Epoch: 9 [32000/60000 (59%)]\tLoss: 0.011759\n",
            "Train Epoch: 9 [32640/60000 (60%)]\tLoss: 0.006316\n",
            "Train Epoch: 9 [33280/60000 (62%)]\tLoss: 0.004385\n",
            "Train Epoch: 9 [33920/60000 (63%)]\tLoss: 0.000325\n",
            "Train Epoch: 9 [34560/60000 (64%)]\tLoss: 0.000825\n",
            "Train Epoch: 9 [35200/60000 (65%)]\tLoss: 0.034104\n",
            "Train Epoch: 9 [35840/60000 (66%)]\tLoss: 0.077694\n",
            "Train Epoch: 9 [36480/60000 (68%)]\tLoss: 0.002936\n",
            "Train Epoch: 9 [37120/60000 (69%)]\tLoss: 0.007155\n",
            "Train Epoch: 9 [37760/60000 (70%)]\tLoss: 0.033665\n",
            "Train Epoch: 9 [38400/60000 (71%)]\tLoss: 0.000468\n",
            "Train Epoch: 9 [39040/60000 (72%)]\tLoss: 0.009579\n",
            "Train Epoch: 9 [39680/60000 (73%)]\tLoss: 0.032938\n",
            "Train Epoch: 9 [40320/60000 (75%)]\tLoss: 0.002804\n",
            "Train Epoch: 9 [40960/60000 (76%)]\tLoss: 0.003699\n",
            "Train Epoch: 9 [41600/60000 (77%)]\tLoss: 0.122243\n",
            "Train Epoch: 9 [42240/60000 (78%)]\tLoss: 0.010495\n",
            "Train Epoch: 9 [42880/60000 (79%)]\tLoss: 0.003223\n",
            "Train Epoch: 9 [43520/60000 (81%)]\tLoss: 0.001515\n",
            "Train Epoch: 9 [44160/60000 (82%)]\tLoss: 0.001838\n",
            "Train Epoch: 9 [44800/60000 (83%)]\tLoss: 0.001564\n",
            "Train Epoch: 9 [45440/60000 (84%)]\tLoss: 0.016846\n",
            "Train Epoch: 9 [46080/60000 (85%)]\tLoss: 0.001219\n",
            "Train Epoch: 9 [46720/60000 (86%)]\tLoss: 0.025579\n",
            "Train Epoch: 9 [47360/60000 (88%)]\tLoss: 0.001044\n",
            "Train Epoch: 9 [48000/60000 (89%)]\tLoss: 0.017240\n",
            "Train Epoch: 9 [48640/60000 (90%)]\tLoss: 0.002377\n",
            "Train Epoch: 9 [49280/60000 (91%)]\tLoss: 0.000866\n",
            "Train Epoch: 9 [49920/60000 (92%)]\tLoss: 0.016440\n",
            "Train Epoch: 9 [50560/60000 (94%)]\tLoss: 0.137599\n",
            "Train Epoch: 9 [51200/60000 (95%)]\tLoss: 0.006362\n",
            "Train Epoch: 9 [51840/60000 (96%)]\tLoss: 0.019348\n",
            "Train Epoch: 9 [52480/60000 (97%)]\tLoss: 0.008176\n",
            "Train Epoch: 9 [53120/60000 (98%)]\tLoss: 0.015966\n",
            "Train Epoch: 9 [53760/60000 (100%)]\tLoss: 0.004454\n",
            "\n",
            " Validation set: Average loss: 0.0470, Accuracy: 5922/6000 (99%)\n",
            "\n",
            "Validation  set Accuracy over the epochs [0.9698333144187927, 0.9833333492279053, 0.98416668176651, 0.9883333444595337, 0.9860000014305115, 0.9831666946411133, 0.9865000247955322, 0.987333357334137, 0.9869999885559082]\n",
            "Train Epoch: 10 [0/60000 (0%)]\tLoss: 0.169211\n",
            "Train Epoch: 10 [640/60000 (1%)]\tLoss: 0.002140\n",
            "Train Epoch: 10 [1280/60000 (2%)]\tLoss: 0.019487\n",
            "Train Epoch: 10 [1920/60000 (4%)]\tLoss: 0.101654\n",
            "Train Epoch: 10 [2560/60000 (5%)]\tLoss: 0.013092\n",
            "Train Epoch: 10 [3200/60000 (6%)]\tLoss: 0.011154\n",
            "Train Epoch: 10 [3840/60000 (7%)]\tLoss: 0.011307\n",
            "Train Epoch: 10 [4480/60000 (8%)]\tLoss: 0.001135\n",
            "Train Epoch: 10 [5120/60000 (9%)]\tLoss: 0.002973\n",
            "Train Epoch: 10 [5760/60000 (11%)]\tLoss: 0.000167\n",
            "Train Epoch: 10 [6400/60000 (12%)]\tLoss: 0.000555\n",
            "Train Epoch: 10 [7040/60000 (13%)]\tLoss: 0.027747\n",
            "Train Epoch: 10 [7680/60000 (14%)]\tLoss: 0.004058\n",
            "Train Epoch: 10 [8320/60000 (15%)]\tLoss: 0.000979\n",
            "Train Epoch: 10 [8960/60000 (17%)]\tLoss: 0.000070\n",
            "Train Epoch: 10 [9600/60000 (18%)]\tLoss: 0.032501\n",
            "Train Epoch: 10 [10240/60000 (19%)]\tLoss: 0.045638\n",
            "Train Epoch: 10 [10880/60000 (20%)]\tLoss: 0.049748\n",
            "Train Epoch: 10 [11520/60000 (21%)]\tLoss: 0.004163\n",
            "Train Epoch: 10 [12160/60000 (23%)]\tLoss: 0.052411\n",
            "Train Epoch: 10 [12800/60000 (24%)]\tLoss: 0.157143\n",
            "Train Epoch: 10 [13440/60000 (25%)]\tLoss: 0.004007\n",
            "Train Epoch: 10 [14080/60000 (26%)]\tLoss: 0.014830\n",
            "Train Epoch: 10 [14720/60000 (27%)]\tLoss: 0.000190\n",
            "Train Epoch: 10 [15360/60000 (28%)]\tLoss: 0.002580\n",
            "Train Epoch: 10 [16000/60000 (30%)]\tLoss: 0.005612\n",
            "Train Epoch: 10 [16640/60000 (31%)]\tLoss: 0.035747\n",
            "Train Epoch: 10 [17280/60000 (32%)]\tLoss: 0.002881\n",
            "Train Epoch: 10 [17920/60000 (33%)]\tLoss: 0.000828\n",
            "Train Epoch: 10 [18560/60000 (34%)]\tLoss: 0.048514\n",
            "Train Epoch: 10 [19200/60000 (36%)]\tLoss: 0.003395\n",
            "Train Epoch: 10 [19840/60000 (37%)]\tLoss: 0.033287\n",
            "Train Epoch: 10 [20480/60000 (38%)]\tLoss: 0.000630\n",
            "Train Epoch: 10 [21120/60000 (39%)]\tLoss: 0.002658\n",
            "Train Epoch: 10 [21760/60000 (40%)]\tLoss: 0.011994\n",
            "Train Epoch: 10 [22400/60000 (41%)]\tLoss: 0.001524\n",
            "Train Epoch: 10 [23040/60000 (43%)]\tLoss: 0.001312\n",
            "Train Epoch: 10 [23680/60000 (44%)]\tLoss: 0.000835\n",
            "Train Epoch: 10 [24320/60000 (45%)]\tLoss: 0.000464\n",
            "Train Epoch: 10 [24960/60000 (46%)]\tLoss: 0.010978\n",
            "Train Epoch: 10 [25600/60000 (47%)]\tLoss: 0.026002\n",
            "Train Epoch: 10 [26240/60000 (49%)]\tLoss: 0.169437\n",
            "Train Epoch: 10 [26880/60000 (50%)]\tLoss: 0.007499\n",
            "Train Epoch: 10 [27520/60000 (51%)]\tLoss: 0.005458\n",
            "Train Epoch: 10 [28160/60000 (52%)]\tLoss: 0.035697\n",
            "Train Epoch: 10 [28800/60000 (53%)]\tLoss: 0.002673\n",
            "Train Epoch: 10 [29440/60000 (55%)]\tLoss: 0.004293\n",
            "Train Epoch: 10 [30080/60000 (56%)]\tLoss: 0.014260\n",
            "Train Epoch: 10 [30720/60000 (57%)]\tLoss: 0.076482\n",
            "Train Epoch: 10 [31360/60000 (58%)]\tLoss: 0.020491\n",
            "Train Epoch: 10 [32000/60000 (59%)]\tLoss: 0.006759\n",
            "Train Epoch: 10 [32640/60000 (60%)]\tLoss: 0.023217\n",
            "Train Epoch: 10 [33280/60000 (62%)]\tLoss: 0.046302\n",
            "Train Epoch: 10 [33920/60000 (63%)]\tLoss: 0.010056\n",
            "Train Epoch: 10 [34560/60000 (64%)]\tLoss: 0.014360\n",
            "Train Epoch: 10 [35200/60000 (65%)]\tLoss: 0.003089\n",
            "Train Epoch: 10 [35840/60000 (66%)]\tLoss: 0.001271\n",
            "Train Epoch: 10 [36480/60000 (68%)]\tLoss: 0.149947\n",
            "Train Epoch: 10 [37120/60000 (69%)]\tLoss: 0.000427\n",
            "Train Epoch: 10 [37760/60000 (70%)]\tLoss: 0.024329\n",
            "Train Epoch: 10 [38400/60000 (71%)]\tLoss: 0.020308\n",
            "Train Epoch: 10 [39040/60000 (72%)]\tLoss: 0.001153\n",
            "Train Epoch: 10 [39680/60000 (73%)]\tLoss: 0.025139\n",
            "Train Epoch: 10 [40320/60000 (75%)]\tLoss: 0.107282\n",
            "Train Epoch: 10 [40960/60000 (76%)]\tLoss: 0.046842\n",
            "Train Epoch: 10 [41600/60000 (77%)]\tLoss: 0.000263\n",
            "Train Epoch: 10 [42240/60000 (78%)]\tLoss: 0.000234\n",
            "Train Epoch: 10 [42880/60000 (79%)]\tLoss: 0.002412\n",
            "Train Epoch: 10 [43520/60000 (81%)]\tLoss: 0.007414\n",
            "Train Epoch: 10 [44160/60000 (82%)]\tLoss: 0.001553\n",
            "Train Epoch: 10 [44800/60000 (83%)]\tLoss: 0.034627\n",
            "Train Epoch: 10 [45440/60000 (84%)]\tLoss: 0.014087\n",
            "Train Epoch: 10 [46080/60000 (85%)]\tLoss: 0.000251\n",
            "Train Epoch: 10 [46720/60000 (86%)]\tLoss: 0.000611\n",
            "Train Epoch: 10 [47360/60000 (88%)]\tLoss: 0.032493\n",
            "Train Epoch: 10 [48000/60000 (89%)]\tLoss: 0.009765\n",
            "Train Epoch: 10 [48640/60000 (90%)]\tLoss: 0.006052\n",
            "Train Epoch: 10 [49280/60000 (91%)]\tLoss: 0.005186\n",
            "Train Epoch: 10 [49920/60000 (92%)]\tLoss: 0.110140\n",
            "Train Epoch: 10 [50560/60000 (94%)]\tLoss: 0.067517\n",
            "Train Epoch: 10 [51200/60000 (95%)]\tLoss: 0.000954\n",
            "Train Epoch: 10 [51840/60000 (96%)]\tLoss: 0.047551\n",
            "Train Epoch: 10 [52480/60000 (97%)]\tLoss: 0.054288\n",
            "Train Epoch: 10 [53120/60000 (98%)]\tLoss: 0.039370\n",
            "Train Epoch: 10 [53760/60000 (100%)]\tLoss: 0.001714\n",
            "\n",
            " Validation set: Average loss: 0.0490, Accuracy: 5932/6000 (99%)\n",
            "\n",
            "Validation  set Accuracy over the epochs [0.9698333144187927, 0.9833333492279053, 0.98416668176651, 0.9883333444595337, 0.9860000014305115, 0.9831666946411133, 0.9865000247955322, 0.987333357334137, 0.9869999885559082, 0.9886666536331177]\n",
            "Train Epoch: 11 [0/60000 (0%)]\tLoss: 0.016003\n",
            "Train Epoch: 11 [640/60000 (1%)]\tLoss: 0.031054\n",
            "Train Epoch: 11 [1280/60000 (2%)]\tLoss: 0.000968\n",
            "Train Epoch: 11 [1920/60000 (4%)]\tLoss: 0.017423\n",
            "Train Epoch: 11 [2560/60000 (5%)]\tLoss: 0.000430\n",
            "Train Epoch: 11 [3200/60000 (6%)]\tLoss: 0.006621\n",
            "Train Epoch: 11 [3840/60000 (7%)]\tLoss: 0.000084\n",
            "Train Epoch: 11 [4480/60000 (8%)]\tLoss: 0.020127\n",
            "Train Epoch: 11 [5120/60000 (9%)]\tLoss: 0.013467\n",
            "Train Epoch: 11 [5760/60000 (11%)]\tLoss: 0.006534\n",
            "Train Epoch: 11 [6400/60000 (12%)]\tLoss: 0.015414\n",
            "Train Epoch: 11 [7040/60000 (13%)]\tLoss: 0.001920\n",
            "Train Epoch: 11 [7680/60000 (14%)]\tLoss: 0.001282\n",
            "Train Epoch: 11 [8320/60000 (15%)]\tLoss: 0.013322\n",
            "Train Epoch: 11 [8960/60000 (17%)]\tLoss: 0.001544\n",
            "Train Epoch: 11 [9600/60000 (18%)]\tLoss: 0.014046\n",
            "Train Epoch: 11 [10240/60000 (19%)]\tLoss: 0.001105\n",
            "Train Epoch: 11 [10880/60000 (20%)]\tLoss: 0.010580\n",
            "Train Epoch: 11 [11520/60000 (21%)]\tLoss: 0.019656\n",
            "Train Epoch: 11 [12160/60000 (23%)]\tLoss: 0.002416\n",
            "Train Epoch: 11 [12800/60000 (24%)]\tLoss: 0.016524\n",
            "Train Epoch: 11 [13440/60000 (25%)]\tLoss: 0.023319\n",
            "Train Epoch: 11 [14080/60000 (26%)]\tLoss: 0.019333\n",
            "Train Epoch: 11 [14720/60000 (27%)]\tLoss: 0.002251\n",
            "Train Epoch: 11 [15360/60000 (28%)]\tLoss: 0.092999\n",
            "Train Epoch: 11 [16000/60000 (30%)]\tLoss: 0.010194\n",
            "Train Epoch: 11 [16640/60000 (31%)]\tLoss: 0.044865\n",
            "Train Epoch: 11 [17280/60000 (32%)]\tLoss: 0.014422\n",
            "Train Epoch: 11 [17920/60000 (33%)]\tLoss: 0.010078\n",
            "Train Epoch: 11 [18560/60000 (34%)]\tLoss: 0.000039\n",
            "Train Epoch: 11 [19200/60000 (36%)]\tLoss: 0.005213\n",
            "Train Epoch: 11 [19840/60000 (37%)]\tLoss: 0.001787\n",
            "Train Epoch: 11 [20480/60000 (38%)]\tLoss: 0.000307\n",
            "Train Epoch: 11 [21120/60000 (39%)]\tLoss: 0.011889\n",
            "Train Epoch: 11 [21760/60000 (40%)]\tLoss: 0.008301\n",
            "Train Epoch: 11 [22400/60000 (41%)]\tLoss: 0.003419\n",
            "Train Epoch: 11 [23040/60000 (43%)]\tLoss: 0.000574\n",
            "Train Epoch: 11 [23680/60000 (44%)]\tLoss: 0.008067\n",
            "Train Epoch: 11 [24320/60000 (45%)]\tLoss: 0.036771\n",
            "Train Epoch: 11 [24960/60000 (46%)]\tLoss: 0.027512\n",
            "Train Epoch: 11 [25600/60000 (47%)]\tLoss: 0.088101\n",
            "Train Epoch: 11 [26240/60000 (49%)]\tLoss: 0.000261\n",
            "Train Epoch: 11 [26880/60000 (50%)]\tLoss: 0.004774\n",
            "Train Epoch: 11 [27520/60000 (51%)]\tLoss: 0.003671\n",
            "Train Epoch: 11 [28160/60000 (52%)]\tLoss: 0.009239\n",
            "Train Epoch: 11 [28800/60000 (53%)]\tLoss: 0.028723\n",
            "Train Epoch: 11 [29440/60000 (55%)]\tLoss: 0.017779\n",
            "Train Epoch: 11 [30080/60000 (56%)]\tLoss: 0.001487\n",
            "Train Epoch: 11 [30720/60000 (57%)]\tLoss: 0.036763\n",
            "Train Epoch: 11 [31360/60000 (58%)]\tLoss: 0.003660\n",
            "Train Epoch: 11 [32000/60000 (59%)]\tLoss: 0.002974\n",
            "Train Epoch: 11 [32640/60000 (60%)]\tLoss: 0.016200\n",
            "Train Epoch: 11 [33280/60000 (62%)]\tLoss: 0.003339\n",
            "Train Epoch: 11 [33920/60000 (63%)]\tLoss: 0.001208\n",
            "Train Epoch: 11 [34560/60000 (64%)]\tLoss: 0.000438\n",
            "Train Epoch: 11 [35200/60000 (65%)]\tLoss: 0.051294\n",
            "Train Epoch: 11 [35840/60000 (66%)]\tLoss: 0.002893\n",
            "Train Epoch: 11 [36480/60000 (68%)]\tLoss: 0.000338\n",
            "Train Epoch: 11 [37120/60000 (69%)]\tLoss: 0.009757\n",
            "Train Epoch: 11 [37760/60000 (70%)]\tLoss: 0.000529\n",
            "Train Epoch: 11 [38400/60000 (71%)]\tLoss: 0.001524\n",
            "Train Epoch: 11 [39040/60000 (72%)]\tLoss: 0.000179\n",
            "Train Epoch: 11 [39680/60000 (73%)]\tLoss: 0.027870\n",
            "Train Epoch: 11 [40320/60000 (75%)]\tLoss: 0.012439\n",
            "Train Epoch: 11 [40960/60000 (76%)]\tLoss: 0.002048\n",
            "Train Epoch: 11 [41600/60000 (77%)]\tLoss: 0.007079\n",
            "Train Epoch: 11 [42240/60000 (78%)]\tLoss: 0.034068\n",
            "Train Epoch: 11 [42880/60000 (79%)]\tLoss: 0.034077\n",
            "Train Epoch: 11 [43520/60000 (81%)]\tLoss: 0.031150\n",
            "Train Epoch: 11 [44160/60000 (82%)]\tLoss: 0.000164\n",
            "Train Epoch: 11 [44800/60000 (83%)]\tLoss: 0.000226\n",
            "Train Epoch: 11 [45440/60000 (84%)]\tLoss: 0.067676\n",
            "Train Epoch: 11 [46080/60000 (85%)]\tLoss: 0.008131\n",
            "Train Epoch: 11 [46720/60000 (86%)]\tLoss: 0.068925\n",
            "Train Epoch: 11 [47360/60000 (88%)]\tLoss: 0.000384\n",
            "Train Epoch: 11 [48000/60000 (89%)]\tLoss: 0.000868\n",
            "Train Epoch: 11 [48640/60000 (90%)]\tLoss: 0.018197\n",
            "Train Epoch: 11 [49280/60000 (91%)]\tLoss: 0.009174\n",
            "Train Epoch: 11 [49920/60000 (92%)]\tLoss: 0.001692\n",
            "Train Epoch: 11 [50560/60000 (94%)]\tLoss: 0.001027\n",
            "Train Epoch: 11 [51200/60000 (95%)]\tLoss: 0.002738\n",
            "Train Epoch: 11 [51840/60000 (96%)]\tLoss: 0.009317\n",
            "Train Epoch: 11 [52480/60000 (97%)]\tLoss: 0.091905\n",
            "Train Epoch: 11 [53120/60000 (98%)]\tLoss: 0.008364\n",
            "Train Epoch: 11 [53760/60000 (100%)]\tLoss: 0.005388\n",
            "\n",
            " Validation set: Average loss: 0.0554, Accuracy: 5923/6000 (99%)\n",
            "\n",
            "Validation  set Accuracy over the epochs [0.9698333144187927, 0.9833333492279053, 0.98416668176651, 0.9883333444595337, 0.9860000014305115, 0.9831666946411133, 0.9865000247955322, 0.987333357334137, 0.9869999885559082, 0.9886666536331177, 0.9871666431427002]\n",
            "Train Epoch: 12 [0/60000 (0%)]\tLoss: 0.005253\n",
            "Train Epoch: 12 [640/60000 (1%)]\tLoss: 0.004668\n",
            "Train Epoch: 12 [1280/60000 (2%)]\tLoss: 0.001229\n",
            "Train Epoch: 12 [1920/60000 (4%)]\tLoss: 0.000357\n",
            "Train Epoch: 12 [2560/60000 (5%)]\tLoss: 0.036444\n",
            "Train Epoch: 12 [3200/60000 (6%)]\tLoss: 0.000469\n",
            "Train Epoch: 12 [3840/60000 (7%)]\tLoss: 0.007007\n",
            "Train Epoch: 12 [4480/60000 (8%)]\tLoss: 0.002940\n",
            "Train Epoch: 12 [5120/60000 (9%)]\tLoss: 0.002720\n",
            "Train Epoch: 12 [5760/60000 (11%)]\tLoss: 0.068667\n",
            "Train Epoch: 12 [6400/60000 (12%)]\tLoss: 0.000384\n",
            "Train Epoch: 12 [7040/60000 (13%)]\tLoss: 0.013260\n",
            "Train Epoch: 12 [7680/60000 (14%)]\tLoss: 0.034749\n",
            "Train Epoch: 12 [8320/60000 (15%)]\tLoss: 0.004751\n",
            "Train Epoch: 12 [8960/60000 (17%)]\tLoss: 0.002966\n",
            "Train Epoch: 12 [9600/60000 (18%)]\tLoss: 0.005618\n",
            "Train Epoch: 12 [10240/60000 (19%)]\tLoss: 0.000719\n",
            "Train Epoch: 12 [10880/60000 (20%)]\tLoss: 0.006628\n",
            "Train Epoch: 12 [11520/60000 (21%)]\tLoss: 0.005350\n",
            "Train Epoch: 12 [12160/60000 (23%)]\tLoss: 0.000454\n",
            "Train Epoch: 12 [12800/60000 (24%)]\tLoss: 0.000135\n",
            "Train Epoch: 12 [13440/60000 (25%)]\tLoss: 0.000297\n",
            "Train Epoch: 12 [14080/60000 (26%)]\tLoss: 0.026820\n",
            "Train Epoch: 12 [14720/60000 (27%)]\tLoss: 0.015504\n",
            "Train Epoch: 12 [15360/60000 (28%)]\tLoss: 0.022951\n",
            "Train Epoch: 12 [16000/60000 (30%)]\tLoss: 0.000262\n",
            "Train Epoch: 12 [16640/60000 (31%)]\tLoss: 0.023256\n",
            "Train Epoch: 12 [17280/60000 (32%)]\tLoss: 0.000200\n",
            "Train Epoch: 12 [17920/60000 (33%)]\tLoss: 0.060822\n",
            "Train Epoch: 12 [18560/60000 (34%)]\tLoss: 0.083325\n",
            "Train Epoch: 12 [19200/60000 (36%)]\tLoss: 0.018146\n",
            "Train Epoch: 12 [19840/60000 (37%)]\tLoss: 0.013597\n",
            "Train Epoch: 12 [20480/60000 (38%)]\tLoss: 0.030149\n",
            "Train Epoch: 12 [21120/60000 (39%)]\tLoss: 0.000083\n",
            "Train Epoch: 12 [21760/60000 (40%)]\tLoss: 0.008634\n",
            "Train Epoch: 12 [22400/60000 (41%)]\tLoss: 0.000594\n",
            "Train Epoch: 12 [23040/60000 (43%)]\tLoss: 0.000271\n",
            "Train Epoch: 12 [23680/60000 (44%)]\tLoss: 0.010330\n",
            "Train Epoch: 12 [24320/60000 (45%)]\tLoss: 0.008671\n",
            "Train Epoch: 12 [24960/60000 (46%)]\tLoss: 0.000370\n",
            "Train Epoch: 12 [25600/60000 (47%)]\tLoss: 0.089330\n",
            "Train Epoch: 12 [26240/60000 (49%)]\tLoss: 0.003938\n",
            "Train Epoch: 12 [26880/60000 (50%)]\tLoss: 0.027387\n",
            "Train Epoch: 12 [27520/60000 (51%)]\tLoss: 0.002293\n",
            "Train Epoch: 12 [28160/60000 (52%)]\tLoss: 0.000061\n",
            "Train Epoch: 12 [28800/60000 (53%)]\tLoss: 0.000636\n",
            "Train Epoch: 12 [29440/60000 (55%)]\tLoss: 0.005556\n",
            "Train Epoch: 12 [30080/60000 (56%)]\tLoss: 0.000240\n",
            "Train Epoch: 12 [30720/60000 (57%)]\tLoss: 0.002577\n",
            "Train Epoch: 12 [31360/60000 (58%)]\tLoss: 0.018098\n",
            "Train Epoch: 12 [32000/60000 (59%)]\tLoss: 0.010027\n",
            "Train Epoch: 12 [32640/60000 (60%)]\tLoss: 0.036582\n",
            "Train Epoch: 12 [33280/60000 (62%)]\tLoss: 0.016687\n",
            "Train Epoch: 12 [33920/60000 (63%)]\tLoss: 0.000376\n",
            "Train Epoch: 12 [34560/60000 (64%)]\tLoss: 0.022033\n",
            "Train Epoch: 12 [35200/60000 (65%)]\tLoss: 0.087418\n",
            "Train Epoch: 12 [35840/60000 (66%)]\tLoss: 0.000293\n",
            "Train Epoch: 12 [36480/60000 (68%)]\tLoss: 0.020994\n",
            "Train Epoch: 12 [37120/60000 (69%)]\tLoss: 0.016377\n",
            "Train Epoch: 12 [37760/60000 (70%)]\tLoss: 0.086166\n",
            "Train Epoch: 12 [38400/60000 (71%)]\tLoss: 0.038834\n",
            "Train Epoch: 12 [39040/60000 (72%)]\tLoss: 0.000285\n",
            "Train Epoch: 12 [39680/60000 (73%)]\tLoss: 0.074651\n",
            "Train Epoch: 12 [40320/60000 (75%)]\tLoss: 0.000374\n",
            "Train Epoch: 12 [40960/60000 (76%)]\tLoss: 0.090819\n",
            "Train Epoch: 12 [41600/60000 (77%)]\tLoss: 0.002177\n",
            "Train Epoch: 12 [42240/60000 (78%)]\tLoss: 0.006095\n",
            "Train Epoch: 12 [42880/60000 (79%)]\tLoss: 0.008501\n",
            "Train Epoch: 12 [43520/60000 (81%)]\tLoss: 0.000726\n",
            "Train Epoch: 12 [44160/60000 (82%)]\tLoss: 0.004636\n",
            "Train Epoch: 12 [44800/60000 (83%)]\tLoss: 0.001573\n",
            "Train Epoch: 12 [45440/60000 (84%)]\tLoss: 0.103218\n",
            "Train Epoch: 12 [46080/60000 (85%)]\tLoss: 0.000127\n",
            "Train Epoch: 12 [46720/60000 (86%)]\tLoss: 0.075305\n",
            "Train Epoch: 12 [47360/60000 (88%)]\tLoss: 0.000329\n",
            "Train Epoch: 12 [48000/60000 (89%)]\tLoss: 0.008305\n",
            "Train Epoch: 12 [48640/60000 (90%)]\tLoss: 0.009268\n",
            "Train Epoch: 12 [49280/60000 (91%)]\tLoss: 0.051587\n",
            "Train Epoch: 12 [49920/60000 (92%)]\tLoss: 0.197841\n",
            "Train Epoch: 12 [50560/60000 (94%)]\tLoss: 0.021200\n",
            "Train Epoch: 12 [51200/60000 (95%)]\tLoss: 0.027690\n",
            "Train Epoch: 12 [51840/60000 (96%)]\tLoss: 0.079833\n",
            "Train Epoch: 12 [52480/60000 (97%)]\tLoss: 0.024486\n",
            "Train Epoch: 12 [53120/60000 (98%)]\tLoss: 0.000684\n",
            "Train Epoch: 12 [53760/60000 (100%)]\tLoss: 0.041952\n",
            "\n",
            " Validation set: Average loss: 0.0488, Accuracy: 5930/6000 (99%)\n",
            "\n",
            "Validation  set Accuracy over the epochs [0.9698333144187927, 0.9833333492279053, 0.98416668176651, 0.9883333444595337, 0.9860000014305115, 0.9831666946411133, 0.9865000247955322, 0.987333357334137, 0.9869999885559082, 0.9886666536331177, 0.9871666431427002, 0.9883333444595337]\n",
            "Train Epoch: 13 [0/60000 (0%)]\tLoss: 0.002385\n",
            "Train Epoch: 13 [640/60000 (1%)]\tLoss: 0.012376\n",
            "Train Epoch: 13 [1280/60000 (2%)]\tLoss: 0.016719\n",
            "Train Epoch: 13 [1920/60000 (4%)]\tLoss: 0.007611\n",
            "Train Epoch: 13 [2560/60000 (5%)]\tLoss: 0.002153\n",
            "Train Epoch: 13 [3200/60000 (6%)]\tLoss: 0.013263\n",
            "Train Epoch: 13 [3840/60000 (7%)]\tLoss: 0.027763\n",
            "Train Epoch: 13 [4480/60000 (8%)]\tLoss: 0.003199\n",
            "Train Epoch: 13 [5120/60000 (9%)]\tLoss: 0.134445\n",
            "Train Epoch: 13 [5760/60000 (11%)]\tLoss: 0.008219\n",
            "Train Epoch: 13 [6400/60000 (12%)]\tLoss: 0.001717\n",
            "Train Epoch: 13 [7040/60000 (13%)]\tLoss: 0.008500\n",
            "Train Epoch: 13 [7680/60000 (14%)]\tLoss: 0.004904\n",
            "Train Epoch: 13 [8320/60000 (15%)]\tLoss: 0.002884\n",
            "Train Epoch: 13 [8960/60000 (17%)]\tLoss: 0.006516\n",
            "Train Epoch: 13 [9600/60000 (18%)]\tLoss: 0.002279\n",
            "Train Epoch: 13 [10240/60000 (19%)]\tLoss: 0.001076\n",
            "Train Epoch: 13 [10880/60000 (20%)]\tLoss: 0.000873\n",
            "Train Epoch: 13 [11520/60000 (21%)]\tLoss: 0.039735\n",
            "Train Epoch: 13 [12160/60000 (23%)]\tLoss: 0.000511\n",
            "Train Epoch: 13 [12800/60000 (24%)]\tLoss: 0.000759\n",
            "Train Epoch: 13 [13440/60000 (25%)]\tLoss: 0.004560\n",
            "Train Epoch: 13 [14080/60000 (26%)]\tLoss: 0.032732\n",
            "Train Epoch: 13 [14720/60000 (27%)]\tLoss: 0.014518\n",
            "Train Epoch: 13 [15360/60000 (28%)]\tLoss: 0.000235\n",
            "Train Epoch: 13 [16000/60000 (30%)]\tLoss: 0.000131\n",
            "Train Epoch: 13 [16640/60000 (31%)]\tLoss: 0.000891\n",
            "Train Epoch: 13 [17280/60000 (32%)]\tLoss: 0.000442\n",
            "Train Epoch: 13 [17920/60000 (33%)]\tLoss: 0.052767\n",
            "Train Epoch: 13 [18560/60000 (34%)]\tLoss: 0.000196\n",
            "Train Epoch: 13 [19200/60000 (36%)]\tLoss: 0.000207\n",
            "Train Epoch: 13 [19840/60000 (37%)]\tLoss: 0.000920\n",
            "Train Epoch: 13 [20480/60000 (38%)]\tLoss: 0.012764\n",
            "Train Epoch: 13 [21120/60000 (39%)]\tLoss: 0.015532\n",
            "Train Epoch: 13 [21760/60000 (40%)]\tLoss: 0.000852\n",
            "Train Epoch: 13 [22400/60000 (41%)]\tLoss: 0.007862\n",
            "Train Epoch: 13 [23040/60000 (43%)]\tLoss: 0.002345\n",
            "Train Epoch: 13 [23680/60000 (44%)]\tLoss: 0.030445\n",
            "Train Epoch: 13 [24320/60000 (45%)]\tLoss: 0.000168\n",
            "Train Epoch: 13 [24960/60000 (46%)]\tLoss: 0.007222\n",
            "Train Epoch: 13 [25600/60000 (47%)]\tLoss: 0.005800\n",
            "Train Epoch: 13 [26240/60000 (49%)]\tLoss: 0.000874\n",
            "Train Epoch: 13 [26880/60000 (50%)]\tLoss: 0.008085\n",
            "Train Epoch: 13 [27520/60000 (51%)]\tLoss: 0.000102\n",
            "Train Epoch: 13 [28160/60000 (52%)]\tLoss: 0.000740\n",
            "Train Epoch: 13 [28800/60000 (53%)]\tLoss: 0.000562\n",
            "Train Epoch: 13 [29440/60000 (55%)]\tLoss: 0.055676\n",
            "Train Epoch: 13 [30080/60000 (56%)]\tLoss: 0.024958\n",
            "Train Epoch: 13 [30720/60000 (57%)]\tLoss: 0.088684\n",
            "Train Epoch: 13 [31360/60000 (58%)]\tLoss: 0.060333\n",
            "Train Epoch: 13 [32000/60000 (59%)]\tLoss: 0.041852\n",
            "Train Epoch: 13 [32640/60000 (60%)]\tLoss: 0.011998\n",
            "Train Epoch: 13 [33280/60000 (62%)]\tLoss: 0.005117\n",
            "Train Epoch: 13 [33920/60000 (63%)]\tLoss: 0.007019\n",
            "Train Epoch: 13 [34560/60000 (64%)]\tLoss: 0.001074\n",
            "Train Epoch: 13 [35200/60000 (65%)]\tLoss: 0.079973\n",
            "Train Epoch: 13 [35840/60000 (66%)]\tLoss: 0.003256\n",
            "Train Epoch: 13 [36480/60000 (68%)]\tLoss: 0.000553\n",
            "Train Epoch: 13 [37120/60000 (69%)]\tLoss: 0.016366\n",
            "Train Epoch: 13 [37760/60000 (70%)]\tLoss: 0.183942\n",
            "Train Epoch: 13 [38400/60000 (71%)]\tLoss: 0.000829\n",
            "Train Epoch: 13 [39040/60000 (72%)]\tLoss: 0.000433\n",
            "Train Epoch: 13 [39680/60000 (73%)]\tLoss: 0.000037\n",
            "Train Epoch: 13 [40320/60000 (75%)]\tLoss: 0.000456\n",
            "Train Epoch: 13 [40960/60000 (76%)]\tLoss: 0.005976\n",
            "Train Epoch: 13 [41600/60000 (77%)]\tLoss: 0.021425\n",
            "Train Epoch: 13 [42240/60000 (78%)]\tLoss: 0.006890\n",
            "Train Epoch: 13 [42880/60000 (79%)]\tLoss: 0.000392\n",
            "Train Epoch: 13 [43520/60000 (81%)]\tLoss: 0.034224\n",
            "Train Epoch: 13 [44160/60000 (82%)]\tLoss: 0.010477\n",
            "Train Epoch: 13 [44800/60000 (83%)]\tLoss: 0.005190\n",
            "Train Epoch: 13 [45440/60000 (84%)]\tLoss: 0.001859\n",
            "Train Epoch: 13 [46080/60000 (85%)]\tLoss: 0.052309\n",
            "Train Epoch: 13 [46720/60000 (86%)]\tLoss: 0.026342\n",
            "Train Epoch: 13 [47360/60000 (88%)]\tLoss: 0.012820\n",
            "Train Epoch: 13 [48000/60000 (89%)]\tLoss: 0.006887\n",
            "Train Epoch: 13 [48640/60000 (90%)]\tLoss: 0.007591\n",
            "Train Epoch: 13 [49280/60000 (91%)]\tLoss: 0.018907\n",
            "Train Epoch: 13 [49920/60000 (92%)]\tLoss: 0.000068\n",
            "Train Epoch: 13 [50560/60000 (94%)]\tLoss: 0.037463\n",
            "Train Epoch: 13 [51200/60000 (95%)]\tLoss: 0.000427\n",
            "Train Epoch: 13 [51840/60000 (96%)]\tLoss: 0.003458\n",
            "Train Epoch: 13 [52480/60000 (97%)]\tLoss: 0.011590\n",
            "Train Epoch: 13 [53120/60000 (98%)]\tLoss: 0.000355\n",
            "Train Epoch: 13 [53760/60000 (100%)]\tLoss: 0.003011\n",
            "\n",
            " Validation set: Average loss: 0.0559, Accuracy: 5924/6000 (99%)\n",
            "\n",
            "Validation  set Accuracy over the epochs [0.9698333144187927, 0.9833333492279053, 0.98416668176651, 0.9883333444595337, 0.9860000014305115, 0.9831666946411133, 0.9865000247955322, 0.987333357334137, 0.9869999885559082, 0.9886666536331177, 0.9871666431427002, 0.9883333444595337, 0.987333357334137]\n",
            "Train Epoch: 14 [0/60000 (0%)]\tLoss: 0.063426\n",
            "Train Epoch: 14 [640/60000 (1%)]\tLoss: 0.002692\n",
            "Train Epoch: 14 [1280/60000 (2%)]\tLoss: 0.005860\n",
            "Train Epoch: 14 [1920/60000 (4%)]\tLoss: 0.000175\n",
            "Train Epoch: 14 [2560/60000 (5%)]\tLoss: 0.011092\n",
            "Train Epoch: 14 [3200/60000 (6%)]\tLoss: 0.002481\n",
            "Train Epoch: 14 [3840/60000 (7%)]\tLoss: 0.000291\n",
            "Train Epoch: 14 [4480/60000 (8%)]\tLoss: 0.000524\n",
            "Train Epoch: 14 [5120/60000 (9%)]\tLoss: 0.002724\n",
            "Train Epoch: 14 [5760/60000 (11%)]\tLoss: 0.031077\n",
            "Train Epoch: 14 [6400/60000 (12%)]\tLoss: 0.004994\n",
            "Train Epoch: 14 [7040/60000 (13%)]\tLoss: 0.008867\n",
            "Train Epoch: 14 [7680/60000 (14%)]\tLoss: 0.024413\n",
            "Train Epoch: 14 [8320/60000 (15%)]\tLoss: 0.001149\n",
            "Train Epoch: 14 [8960/60000 (17%)]\tLoss: 0.000575\n",
            "Train Epoch: 14 [9600/60000 (18%)]\tLoss: 0.002900\n",
            "Train Epoch: 14 [10240/60000 (19%)]\tLoss: 0.005094\n",
            "Train Epoch: 14 [10880/60000 (20%)]\tLoss: 0.000139\n",
            "Train Epoch: 14 [11520/60000 (21%)]\tLoss: 0.001712\n",
            "Train Epoch: 14 [12160/60000 (23%)]\tLoss: 0.000274\n",
            "Train Epoch: 14 [12800/60000 (24%)]\tLoss: 0.002608\n",
            "Train Epoch: 14 [13440/60000 (25%)]\tLoss: 0.006085\n",
            "Train Epoch: 14 [14080/60000 (26%)]\tLoss: 0.000249\n",
            "Train Epoch: 14 [14720/60000 (27%)]\tLoss: 0.000690\n",
            "Train Epoch: 14 [15360/60000 (28%)]\tLoss: 0.002461\n",
            "Train Epoch: 14 [16000/60000 (30%)]\tLoss: 0.024588\n",
            "Train Epoch: 14 [16640/60000 (31%)]\tLoss: 0.001623\n",
            "Train Epoch: 14 [17280/60000 (32%)]\tLoss: 0.000796\n",
            "Train Epoch: 14 [17920/60000 (33%)]\tLoss: 0.002175\n",
            "Train Epoch: 14 [18560/60000 (34%)]\tLoss: 0.000650\n",
            "Train Epoch: 14 [19200/60000 (36%)]\tLoss: 0.011914\n",
            "Train Epoch: 14 [19840/60000 (37%)]\tLoss: 0.009973\n",
            "Train Epoch: 14 [20480/60000 (38%)]\tLoss: 0.001465\n",
            "Train Epoch: 14 [21120/60000 (39%)]\tLoss: 0.002774\n",
            "Train Epoch: 14 [21760/60000 (40%)]\tLoss: 0.008743\n",
            "Train Epoch: 14 [22400/60000 (41%)]\tLoss: 0.008165\n",
            "Train Epoch: 14 [23040/60000 (43%)]\tLoss: 0.000032\n",
            "Train Epoch: 14 [23680/60000 (44%)]\tLoss: 0.002843\n",
            "Train Epoch: 14 [24320/60000 (45%)]\tLoss: 0.016304\n",
            "Train Epoch: 14 [24960/60000 (46%)]\tLoss: 0.010595\n",
            "Train Epoch: 14 [25600/60000 (47%)]\tLoss: 0.000677\n",
            "Train Epoch: 14 [26240/60000 (49%)]\tLoss: 0.000427\n",
            "Train Epoch: 14 [26880/60000 (50%)]\tLoss: 0.000120\n",
            "Train Epoch: 14 [27520/60000 (51%)]\tLoss: 0.000033\n",
            "Train Epoch: 14 [28160/60000 (52%)]\tLoss: 0.000385\n",
            "Train Epoch: 14 [28800/60000 (53%)]\tLoss: 0.002152\n",
            "Train Epoch: 14 [29440/60000 (55%)]\tLoss: 0.011571\n",
            "Train Epoch: 14 [30080/60000 (56%)]\tLoss: 0.000581\n",
            "Train Epoch: 14 [30720/60000 (57%)]\tLoss: 0.000804\n",
            "Train Epoch: 14 [31360/60000 (58%)]\tLoss: 0.001957\n",
            "Train Epoch: 14 [32000/60000 (59%)]\tLoss: 0.002935\n",
            "Train Epoch: 14 [32640/60000 (60%)]\tLoss: 0.000843\n",
            "Train Epoch: 14 [33280/60000 (62%)]\tLoss: 0.071712\n",
            "Train Epoch: 14 [33920/60000 (63%)]\tLoss: 0.003821\n",
            "Train Epoch: 14 [34560/60000 (64%)]\tLoss: 0.005138\n",
            "Train Epoch: 14 [35200/60000 (65%)]\tLoss: 0.009018\n",
            "Train Epoch: 14 [35840/60000 (66%)]\tLoss: 0.112132\n",
            "Train Epoch: 14 [36480/60000 (68%)]\tLoss: 0.012954\n",
            "Train Epoch: 14 [37120/60000 (69%)]\tLoss: 0.045810\n",
            "Train Epoch: 14 [37760/60000 (70%)]\tLoss: 0.004129\n",
            "Train Epoch: 14 [38400/60000 (71%)]\tLoss: 0.043503\n",
            "Train Epoch: 14 [39040/60000 (72%)]\tLoss: 0.001472\n",
            "Train Epoch: 14 [39680/60000 (73%)]\tLoss: 0.001614\n",
            "Train Epoch: 14 [40320/60000 (75%)]\tLoss: 0.000211\n",
            "Train Epoch: 14 [40960/60000 (76%)]\tLoss: 0.002153\n",
            "Train Epoch: 14 [41600/60000 (77%)]\tLoss: 0.008706\n",
            "Train Epoch: 14 [42240/60000 (78%)]\tLoss: 0.007111\n",
            "Train Epoch: 14 [42880/60000 (79%)]\tLoss: 0.008640\n",
            "Train Epoch: 14 [43520/60000 (81%)]\tLoss: 0.000030\n",
            "Train Epoch: 14 [44160/60000 (82%)]\tLoss: 0.017101\n",
            "Train Epoch: 14 [44800/60000 (83%)]\tLoss: 0.000528\n",
            "Train Epoch: 14 [45440/60000 (84%)]\tLoss: 0.000094\n",
            "Train Epoch: 14 [46080/60000 (85%)]\tLoss: 0.000867\n",
            "Train Epoch: 14 [46720/60000 (86%)]\tLoss: 0.002483\n",
            "Train Epoch: 14 [47360/60000 (88%)]\tLoss: 0.021442\n",
            "Train Epoch: 14 [48000/60000 (89%)]\tLoss: 0.000449\n",
            "Train Epoch: 14 [48640/60000 (90%)]\tLoss: 0.001270\n",
            "Train Epoch: 14 [49280/60000 (91%)]\tLoss: 0.008467\n",
            "Train Epoch: 14 [49920/60000 (92%)]\tLoss: 0.009387\n",
            "Train Epoch: 14 [50560/60000 (94%)]\tLoss: 0.001213\n",
            "Train Epoch: 14 [51200/60000 (95%)]\tLoss: 0.001178\n",
            "Train Epoch: 14 [51840/60000 (96%)]\tLoss: 0.018241\n",
            "Train Epoch: 14 [52480/60000 (97%)]\tLoss: 0.002495\n",
            "Train Epoch: 14 [53120/60000 (98%)]\tLoss: 0.000177\n",
            "Train Epoch: 14 [53760/60000 (100%)]\tLoss: 0.029627\n",
            "\n",
            " Validation set: Average loss: 0.0640, Accuracy: 5914/6000 (99%)\n",
            "\n",
            "Validation  set Accuracy over the epochs [0.9698333144187927, 0.9833333492279053, 0.98416668176651, 0.9883333444595337, 0.9860000014305115, 0.9831666946411133, 0.9865000247955322, 0.987333357334137, 0.9869999885559082, 0.9886666536331177, 0.9871666431427002, 0.9883333444595337, 0.987333357334137, 0.9856666922569275]\n",
            "Train Epoch: 15 [0/60000 (0%)]\tLoss: 0.000498\n",
            "Train Epoch: 15 [640/60000 (1%)]\tLoss: 0.005207\n",
            "Train Epoch: 15 [1280/60000 (2%)]\tLoss: 0.000683\n",
            "Train Epoch: 15 [1920/60000 (4%)]\tLoss: 0.027342\n",
            "Train Epoch: 15 [2560/60000 (5%)]\tLoss: 0.000581\n",
            "Train Epoch: 15 [3200/60000 (6%)]\tLoss: 0.002610\n",
            "Train Epoch: 15 [3840/60000 (7%)]\tLoss: 0.000323\n",
            "Train Epoch: 15 [4480/60000 (8%)]\tLoss: 0.045000\n",
            "Train Epoch: 15 [5120/60000 (9%)]\tLoss: 0.008785\n",
            "Train Epoch: 15 [5760/60000 (11%)]\tLoss: 0.024903\n",
            "Train Epoch: 15 [6400/60000 (12%)]\tLoss: 0.000066\n",
            "Train Epoch: 15 [7040/60000 (13%)]\tLoss: 0.001501\n",
            "Train Epoch: 15 [7680/60000 (14%)]\tLoss: 0.089499\n",
            "Train Epoch: 15 [8320/60000 (15%)]\tLoss: 0.000616\n",
            "Train Epoch: 15 [8960/60000 (17%)]\tLoss: 0.013011\n",
            "Train Epoch: 15 [9600/60000 (18%)]\tLoss: 0.001229\n",
            "Train Epoch: 15 [10240/60000 (19%)]\tLoss: 0.005348\n",
            "Train Epoch: 15 [10880/60000 (20%)]\tLoss: 0.042278\n",
            "Train Epoch: 15 [11520/60000 (21%)]\tLoss: 0.000896\n",
            "Train Epoch: 15 [12160/60000 (23%)]\tLoss: 0.003735\n",
            "Train Epoch: 15 [12800/60000 (24%)]\tLoss: 0.009453\n",
            "Train Epoch: 15 [13440/60000 (25%)]\tLoss: 0.005809\n",
            "Train Epoch: 15 [14080/60000 (26%)]\tLoss: 0.026525\n",
            "Train Epoch: 15 [14720/60000 (27%)]\tLoss: 0.000082\n",
            "Train Epoch: 15 [15360/60000 (28%)]\tLoss: 0.006744\n",
            "Train Epoch: 15 [16000/60000 (30%)]\tLoss: 0.118717\n",
            "Train Epoch: 15 [16640/60000 (31%)]\tLoss: 0.003999\n",
            "Train Epoch: 15 [17280/60000 (32%)]\tLoss: 0.003033\n",
            "Train Epoch: 15 [17920/60000 (33%)]\tLoss: 0.047770\n",
            "Train Epoch: 15 [18560/60000 (34%)]\tLoss: 0.005071\n",
            "Train Epoch: 15 [19200/60000 (36%)]\tLoss: 0.000527\n",
            "Train Epoch: 15 [19840/60000 (37%)]\tLoss: 0.000722\n",
            "Train Epoch: 15 [20480/60000 (38%)]\tLoss: 0.007567\n",
            "Train Epoch: 15 [21120/60000 (39%)]\tLoss: 0.026733\n",
            "Train Epoch: 15 [21760/60000 (40%)]\tLoss: 0.000639\n",
            "Train Epoch: 15 [22400/60000 (41%)]\tLoss: 0.035784\n",
            "Train Epoch: 15 [23040/60000 (43%)]\tLoss: 0.002949\n",
            "Train Epoch: 15 [23680/60000 (44%)]\tLoss: 0.000327\n",
            "Train Epoch: 15 [24320/60000 (45%)]\tLoss: 0.000042\n",
            "Train Epoch: 15 [24960/60000 (46%)]\tLoss: 0.011240\n",
            "Train Epoch: 15 [25600/60000 (47%)]\tLoss: 0.018893\n",
            "Train Epoch: 15 [26240/60000 (49%)]\tLoss: 0.000865\n",
            "Train Epoch: 15 [26880/60000 (50%)]\tLoss: 0.017432\n",
            "Train Epoch: 15 [27520/60000 (51%)]\tLoss: 0.001526\n",
            "Train Epoch: 15 [28160/60000 (52%)]\tLoss: 0.000147\n",
            "Train Epoch: 15 [28800/60000 (53%)]\tLoss: 0.156602\n",
            "Train Epoch: 15 [29440/60000 (55%)]\tLoss: 0.000360\n",
            "Train Epoch: 15 [30080/60000 (56%)]\tLoss: 0.004694\n",
            "Train Epoch: 15 [30720/60000 (57%)]\tLoss: 0.000696\n",
            "Train Epoch: 15 [31360/60000 (58%)]\tLoss: 0.000461\n",
            "Train Epoch: 15 [32000/60000 (59%)]\tLoss: 0.010286\n",
            "Train Epoch: 15 [32640/60000 (60%)]\tLoss: 0.039410\n",
            "Train Epoch: 15 [33280/60000 (62%)]\tLoss: 0.000299\n",
            "Train Epoch: 15 [33920/60000 (63%)]\tLoss: 0.000746\n",
            "Train Epoch: 15 [34560/60000 (64%)]\tLoss: 0.019144\n",
            "Train Epoch: 15 [35200/60000 (65%)]\tLoss: 0.001627\n",
            "Train Epoch: 15 [35840/60000 (66%)]\tLoss: 0.058593\n",
            "Train Epoch: 15 [36480/60000 (68%)]\tLoss: 0.000442\n",
            "Train Epoch: 15 [37120/60000 (69%)]\tLoss: 0.000451\n",
            "Train Epoch: 15 [37760/60000 (70%)]\tLoss: 0.053473\n",
            "Train Epoch: 15 [38400/60000 (71%)]\tLoss: 0.016218\n",
            "Train Epoch: 15 [39040/60000 (72%)]\tLoss: 0.000618\n",
            "Train Epoch: 15 [39680/60000 (73%)]\tLoss: 0.014014\n",
            "Train Epoch: 15 [40320/60000 (75%)]\tLoss: 0.000499\n",
            "Train Epoch: 15 [40960/60000 (76%)]\tLoss: 0.000560\n",
            "Train Epoch: 15 [41600/60000 (77%)]\tLoss: 0.001152\n",
            "Train Epoch: 15 [42240/60000 (78%)]\tLoss: 0.028886\n",
            "Train Epoch: 15 [42880/60000 (79%)]\tLoss: 0.006881\n",
            "Train Epoch: 15 [43520/60000 (81%)]\tLoss: 0.005349\n",
            "Train Epoch: 15 [44160/60000 (82%)]\tLoss: 0.014660\n",
            "Train Epoch: 15 [44800/60000 (83%)]\tLoss: 0.002367\n",
            "Train Epoch: 15 [45440/60000 (84%)]\tLoss: 0.002300\n",
            "Train Epoch: 15 [46080/60000 (85%)]\tLoss: 0.019980\n",
            "Train Epoch: 15 [46720/60000 (86%)]\tLoss: 0.004458\n",
            "Train Epoch: 15 [47360/60000 (88%)]\tLoss: 0.044816\n",
            "Train Epoch: 15 [48000/60000 (89%)]\tLoss: 0.051526\n",
            "Train Epoch: 15 [48640/60000 (90%)]\tLoss: 0.036010\n",
            "Train Epoch: 15 [49280/60000 (91%)]\tLoss: 0.158268\n",
            "Train Epoch: 15 [49920/60000 (92%)]\tLoss: 0.000069\n",
            "Train Epoch: 15 [50560/60000 (94%)]\tLoss: 0.002903\n",
            "Train Epoch: 15 [51200/60000 (95%)]\tLoss: 0.007659\n",
            "Train Epoch: 15 [51840/60000 (96%)]\tLoss: 0.001283\n",
            "Train Epoch: 15 [52480/60000 (97%)]\tLoss: 0.001301\n",
            "Train Epoch: 15 [53120/60000 (98%)]\tLoss: 0.006638\n",
            "Train Epoch: 15 [53760/60000 (100%)]\tLoss: 0.000490\n",
            "\n",
            " Validation set: Average loss: 0.0559, Accuracy: 5918/6000 (99%)\n",
            "\n",
            "Validation  set Accuracy over the epochs [0.9698333144187927, 0.9833333492279053, 0.98416668176651, 0.9883333444595337, 0.9860000014305115, 0.9831666946411133, 0.9865000247955322, 0.987333357334137, 0.9869999885559082, 0.9886666536331177, 0.9871666431427002, 0.9883333444595337, 0.987333357334137, 0.9856666922569275, 0.9863333106040955]\n",
            "Train Epoch: 16 [0/60000 (0%)]\tLoss: 0.012899\n",
            "Train Epoch: 16 [640/60000 (1%)]\tLoss: 0.014279\n",
            "Train Epoch: 16 [1280/60000 (2%)]\tLoss: 0.002097\n",
            "Train Epoch: 16 [1920/60000 (4%)]\tLoss: 0.022024\n",
            "Train Epoch: 16 [2560/60000 (5%)]\tLoss: 0.001278\n",
            "Train Epoch: 16 [3200/60000 (6%)]\tLoss: 0.000234\n",
            "Train Epoch: 16 [3840/60000 (7%)]\tLoss: 0.000302\n",
            "Train Epoch: 16 [4480/60000 (8%)]\tLoss: 0.000144\n",
            "Train Epoch: 16 [5120/60000 (9%)]\tLoss: 0.001298\n",
            "Train Epoch: 16 [5760/60000 (11%)]\tLoss: 0.000182\n",
            "Train Epoch: 16 [6400/60000 (12%)]\tLoss: 0.005983\n",
            "Train Epoch: 16 [7040/60000 (13%)]\tLoss: 0.000211\n",
            "Train Epoch: 16 [7680/60000 (14%)]\tLoss: 0.086974\n",
            "Train Epoch: 16 [8320/60000 (15%)]\tLoss: 0.000052\n",
            "Train Epoch: 16 [8960/60000 (17%)]\tLoss: 0.038218\n",
            "Train Epoch: 16 [9600/60000 (18%)]\tLoss: 0.045265\n",
            "Train Epoch: 16 [10240/60000 (19%)]\tLoss: 0.030362\n",
            "Train Epoch: 16 [10880/60000 (20%)]\tLoss: 0.000862\n",
            "Train Epoch: 16 [11520/60000 (21%)]\tLoss: 0.035637\n",
            "Train Epoch: 16 [12160/60000 (23%)]\tLoss: 0.000024\n",
            "Train Epoch: 16 [12800/60000 (24%)]\tLoss: 0.002636\n",
            "Train Epoch: 16 [13440/60000 (25%)]\tLoss: 0.029256\n",
            "Train Epoch: 16 [14080/60000 (26%)]\tLoss: 0.000505\n",
            "Train Epoch: 16 [14720/60000 (27%)]\tLoss: 0.009165\n",
            "Train Epoch: 16 [15360/60000 (28%)]\tLoss: 0.005162\n",
            "Train Epoch: 16 [16000/60000 (30%)]\tLoss: 0.000429\n",
            "Train Epoch: 16 [16640/60000 (31%)]\tLoss: 0.002320\n",
            "Train Epoch: 16 [17280/60000 (32%)]\tLoss: 0.000429\n",
            "Train Epoch: 16 [17920/60000 (33%)]\tLoss: 0.000976\n",
            "Train Epoch: 16 [18560/60000 (34%)]\tLoss: 0.014542\n",
            "Train Epoch: 16 [19200/60000 (36%)]\tLoss: 0.001898\n",
            "Train Epoch: 16 [19840/60000 (37%)]\tLoss: 0.001160\n",
            "Train Epoch: 16 [20480/60000 (38%)]\tLoss: 0.004049\n",
            "Train Epoch: 16 [21120/60000 (39%)]\tLoss: 0.014836\n",
            "Train Epoch: 16 [21760/60000 (40%)]\tLoss: 0.001283\n",
            "Train Epoch: 16 [22400/60000 (41%)]\tLoss: 0.000012\n",
            "Train Epoch: 16 [23040/60000 (43%)]\tLoss: 0.033208\n",
            "Train Epoch: 16 [23680/60000 (44%)]\tLoss: 0.008035\n",
            "Train Epoch: 16 [24320/60000 (45%)]\tLoss: 0.002855\n",
            "Train Epoch: 16 [24960/60000 (46%)]\tLoss: 0.000317\n",
            "Train Epoch: 16 [25600/60000 (47%)]\tLoss: 0.014385\n",
            "Train Epoch: 16 [26240/60000 (49%)]\tLoss: 0.009407\n",
            "Train Epoch: 16 [26880/60000 (50%)]\tLoss: 0.010129\n",
            "Train Epoch: 16 [27520/60000 (51%)]\tLoss: 0.000036\n",
            "Train Epoch: 16 [28160/60000 (52%)]\tLoss: 0.000097\n",
            "Train Epoch: 16 [28800/60000 (53%)]\tLoss: 0.116640\n",
            "Train Epoch: 16 [29440/60000 (55%)]\tLoss: 0.057616\n",
            "Train Epoch: 16 [30080/60000 (56%)]\tLoss: 0.009212\n",
            "Train Epoch: 16 [30720/60000 (57%)]\tLoss: 0.000060\n",
            "Train Epoch: 16 [31360/60000 (58%)]\tLoss: 0.003097\n",
            "Train Epoch: 16 [32000/60000 (59%)]\tLoss: 0.018121\n",
            "Train Epoch: 16 [32640/60000 (60%)]\tLoss: 0.000479\n",
            "Train Epoch: 16 [33280/60000 (62%)]\tLoss: 0.000279\n",
            "Train Epoch: 16 [33920/60000 (63%)]\tLoss: 0.001720\n",
            "Train Epoch: 16 [34560/60000 (64%)]\tLoss: 0.070973\n",
            "Train Epoch: 16 [35200/60000 (65%)]\tLoss: 0.014294\n",
            "Train Epoch: 16 [35840/60000 (66%)]\tLoss: 0.160217\n",
            "Train Epoch: 16 [36480/60000 (68%)]\tLoss: 0.000533\n",
            "Train Epoch: 16 [37120/60000 (69%)]\tLoss: 0.000056\n",
            "Train Epoch: 16 [37760/60000 (70%)]\tLoss: 0.010542\n",
            "Train Epoch: 16 [38400/60000 (71%)]\tLoss: 0.034092\n",
            "Train Epoch: 16 [39040/60000 (72%)]\tLoss: 0.000012\n",
            "Train Epoch: 16 [39680/60000 (73%)]\tLoss: 0.000355\n",
            "Train Epoch: 16 [40320/60000 (75%)]\tLoss: 0.000192\n",
            "Train Epoch: 16 [40960/60000 (76%)]\tLoss: 0.000819\n",
            "Train Epoch: 16 [41600/60000 (77%)]\tLoss: 0.000536\n",
            "Train Epoch: 16 [42240/60000 (78%)]\tLoss: 0.000092\n",
            "Train Epoch: 16 [42880/60000 (79%)]\tLoss: 0.044594\n",
            "Train Epoch: 16 [43520/60000 (81%)]\tLoss: 0.000258\n",
            "Train Epoch: 16 [44160/60000 (82%)]\tLoss: 0.002414\n",
            "Train Epoch: 16 [44800/60000 (83%)]\tLoss: 0.001793\n",
            "Train Epoch: 16 [45440/60000 (84%)]\tLoss: 0.005905\n",
            "Train Epoch: 16 [46080/60000 (85%)]\tLoss: 0.002701\n",
            "Train Epoch: 16 [46720/60000 (86%)]\tLoss: 0.004256\n",
            "Train Epoch: 16 [47360/60000 (88%)]\tLoss: 0.009420\n",
            "Train Epoch: 16 [48000/60000 (89%)]\tLoss: 0.001093\n",
            "Train Epoch: 16 [48640/60000 (90%)]\tLoss: 0.019146\n",
            "Train Epoch: 16 [49280/60000 (91%)]\tLoss: 0.000953\n",
            "Train Epoch: 16 [49920/60000 (92%)]\tLoss: 0.105630\n",
            "Train Epoch: 16 [50560/60000 (94%)]\tLoss: 0.003170\n",
            "Train Epoch: 16 [51200/60000 (95%)]\tLoss: 0.006230\n",
            "Train Epoch: 16 [51840/60000 (96%)]\tLoss: 0.009200\n",
            "Train Epoch: 16 [52480/60000 (97%)]\tLoss: 0.010940\n",
            "Train Epoch: 16 [53120/60000 (98%)]\tLoss: 0.002631\n",
            "Train Epoch: 16 [53760/60000 (100%)]\tLoss: 0.001538\n",
            "\n",
            " Validation set: Average loss: 0.0642, Accuracy: 5913/6000 (99%)\n",
            "\n",
            "Validation  set Accuracy over the epochs [0.9698333144187927, 0.9833333492279053, 0.98416668176651, 0.9883333444595337, 0.9860000014305115, 0.9831666946411133, 0.9865000247955322, 0.987333357334137, 0.9869999885559082, 0.9886666536331177, 0.9871666431427002, 0.9883333444595337, 0.987333357334137, 0.9856666922569275, 0.9863333106040955, 0.9854999780654907]\n",
            "Train Epoch: 17 [0/60000 (0%)]\tLoss: 0.038887\n",
            "Train Epoch: 17 [640/60000 (1%)]\tLoss: 0.000216\n",
            "Train Epoch: 17 [1280/60000 (2%)]\tLoss: 0.000250\n",
            "Train Epoch: 17 [1920/60000 (4%)]\tLoss: 0.013305\n",
            "Train Epoch: 17 [2560/60000 (5%)]\tLoss: 0.004117\n",
            "Train Epoch: 17 [3200/60000 (6%)]\tLoss: 0.003154\n",
            "Train Epoch: 17 [3840/60000 (7%)]\tLoss: 0.035923\n",
            "Train Epoch: 17 [4480/60000 (8%)]\tLoss: 0.011467\n",
            "Train Epoch: 17 [5120/60000 (9%)]\tLoss: 0.002200\n",
            "Train Epoch: 17 [5760/60000 (11%)]\tLoss: 0.080005\n",
            "Train Epoch: 17 [6400/60000 (12%)]\tLoss: 0.010115\n",
            "Train Epoch: 17 [7040/60000 (13%)]\tLoss: 0.010498\n",
            "Train Epoch: 17 [7680/60000 (14%)]\tLoss: 0.006969\n",
            "Train Epoch: 17 [8320/60000 (15%)]\tLoss: 0.000111\n",
            "Train Epoch: 17 [8960/60000 (17%)]\tLoss: 0.004117\n",
            "Train Epoch: 17 [9600/60000 (18%)]\tLoss: 0.007403\n",
            "Train Epoch: 17 [10240/60000 (19%)]\tLoss: 0.021902\n",
            "Train Epoch: 17 [10880/60000 (20%)]\tLoss: 0.041332\n",
            "Train Epoch: 17 [11520/60000 (21%)]\tLoss: 0.000556\n",
            "Train Epoch: 17 [12160/60000 (23%)]\tLoss: 0.002641\n",
            "Train Epoch: 17 [12800/60000 (24%)]\tLoss: 0.001124\n",
            "Train Epoch: 17 [13440/60000 (25%)]\tLoss: 0.051199\n",
            "Train Epoch: 17 [14080/60000 (26%)]\tLoss: 0.000310\n",
            "Train Epoch: 17 [14720/60000 (27%)]\tLoss: 0.000693\n",
            "Train Epoch: 17 [15360/60000 (28%)]\tLoss: 0.000020\n",
            "Train Epoch: 17 [16000/60000 (30%)]\tLoss: 0.004227\n",
            "Train Epoch: 17 [16640/60000 (31%)]\tLoss: 0.001196\n",
            "Train Epoch: 17 [17280/60000 (32%)]\tLoss: 0.025017\n",
            "Train Epoch: 17 [17920/60000 (33%)]\tLoss: 0.000654\n",
            "Train Epoch: 17 [18560/60000 (34%)]\tLoss: 0.016846\n",
            "Train Epoch: 17 [19200/60000 (36%)]\tLoss: 0.004383\n",
            "Train Epoch: 17 [19840/60000 (37%)]\tLoss: 0.001698\n",
            "Train Epoch: 17 [20480/60000 (38%)]\tLoss: 0.040993\n",
            "Train Epoch: 17 [21120/60000 (39%)]\tLoss: 0.002817\n",
            "Train Epoch: 17 [21760/60000 (40%)]\tLoss: 0.008324\n",
            "Train Epoch: 17 [22400/60000 (41%)]\tLoss: 0.009550\n",
            "Train Epoch: 17 [23040/60000 (43%)]\tLoss: 0.000055\n",
            "Train Epoch: 17 [23680/60000 (44%)]\tLoss: 0.000159\n",
            "Train Epoch: 17 [24320/60000 (45%)]\tLoss: 0.000355\n",
            "Train Epoch: 17 [24960/60000 (46%)]\tLoss: 0.000204\n",
            "Train Epoch: 17 [25600/60000 (47%)]\tLoss: 0.000018\n",
            "Train Epoch: 17 [26240/60000 (49%)]\tLoss: 0.016914\n",
            "Train Epoch: 17 [26880/60000 (50%)]\tLoss: 0.002052\n",
            "Train Epoch: 17 [27520/60000 (51%)]\tLoss: 0.000109\n",
            "Train Epoch: 17 [28160/60000 (52%)]\tLoss: 0.064793\n",
            "Train Epoch: 17 [28800/60000 (53%)]\tLoss: 0.064324\n",
            "Train Epoch: 17 [29440/60000 (55%)]\tLoss: 0.096867\n",
            "Train Epoch: 17 [30080/60000 (56%)]\tLoss: 0.002435\n",
            "Train Epoch: 17 [30720/60000 (57%)]\tLoss: 0.002639\n",
            "Train Epoch: 17 [31360/60000 (58%)]\tLoss: 0.002914\n",
            "Train Epoch: 17 [32000/60000 (59%)]\tLoss: 0.000457\n",
            "Train Epoch: 17 [32640/60000 (60%)]\tLoss: 0.000598\n",
            "Train Epoch: 17 [33280/60000 (62%)]\tLoss: 0.000052\n",
            "Train Epoch: 17 [33920/60000 (63%)]\tLoss: 0.025768\n",
            "Train Epoch: 17 [34560/60000 (64%)]\tLoss: 0.004733\n",
            "Train Epoch: 17 [35200/60000 (65%)]\tLoss: 0.000251\n",
            "Train Epoch: 17 [35840/60000 (66%)]\tLoss: 0.001327\n",
            "Train Epoch: 17 [36480/60000 (68%)]\tLoss: 0.002187\n",
            "Train Epoch: 17 [37120/60000 (69%)]\tLoss: 0.000435\n",
            "Train Epoch: 17 [37760/60000 (70%)]\tLoss: 0.001115\n",
            "Train Epoch: 17 [38400/60000 (71%)]\tLoss: 0.002377\n",
            "Train Epoch: 17 [39040/60000 (72%)]\tLoss: 0.000636\n",
            "Train Epoch: 17 [39680/60000 (73%)]\tLoss: 0.098350\n",
            "Train Epoch: 17 [40320/60000 (75%)]\tLoss: 0.000527\n",
            "Train Epoch: 17 [40960/60000 (76%)]\tLoss: 0.075480\n",
            "Train Epoch: 17 [41600/60000 (77%)]\tLoss: 0.000672\n",
            "Train Epoch: 17 [42240/60000 (78%)]\tLoss: 0.008396\n",
            "Train Epoch: 17 [42880/60000 (79%)]\tLoss: 0.003231\n",
            "Train Epoch: 17 [43520/60000 (81%)]\tLoss: 0.001173\n",
            "Train Epoch: 17 [44160/60000 (82%)]\tLoss: 0.050589\n",
            "Train Epoch: 17 [44800/60000 (83%)]\tLoss: 0.004253\n",
            "Train Epoch: 17 [45440/60000 (84%)]\tLoss: 0.085282\n",
            "Train Epoch: 17 [46080/60000 (85%)]\tLoss: 0.061004\n",
            "Train Epoch: 17 [46720/60000 (86%)]\tLoss: 0.006528\n",
            "Train Epoch: 17 [47360/60000 (88%)]\tLoss: 0.000901\n",
            "Train Epoch: 17 [48000/60000 (89%)]\tLoss: 0.000119\n",
            "Train Epoch: 17 [48640/60000 (90%)]\tLoss: 0.020977\n",
            "Train Epoch: 17 [49280/60000 (91%)]\tLoss: 0.000069\n",
            "Train Epoch: 17 [49920/60000 (92%)]\tLoss: 0.001827\n",
            "Train Epoch: 17 [50560/60000 (94%)]\tLoss: 0.001061\n",
            "Train Epoch: 17 [51200/60000 (95%)]\tLoss: 0.138587\n",
            "Train Epoch: 17 [51840/60000 (96%)]\tLoss: 0.047890\n",
            "Train Epoch: 17 [52480/60000 (97%)]\tLoss: 0.062276\n",
            "Train Epoch: 17 [53120/60000 (98%)]\tLoss: 0.005707\n",
            "Train Epoch: 17 [53760/60000 (100%)]\tLoss: 0.009735\n",
            "\n",
            " Validation set: Average loss: 0.0640, Accuracy: 5915/6000 (99%)\n",
            "\n",
            "Validation  set Accuracy over the epochs [0.9698333144187927, 0.9833333492279053, 0.98416668176651, 0.9883333444595337, 0.9860000014305115, 0.9831666946411133, 0.9865000247955322, 0.987333357334137, 0.9869999885559082, 0.9886666536331177, 0.9871666431427002, 0.9883333444595337, 0.987333357334137, 0.9856666922569275, 0.9863333106040955, 0.9854999780654907, 0.9858333468437195]\n",
            "Train Epoch: 18 [0/60000 (0%)]\tLoss: 0.003646\n",
            "Train Epoch: 18 [640/60000 (1%)]\tLoss: 0.000354\n",
            "Train Epoch: 18 [1280/60000 (2%)]\tLoss: 0.000743\n",
            "Train Epoch: 18 [1920/60000 (4%)]\tLoss: 0.002983\n",
            "Train Epoch: 18 [2560/60000 (5%)]\tLoss: 0.000848\n",
            "Train Epoch: 18 [3200/60000 (6%)]\tLoss: 0.000135\n",
            "Train Epoch: 18 [3840/60000 (7%)]\tLoss: 0.000237\n",
            "Train Epoch: 18 [4480/60000 (8%)]\tLoss: 0.034401\n",
            "Train Epoch: 18 [5120/60000 (9%)]\tLoss: 0.002143\n",
            "Train Epoch: 18 [5760/60000 (11%)]\tLoss: 0.003541\n",
            "Train Epoch: 18 [6400/60000 (12%)]\tLoss: 0.027979\n",
            "Train Epoch: 18 [7040/60000 (13%)]\tLoss: 0.000007\n",
            "Train Epoch: 18 [7680/60000 (14%)]\tLoss: 0.003001\n",
            "Train Epoch: 18 [8320/60000 (15%)]\tLoss: 0.004105\n",
            "Train Epoch: 18 [8960/60000 (17%)]\tLoss: 0.001324\n",
            "Train Epoch: 18 [9600/60000 (18%)]\tLoss: 0.001423\n",
            "Train Epoch: 18 [10240/60000 (19%)]\tLoss: 0.002618\n",
            "Train Epoch: 18 [10880/60000 (20%)]\tLoss: 0.000073\n",
            "Train Epoch: 18 [11520/60000 (21%)]\tLoss: 0.000024\n",
            "Train Epoch: 18 [12160/60000 (23%)]\tLoss: 0.004401\n",
            "Train Epoch: 18 [12800/60000 (24%)]\tLoss: 0.000246\n",
            "Train Epoch: 18 [13440/60000 (25%)]\tLoss: 0.000023\n",
            "Train Epoch: 18 [14080/60000 (26%)]\tLoss: 0.003347\n",
            "Train Epoch: 18 [14720/60000 (27%)]\tLoss: 0.000592\n",
            "Train Epoch: 18 [15360/60000 (28%)]\tLoss: 0.013122\n",
            "Train Epoch: 18 [16000/60000 (30%)]\tLoss: 0.015318\n",
            "Train Epoch: 18 [16640/60000 (31%)]\tLoss: 0.039322\n",
            "Train Epoch: 18 [17280/60000 (32%)]\tLoss: 0.006987\n",
            "Train Epoch: 18 [17920/60000 (33%)]\tLoss: 0.011184\n",
            "Train Epoch: 18 [18560/60000 (34%)]\tLoss: 0.003441\n",
            "Train Epoch: 18 [19200/60000 (36%)]\tLoss: 0.074170\n",
            "Train Epoch: 18 [19840/60000 (37%)]\tLoss: 0.000352\n",
            "Train Epoch: 18 [20480/60000 (38%)]\tLoss: 0.000764\n",
            "Train Epoch: 18 [21120/60000 (39%)]\tLoss: 0.102006\n",
            "Train Epoch: 18 [21760/60000 (40%)]\tLoss: 0.028362\n",
            "Train Epoch: 18 [22400/60000 (41%)]\tLoss: 0.026962\n",
            "Train Epoch: 18 [23040/60000 (43%)]\tLoss: 0.005378\n",
            "Train Epoch: 18 [23680/60000 (44%)]\tLoss: 0.106795\n",
            "Train Epoch: 18 [24320/60000 (45%)]\tLoss: 0.000028\n",
            "Train Epoch: 18 [24960/60000 (46%)]\tLoss: 0.007451\n",
            "Train Epoch: 18 [25600/60000 (47%)]\tLoss: 0.003480\n",
            "Train Epoch: 18 [26240/60000 (49%)]\tLoss: 0.040297\n",
            "Train Epoch: 18 [26880/60000 (50%)]\tLoss: 0.047400\n",
            "Train Epoch: 18 [27520/60000 (51%)]\tLoss: 0.002455\n",
            "Train Epoch: 18 [28160/60000 (52%)]\tLoss: 0.002528\n",
            "Train Epoch: 18 [28800/60000 (53%)]\tLoss: 0.023757\n",
            "Train Epoch: 18 [29440/60000 (55%)]\tLoss: 0.012260\n",
            "Train Epoch: 18 [30080/60000 (56%)]\tLoss: 0.002989\n",
            "Train Epoch: 18 [30720/60000 (57%)]\tLoss: 0.051860\n",
            "Train Epoch: 18 [31360/60000 (58%)]\tLoss: 0.000489\n",
            "Train Epoch: 18 [32000/60000 (59%)]\tLoss: 0.024646\n",
            "Train Epoch: 18 [32640/60000 (60%)]\tLoss: 0.000246\n",
            "Train Epoch: 18 [33280/60000 (62%)]\tLoss: 0.007158\n",
            "Train Epoch: 18 [33920/60000 (63%)]\tLoss: 0.001061\n",
            "Train Epoch: 18 [34560/60000 (64%)]\tLoss: 0.003925\n",
            "Train Epoch: 18 [35200/60000 (65%)]\tLoss: 0.008344\n",
            "Train Epoch: 18 [35840/60000 (66%)]\tLoss: 0.000024\n",
            "Train Epoch: 18 [36480/60000 (68%)]\tLoss: 0.012444\n",
            "Train Epoch: 18 [37120/60000 (69%)]\tLoss: 0.000025\n",
            "Train Epoch: 18 [37760/60000 (70%)]\tLoss: 0.001525\n",
            "Train Epoch: 18 [38400/60000 (71%)]\tLoss: 0.000070\n",
            "Train Epoch: 18 [39040/60000 (72%)]\tLoss: 0.000150\n",
            "Train Epoch: 18 [39680/60000 (73%)]\tLoss: 0.000028\n",
            "Train Epoch: 18 [40320/60000 (75%)]\tLoss: 0.020391\n",
            "Train Epoch: 18 [40960/60000 (76%)]\tLoss: 0.017464\n",
            "Train Epoch: 18 [41600/60000 (77%)]\tLoss: 0.001818\n",
            "Train Epoch: 18 [42240/60000 (78%)]\tLoss: 0.000456\n",
            "Train Epoch: 18 [42880/60000 (79%)]\tLoss: 0.000030\n",
            "Train Epoch: 18 [43520/60000 (81%)]\tLoss: 0.001493\n",
            "Train Epoch: 18 [44160/60000 (82%)]\tLoss: 0.059536\n",
            "Train Epoch: 18 [44800/60000 (83%)]\tLoss: 0.000096\n",
            "Train Epoch: 18 [45440/60000 (84%)]\tLoss: 0.059916\n",
            "Train Epoch: 18 [46080/60000 (85%)]\tLoss: 0.000130\n",
            "Train Epoch: 18 [46720/60000 (86%)]\tLoss: 0.001771\n",
            "Train Epoch: 18 [47360/60000 (88%)]\tLoss: 0.000062\n",
            "Train Epoch: 18 [48000/60000 (89%)]\tLoss: 0.000025\n",
            "Train Epoch: 18 [48640/60000 (90%)]\tLoss: 0.063668\n",
            "Train Epoch: 18 [49280/60000 (91%)]\tLoss: 0.000060\n",
            "Train Epoch: 18 [49920/60000 (92%)]\tLoss: 0.000114\n",
            "Train Epoch: 18 [50560/60000 (94%)]\tLoss: 0.000462\n",
            "Train Epoch: 18 [51200/60000 (95%)]\tLoss: 0.000190\n",
            "Train Epoch: 18 [51840/60000 (96%)]\tLoss: 0.000369\n",
            "Train Epoch: 18 [52480/60000 (97%)]\tLoss: 0.009116\n",
            "Train Epoch: 18 [53120/60000 (98%)]\tLoss: 0.000138\n",
            "Train Epoch: 18 [53760/60000 (100%)]\tLoss: 0.000341\n",
            "\n",
            " Validation set: Average loss: 0.0694, Accuracy: 5905/6000 (98%)\n",
            "\n",
            "Validation  set Accuracy over the epochs [0.9698333144187927, 0.9833333492279053, 0.98416668176651, 0.9883333444595337, 0.9860000014305115, 0.9831666946411133, 0.9865000247955322, 0.987333357334137, 0.9869999885559082, 0.9886666536331177, 0.9871666431427002, 0.9883333444595337, 0.987333357334137, 0.9856666922569275, 0.9863333106040955, 0.9854999780654907, 0.9858333468437195, 0.98416668176651]\n",
            "Train Epoch: 19 [0/60000 (0%)]\tLoss: 0.116898\n",
            "Train Epoch: 19 [640/60000 (1%)]\tLoss: 0.002583\n",
            "Train Epoch: 19 [1280/60000 (2%)]\tLoss: 0.246916\n",
            "Train Epoch: 19 [1920/60000 (4%)]\tLoss: 0.000017\n",
            "Train Epoch: 19 [2560/60000 (5%)]\tLoss: 0.000350\n",
            "Train Epoch: 19 [3200/60000 (6%)]\tLoss: 0.000405\n",
            "Train Epoch: 19 [3840/60000 (7%)]\tLoss: 0.001930\n",
            "Train Epoch: 19 [4480/60000 (8%)]\tLoss: 0.000011\n",
            "Train Epoch: 19 [5120/60000 (9%)]\tLoss: 0.000020\n",
            "Train Epoch: 19 [5760/60000 (11%)]\tLoss: 0.000145\n",
            "Train Epoch: 19 [6400/60000 (12%)]\tLoss: 0.000386\n",
            "Train Epoch: 19 [7040/60000 (13%)]\tLoss: 0.038128\n",
            "Train Epoch: 19 [7680/60000 (14%)]\tLoss: 0.001238\n",
            "Train Epoch: 19 [8320/60000 (15%)]\tLoss: 0.001383\n",
            "Train Epoch: 19 [8960/60000 (17%)]\tLoss: 0.000489\n",
            "Train Epoch: 19 [9600/60000 (18%)]\tLoss: 0.000821\n",
            "Train Epoch: 19 [10240/60000 (19%)]\tLoss: 0.007659\n",
            "Train Epoch: 19 [10880/60000 (20%)]\tLoss: 0.002124\n",
            "Train Epoch: 19 [11520/60000 (21%)]\tLoss: 0.005082\n",
            "Train Epoch: 19 [12160/60000 (23%)]\tLoss: 0.000513\n",
            "Train Epoch: 19 [12800/60000 (24%)]\tLoss: 0.011440\n",
            "Train Epoch: 19 [13440/60000 (25%)]\tLoss: 0.012656\n",
            "Train Epoch: 19 [14080/60000 (26%)]\tLoss: 0.000002\n",
            "Train Epoch: 19 [14720/60000 (27%)]\tLoss: 0.016719\n",
            "Train Epoch: 19 [15360/60000 (28%)]\tLoss: 0.002170\n",
            "Train Epoch: 19 [16000/60000 (30%)]\tLoss: 0.063945\n",
            "Train Epoch: 19 [16640/60000 (31%)]\tLoss: 0.001433\n",
            "Train Epoch: 19 [17280/60000 (32%)]\tLoss: 0.000076\n",
            "Train Epoch: 19 [17920/60000 (33%)]\tLoss: 0.000637\n",
            "Train Epoch: 19 [18560/60000 (34%)]\tLoss: 0.000031\n",
            "Train Epoch: 19 [19200/60000 (36%)]\tLoss: 0.005244\n",
            "Train Epoch: 19 [19840/60000 (37%)]\tLoss: 0.000016\n",
            "Train Epoch: 19 [20480/60000 (38%)]\tLoss: 0.001208\n",
            "Train Epoch: 19 [21120/60000 (39%)]\tLoss: 0.037551\n",
            "Train Epoch: 19 [21760/60000 (40%)]\tLoss: 0.044589\n",
            "Train Epoch: 19 [22400/60000 (41%)]\tLoss: 0.004720\n",
            "Train Epoch: 19 [23040/60000 (43%)]\tLoss: 0.002262\n",
            "Train Epoch: 19 [23680/60000 (44%)]\tLoss: 0.000060\n",
            "Train Epoch: 19 [24320/60000 (45%)]\tLoss: 0.077946\n",
            "Train Epoch: 19 [24960/60000 (46%)]\tLoss: 0.007387\n",
            "Train Epoch: 19 [25600/60000 (47%)]\tLoss: 0.000292\n",
            "Train Epoch: 19 [26240/60000 (49%)]\tLoss: 0.044493\n",
            "Train Epoch: 19 [26880/60000 (50%)]\tLoss: 0.001642\n",
            "Train Epoch: 19 [27520/60000 (51%)]\tLoss: 0.042038\n",
            "Train Epoch: 19 [28160/60000 (52%)]\tLoss: 0.000037\n",
            "Train Epoch: 19 [28800/60000 (53%)]\tLoss: 0.128878\n",
            "Train Epoch: 19 [29440/60000 (55%)]\tLoss: 0.003850\n",
            "Train Epoch: 19 [30080/60000 (56%)]\tLoss: 0.032169\n",
            "Train Epoch: 19 [30720/60000 (57%)]\tLoss: 0.009671\n",
            "Train Epoch: 19 [31360/60000 (58%)]\tLoss: 0.001376\n",
            "Train Epoch: 19 [32000/60000 (59%)]\tLoss: 0.000063\n",
            "Train Epoch: 19 [32640/60000 (60%)]\tLoss: 0.040811\n",
            "Train Epoch: 19 [33280/60000 (62%)]\tLoss: 0.000365\n",
            "Train Epoch: 19 [33920/60000 (63%)]\tLoss: 0.000253\n",
            "Train Epoch: 19 [34560/60000 (64%)]\tLoss: 0.002517\n",
            "Train Epoch: 19 [35200/60000 (65%)]\tLoss: 0.000963\n",
            "Train Epoch: 19 [35840/60000 (66%)]\tLoss: 0.071815\n",
            "Train Epoch: 19 [36480/60000 (68%)]\tLoss: 0.000040\n",
            "Train Epoch: 19 [37120/60000 (69%)]\tLoss: 0.000468\n",
            "Train Epoch: 19 [37760/60000 (70%)]\tLoss: 0.000259\n",
            "Train Epoch: 19 [38400/60000 (71%)]\tLoss: 0.000781\n",
            "Train Epoch: 19 [39040/60000 (72%)]\tLoss: 0.002348\n",
            "Train Epoch: 19 [39680/60000 (73%)]\tLoss: 0.010773\n",
            "Train Epoch: 19 [40320/60000 (75%)]\tLoss: 0.001111\n",
            "Train Epoch: 19 [40960/60000 (76%)]\tLoss: 0.006336\n",
            "Train Epoch: 19 [41600/60000 (77%)]\tLoss: 0.001261\n",
            "Train Epoch: 19 [42240/60000 (78%)]\tLoss: 0.047637\n",
            "Train Epoch: 19 [42880/60000 (79%)]\tLoss: 0.002371\n",
            "Train Epoch: 19 [43520/60000 (81%)]\tLoss: 0.008505\n",
            "Train Epoch: 19 [44160/60000 (82%)]\tLoss: 0.000028\n",
            "Train Epoch: 19 [44800/60000 (83%)]\tLoss: 0.041018\n",
            "Train Epoch: 19 [45440/60000 (84%)]\tLoss: 0.000106\n",
            "Train Epoch: 19 [46080/60000 (85%)]\tLoss: 0.003553\n",
            "Train Epoch: 19 [46720/60000 (86%)]\tLoss: 0.096047\n",
            "Train Epoch: 19 [47360/60000 (88%)]\tLoss: 0.001018\n",
            "Train Epoch: 19 [48000/60000 (89%)]\tLoss: 0.000170\n",
            "Train Epoch: 19 [48640/60000 (90%)]\tLoss: 0.000519\n",
            "Train Epoch: 19 [49280/60000 (91%)]\tLoss: 0.008123\n",
            "Train Epoch: 19 [49920/60000 (92%)]\tLoss: 0.003357\n",
            "Train Epoch: 19 [50560/60000 (94%)]\tLoss: 0.000111\n",
            "Train Epoch: 19 [51200/60000 (95%)]\tLoss: 0.064792\n",
            "Train Epoch: 19 [51840/60000 (96%)]\tLoss: 0.002095\n",
            "Train Epoch: 19 [52480/60000 (97%)]\tLoss: 0.001444\n",
            "Train Epoch: 19 [53120/60000 (98%)]\tLoss: 0.001029\n",
            "Train Epoch: 19 [53760/60000 (100%)]\tLoss: 0.012882\n",
            "\n",
            " Validation set: Average loss: 0.0642, Accuracy: 5925/6000 (99%)\n",
            "\n",
            "Validation  set Accuracy over the epochs [0.9698333144187927, 0.9833333492279053, 0.98416668176651, 0.9883333444595337, 0.9860000014305115, 0.9831666946411133, 0.9865000247955322, 0.987333357334137, 0.9869999885559082, 0.9886666536331177, 0.9871666431427002, 0.9883333444595337, 0.987333357334137, 0.9856666922569275, 0.9863333106040955, 0.9854999780654907, 0.9858333468437195, 0.98416668176651, 0.987500011920929]\n",
            "Train Epoch: 20 [0/60000 (0%)]\tLoss: 0.001089\n",
            "Train Epoch: 20 [640/60000 (1%)]\tLoss: 0.013059\n",
            "Train Epoch: 20 [1280/60000 (2%)]\tLoss: 0.006329\n",
            "Train Epoch: 20 [1920/60000 (4%)]\tLoss: 0.000097\n",
            "Train Epoch: 20 [2560/60000 (5%)]\tLoss: 0.008566\n",
            "Train Epoch: 20 [3200/60000 (6%)]\tLoss: 0.000295\n",
            "Train Epoch: 20 [3840/60000 (7%)]\tLoss: 0.000736\n",
            "Train Epoch: 20 [4480/60000 (8%)]\tLoss: 0.000163\n",
            "Train Epoch: 20 [5120/60000 (9%)]\tLoss: 0.001916\n",
            "Train Epoch: 20 [5760/60000 (11%)]\tLoss: 0.033534\n",
            "Train Epoch: 20 [6400/60000 (12%)]\tLoss: 0.007923\n",
            "Train Epoch: 20 [7040/60000 (13%)]\tLoss: 0.000366\n",
            "Train Epoch: 20 [7680/60000 (14%)]\tLoss: 0.103191\n",
            "Train Epoch: 20 [8320/60000 (15%)]\tLoss: 0.000115\n",
            "Train Epoch: 20 [8960/60000 (17%)]\tLoss: 0.000340\n",
            "Train Epoch: 20 [9600/60000 (18%)]\tLoss: 0.000436\n",
            "Train Epoch: 20 [10240/60000 (19%)]\tLoss: 0.010541\n",
            "Train Epoch: 20 [10880/60000 (20%)]\tLoss: 0.001351\n",
            "Train Epoch: 20 [11520/60000 (21%)]\tLoss: 0.000491\n",
            "Train Epoch: 20 [12160/60000 (23%)]\tLoss: 0.000264\n",
            "Train Epoch: 20 [12800/60000 (24%)]\tLoss: 0.038552\n",
            "Train Epoch: 20 [13440/60000 (25%)]\tLoss: 0.000183\n",
            "Train Epoch: 20 [14080/60000 (26%)]\tLoss: 0.000021\n",
            "Train Epoch: 20 [14720/60000 (27%)]\tLoss: 0.004103\n",
            "Train Epoch: 20 [15360/60000 (28%)]\tLoss: 0.002907\n",
            "Train Epoch: 20 [16000/60000 (30%)]\tLoss: 0.000477\n",
            "Train Epoch: 20 [16640/60000 (31%)]\tLoss: 0.000175\n",
            "Train Epoch: 20 [17280/60000 (32%)]\tLoss: 0.000417\n",
            "Train Epoch: 20 [17920/60000 (33%)]\tLoss: 0.001374\n",
            "Train Epoch: 20 [18560/60000 (34%)]\tLoss: 0.001643\n",
            "Train Epoch: 20 [19200/60000 (36%)]\tLoss: 0.003401\n",
            "Train Epoch: 20 [19840/60000 (37%)]\tLoss: 0.000054\n",
            "Train Epoch: 20 [20480/60000 (38%)]\tLoss: 0.001836\n",
            "Train Epoch: 20 [21120/60000 (39%)]\tLoss: 0.004241\n",
            "Train Epoch: 20 [21760/60000 (40%)]\tLoss: 0.000477\n",
            "Train Epoch: 20 [22400/60000 (41%)]\tLoss: 0.000035\n",
            "Train Epoch: 20 [23040/60000 (43%)]\tLoss: 0.002280\n",
            "Train Epoch: 20 [23680/60000 (44%)]\tLoss: 0.010933\n",
            "Train Epoch: 20 [24320/60000 (45%)]\tLoss: 0.000046\n",
            "Train Epoch: 20 [24960/60000 (46%)]\tLoss: 0.000013\n",
            "Train Epoch: 20 [25600/60000 (47%)]\tLoss: 0.002099\n",
            "Train Epoch: 20 [26240/60000 (49%)]\tLoss: 0.020365\n",
            "Train Epoch: 20 [26880/60000 (50%)]\tLoss: 0.002144\n",
            "Train Epoch: 20 [27520/60000 (51%)]\tLoss: 0.002167\n",
            "Train Epoch: 20 [28160/60000 (52%)]\tLoss: 0.000596\n",
            "Train Epoch: 20 [28800/60000 (53%)]\tLoss: 0.004728\n",
            "Train Epoch: 20 [29440/60000 (55%)]\tLoss: 0.020729\n",
            "Train Epoch: 20 [30080/60000 (56%)]\tLoss: 0.000009\n",
            "Train Epoch: 20 [30720/60000 (57%)]\tLoss: 0.001087\n",
            "Train Epoch: 20 [31360/60000 (58%)]\tLoss: 0.004919\n",
            "Train Epoch: 20 [32000/60000 (59%)]\tLoss: 0.008909\n",
            "Train Epoch: 20 [32640/60000 (60%)]\tLoss: 0.000973\n",
            "Train Epoch: 20 [33280/60000 (62%)]\tLoss: 0.000022\n",
            "Train Epoch: 20 [33920/60000 (63%)]\tLoss: 0.000062\n",
            "Train Epoch: 20 [34560/60000 (64%)]\tLoss: 0.000063\n",
            "Train Epoch: 20 [35200/60000 (65%)]\tLoss: 0.000023\n",
            "Train Epoch: 20 [35840/60000 (66%)]\tLoss: 0.041071\n",
            "Train Epoch: 20 [36480/60000 (68%)]\tLoss: 0.000268\n",
            "Train Epoch: 20 [37120/60000 (69%)]\tLoss: 0.000596\n",
            "Train Epoch: 20 [37760/60000 (70%)]\tLoss: 0.004739\n",
            "Train Epoch: 20 [38400/60000 (71%)]\tLoss: 0.001021\n",
            "Train Epoch: 20 [39040/60000 (72%)]\tLoss: 0.011106\n",
            "Train Epoch: 20 [39680/60000 (73%)]\tLoss: 0.000983\n",
            "Train Epoch: 20 [40320/60000 (75%)]\tLoss: 0.006587\n",
            "Train Epoch: 20 [40960/60000 (76%)]\tLoss: 0.016335\n",
            "Train Epoch: 20 [41600/60000 (77%)]\tLoss: 0.004742\n",
            "Train Epoch: 20 [42240/60000 (78%)]\tLoss: 0.000515\n",
            "Train Epoch: 20 [42880/60000 (79%)]\tLoss: 0.000083\n",
            "Train Epoch: 20 [43520/60000 (81%)]\tLoss: 0.008333\n",
            "Train Epoch: 20 [44160/60000 (82%)]\tLoss: 0.000008\n",
            "Train Epoch: 20 [44800/60000 (83%)]\tLoss: 0.000069\n",
            "Train Epoch: 20 [45440/60000 (84%)]\tLoss: 0.002697\n",
            "Train Epoch: 20 [46080/60000 (85%)]\tLoss: 0.001569\n",
            "Train Epoch: 20 [46720/60000 (86%)]\tLoss: 0.002794\n",
            "Train Epoch: 20 [47360/60000 (88%)]\tLoss: 0.001633\n",
            "Train Epoch: 20 [48000/60000 (89%)]\tLoss: 0.001838\n",
            "Train Epoch: 20 [48640/60000 (90%)]\tLoss: 0.043500\n",
            "Train Epoch: 20 [49280/60000 (91%)]\tLoss: 0.044005\n",
            "Train Epoch: 20 [49920/60000 (92%)]\tLoss: 0.000102\n",
            "Train Epoch: 20 [50560/60000 (94%)]\tLoss: 0.002604\n",
            "Train Epoch: 20 [51200/60000 (95%)]\tLoss: 0.000051\n",
            "Train Epoch: 20 [51840/60000 (96%)]\tLoss: 0.001945\n",
            "Train Epoch: 20 [52480/60000 (97%)]\tLoss: 0.002015\n",
            "Train Epoch: 20 [53120/60000 (98%)]\tLoss: 0.000046\n",
            "Train Epoch: 20 [53760/60000 (100%)]\tLoss: 0.004387\n",
            "\n",
            " Validation set: Average loss: 0.0672, Accuracy: 5915/6000 (99%)\n",
            "\n",
            "Validation  set Accuracy over the epochs [0.9698333144187927, 0.9833333492279053, 0.98416668176651, 0.9883333444595337, 0.9860000014305115, 0.9831666946411133, 0.9865000247955322, 0.987333357334137, 0.9869999885559082, 0.9886666536331177, 0.9871666431427002, 0.9883333444595337, 0.987333357334137, 0.9856666922569275, 0.9863333106040955, 0.9854999780654907, 0.9858333468437195, 0.98416668176651, 0.987500011920929, 0.9858333468437195]\n"
          ]
        }
      ]
    },
    {
      "cell_type": "markdown",
      "metadata": {
        "id": "aISdfCpb01FN"
      },
      "source": [
        "### 2.2.5: Evaluation\n",
        "\n",
        "Evaluate our model.\n",
        "\n",
        "  * Loss curves: Plot epoch (# passes over training data) and loss\n",
        "  * Accuracy curves: Plot epoch and accuracy over val/test set\n",
        "  * Final numbers: Report final accuracy numbers for our model"
      ]
    },
    {
      "cell_type": "code",
      "metadata": {
        "colab": {
          "base_uri": "https://localhost:8080/",
          "height": 513
        },
        "id": "urtpEDvx01FN",
        "outputId": "b682b62d-dc19-4fcd-d77e-cfaa43b11e66"
      },
      "source": [
        "# Here plot epoch (# passes over training data) and loss\n",
        "plt.title(\"Training Data Epoch-Loss curve\")\n",
        "plt.xlabel('Epoch')\n",
        "plt.ylabel('Loss')\n",
        "plt.plot(Epoch,Loss)\n",
        "plt.show()"
      ],
      "execution_count": null,
      "outputs": [
        {
          "data": {
            "image/png": "[encoded data removed]",
            "text/plain": [
              "<Figure size 720x576 with 1 Axes>"
            ]
          },
          "metadata": {
            "needs_background": "light"
          },
          "output_type": "display_data"
        }
      ]
    },
    {
      "cell_type": "code",
      "metadata": {
        "colab": {
          "base_uri": "https://localhost:8080/",
          "height": 513
        },
        "id": "bAiMSqqs01FN",
        "outputId": "9f9c35e5-16ed-48da-9844-1a8dfc632a4b"
      },
      "source": [
        "# Here plot epoch and accuracy over val/test set\n",
        "plt.title(\"Validation Set Epoch-Accuracy curve\")\n",
        "plt.xlabel('Epoch')\n",
        "plt.ylabel('Accuracy')\n",
        "plt.plot(Epoch,Accuracy[:epochs])\n",
        "plt.show()"
      ],
      "execution_count": null,
      "outputs": [
        {
          "data": {
            "image/png": "[encoded data removed]",
            "text/plain": [
              "<Figure size 720x576 with 1 Axes>"
            ]
          },
          "metadata": {
            "needs_background": "light"
          },
          "output_type": "display_data"
        }
      ]
    },
    {
      "cell_type": "code",
      "metadata": {
        "id": "FzQvt7IF01FN"
      },
      "source": [
        "# Example:\n",
        "# net = Net()\n",
        "best_model = torch.load('best_model.pt')"
      ],
      "execution_count": null,
      "outputs": []
    },
    {
      "cell_type": "code",
      "metadata": {
        "colab": {
          "base_uri": "https://localhost:8080/"
        },
        "id": "9uqb6kmtHIh-",
        "outputId": "81343c1e-ee66-420e-d347-e7de176be58d"
      },
      "source": [
        "# Here report the score for the best model\n",
        "# Using model with the lowest validation set loss on test data\n",
        "test(best_model, test_loader, 'Test')"
      ],
      "execution_count": null,
      "outputs": [
        {
          "name": "stderr",
          "output_type": "stream",
          "text": [
            "/usr/local/lib/python3.7/dist-packages/ipykernel_launcher.py:6: UserWarning: volatile was removed and now has no effect. Use `with torch.no_grad():` instead.\n",
            "  \n",
            "/usr/local/lib/python3.7/dist-packages/torch/nn/_reduction.py:42: UserWarning: size_average and reduce args will be deprecated, please use reduction='sum' instead.\n",
            "  warnings.warn(warning.format(ret))\n"
          ]
        },
        {
          "name": "stdout",
          "output_type": "stream",
          "text": [
            "\n",
            " Test set: Average loss: 0.0418, Accuracy: 9874/10000 (99%)\n",
            "\n",
            "Test  set Accuracy over the epochs [0.9698333144187927, 0.9833333492279053, 0.98416668176651, 0.9883333444595337, 0.9860000014305115, 0.9831666946411133, 0.9865000247955322, 0.987333357334137, 0.9869999885559082, 0.9886666536331177, 0.9871666431427002, 0.9883333444595337, 0.987333357334137, 0.9856666922569275, 0.9863333106040955, 0.9854999780654907, 0.9858333468437195, 0.98416668176651, 0.987500011920929, 0.9858333468437195, 0.9873999953269958]\n"
          ]
        },
        {
          "data": {
            "text/plain": [
              "0.04184691333770752"
            ]
          },
          "execution_count": 37,
          "metadata": {},
          "output_type": "execute_result"
        }
      ]
    },
    {
      "cell_type": "code",
      "metadata": {
        "colab": {
          "base_uri": "https://localhost:8080/",
          "height": 585
        },
        "id": "6OZLqB-rDvYT",
        "outputId": "573756fa-74e3-4022-ce11-e02dcac5615a"
      },
      "source": [
        "# Visualize the predictions\n",
        "# Example: vis_predictions(x_eval, y_pred, size_of_data)\n",
        "for data, target in test_loader:\n",
        "  x_eval = torch.squeeze(data)\n",
        "  n_val=len(data)\n",
        "  output = model(data)\n",
        "  pred = output.data.max(1, keepdim=True)[1]\n",
        "vis_predictions(x_eval.numpy(), pred.numpy(), n_val)"
      ],
      "execution_count": null,
      "outputs": [
        {
          "data": {
            "image/png": "[encoded data removed]",
            "text/plain": [
              "<Figure size 720x576 with 12 Axes>"
            ]
          },
          "metadata": {
            "needs_background": "light"
          },
          "output_type": "display_data"
        }
      ]
    },
    {
      "cell_type": "markdown",
      "metadata": {
        "id": "SPMall2f01FN"
      },
      "source": [
        "### 2.3.6: Summary\n",
        "\n",
        "Summarize our findings:\n",
        " * Which hyper-parameters were important and how did they influence our results?\n",
        " * What were other design choices we faced?\n",
        " * other interesting insights..."
      ]
    },
    {
      "cell_type": "markdown",
      "metadata": {
        "id": "sQKsbipnGXFS"
      },
      "source": [
        "### Solution:- \n",
        "The explaination of the model 3 is given in the comments alongside with the code.\n",
        " * Learning Rate,Number of Epochs, Activations Functions and Batch size are the main hyperparameters in the CNN model that we have used. Learning rate controls the step size for a model to reach the minimum loss function. A higher learning rate makes the model learn faster, but it may miss the minimum loss function and only reach the surrounding of it. A lower learning rate gives a better chance to find a minimum loss function. As a tradeoff lower learning rate needs higher epochs, or more time and memory capacity resources.Hence we choose a learning rate that is not too low or high hence we chose 0.1 as it is ideal for SGD.The activation function decides how to compute the input values of a layer into output values. The output values of a layer are then passed to the next layer as input values again. Therefore ReLu  overcomes the vanishing gradient problem, allowing models to learn faster and perform better. The rectified linear activation is the default activation when developing multilayer Perceptron and convolutional neural networks.To make the model learn faster, we assign batch size so that not all of the training data are given to the model at the same time. Batch size is the number of training data sub-samples for the input.Our training batch size is 64 and our test batch size is 1000.The smaller batch size makes the learning process faster, but the variance of the validation dataset accuracy is higher. A bigger batch size has a slower learning process, but the validation dataset accuracy has a lower variance.Hence, to best fit our model, we used small batch size for training to learn the model and set it high for testing.\n",
        " * There is no generic way to determine a best number of neurons and number of layers for a neural network, given just a problem description.The most common approach seems to be to start with a rough guess based on prior experience about networks used on similar problems.\n",
        " * Here, we tried to implement MLP but including the structure of LeNet5 which is one of the oldest classic architectures, gave us far better results because it was one of the earliest architecture used for recognizing the handwritten and machine-printed characters. "
      ]
    },
    {
      "cell_type": "markdown",
      "metadata": {
        "id": "Ex3qQp3JolD1"
      },
      "source": [
        "# 3. Summary \n",
        "\n",
        "Our final summary here.\n",
        "\n",
        "comparing performance  on the three models [M1], [M2] and [M3]. \n",
        "Which model do we recommend to perform digit classification and why?\n",
        "\n"
      ]
    },
    {
      "cell_type": "markdown",
      "metadata": {
        "id": "idj8kbfhafJM"
      },
      "source": [
        "### Comparision:\n",
        "\n",
        "\n",
        "On seeing the above results, we can conclude that Neural Networks work better on Digit classification problems. Most standard implementations of neural networks achieve an accuracy of ~(98–99) percent in correctly classifying the handwritten digits.Beyond this number, every single decimal increase in the accuracy percentage is hard but we still are at the max. expectation of the results. when taken a look at svm, we have an accuracy of appr. 93% and at last, we have KNN with the least having appr. 90% accuracy comparitively. KNN works well with a small number of input variables, but struggles when the number of inputs is very large hence it is advised to be used when the data is less that 40,000/50,000. Whereas in SVM, SVM take cares of outliers better than KNN hence having a slight improvement in the results but again, normal SVM is not suitable for classification of large data sets, because the training complexity of SVM is highly dependent on the size of data set. In Neural Networks, there is a lot of freedom to choose and work the models out. Any basic simple NN could give us a better result than KNN and SVM according to our findings. Also, not to mention that LeNet5 which is one of the oldest classic architectures, gave us far better results because it was one of the earliest architecture used for recognizing the handwritten and machine-printed characters gives results beyond expectation for a network that simple and easy."
      ]
    },
    {
      "cell_type": "code",
      "metadata": {
        "id": "GQChYKToafJM"
      },
      "source": [
        ""
      ],
      "execution_count": null,
      "outputs": []
    }
  ]
}